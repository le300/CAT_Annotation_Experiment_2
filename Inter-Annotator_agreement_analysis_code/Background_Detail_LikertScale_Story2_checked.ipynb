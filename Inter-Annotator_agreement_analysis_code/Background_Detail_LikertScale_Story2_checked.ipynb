{
 "cells": [
  {
   "cell_type": "markdown",
   "metadata": {},
   "source": [
    "# Background Detail Likert Scale - Story 2"
   ]
  },
  {
   "cell_type": "markdown",
   "metadata": {},
   "source": [
    "This notebook assesses inter-annotator agreement for the background detail/information amount score. \n",
    "It imports JSON files to perform a number of statistical tests to assess inter-annotator agreement. "
   ]
  },
  {
   "cell_type": "markdown",
   "metadata": {},
   "source": [
    "##### Imports and packages"
   ]
  },
  {
   "cell_type": "code",
   "execution_count": 1,
   "metadata": {},
   "outputs": [],
   "source": [
    "# Imports and Packages:\n",
    "\n",
    "import json # json library\n",
    "import os # for list directories \n",
    "\n",
    "from collections import Counter # counter library\n",
    "import re # regex\n",
    "\n",
    "import numpy as np \n",
    "import math\n",
    "import matplotlib.pyplot as plt\n",
    "\n",
    "import itertools\n",
    "from itertools import permutations # library to print permutations\n",
    "from itertools import combinations # library to print combinations\n",
    "\n",
    "import sklearn # sklearn for inter-annotation kappa scores\n",
    "from sklearn.metrics import cohen_kappa_score\n",
    "import statsmodels\n",
    "from statsmodels.stats.inter_rater import fleiss_kappa\n",
    "\n",
    "import krippendorff #import for Fleiss Kappa inter-annotator agreement for more than 2 annotators\n",
    "\n",
    "import scipy.stats\n",
    "from scipy.stats import mode \n",
    "from scipy.stats import zscore # normalise data\n",
    "from scipy.stats import mannwhitneyu # for Mann-Whitney U test\n",
    "from scipy.stats import ttest_ind # independent t-test\n",
    "from scipy.stats import spearmanr # spearmans rank\n",
    "from scipy.stats import pearsonr # pearson's r\n"
   ]
  },
  {
   "cell_type": "markdown",
   "metadata": {},
   "source": [
    "##### Import JSON data"
   ]
  },
  {
   "cell_type": "code",
   "execution_count": 2,
   "metadata": {},
   "outputs": [],
   "source": [
    "# Import JSON data from Prolific Study\n",
    "\n",
    "path_to_jsonFiles = \"Annotations_Prolific/Background_Detail_LikertScale_Story2/Processed_Data\" # This is the folder with the json data files\n",
    "corpus = {} # init a dict to hold each json data file\n",
    "participantNum = 1 # init a participant num counter\n",
    "\n",
    "for file in sorted(os.listdir(path_to_jsonFiles)):\n",
    "    if file.endswith('.json'): # check that the file has a json extension (to circumvent hidden .DS_store files)\n",
    "        full_file_name = \"%s/%s\" % (path_to_jsonFiles, file)\n",
    "        with open(full_file_name, 'r') as fi:\n",
    "            storyName = \"participant\" + str(participantNum)\n",
    "            story_data = json.load(fi)\n",
    "            corpus[storyName] = story_data\n",
    "        participantNum += 1\n",
    "    \n",
    "# all_stories holds all the json data files, with key \"storyN\" and value is the read in json file\n"
   ]
  },
  {
   "cell_type": "code",
   "execution_count": 3,
   "metadata": {},
   "outputs": [],
   "source": [
    "# check that the data was read in correctly\n",
    "# corpus['participant1']\n"
   ]
  },
  {
   "cell_type": "markdown",
   "metadata": {},
   "source": [
    "##### Get annotator pair combinations as pairs of names in a list"
   ]
  },
  {
   "cell_type": "code",
   "execution_count": 4,
   "metadata": {},
   "outputs": [],
   "source": [
    "# Combinations of annotators:\n",
    "# Function to get the combinations of all participants\n",
    "\n",
    "def get_combinations_of_annotators(all_annotation_data):\n",
    "    \"\"\"\n",
    "    Takes: a dict containing all annotation data - this is the input of reading in all json files,\n",
    "            as is done above.\n",
    "    Returns: a list of tuples containing pairs of strings that indicate annotators. In other words, a list of \n",
    "            annotator pairs.\n",
    "    \"\"\"\n",
    "    annotators = [] # init a list to store annotators\n",
    "    annotator_pairs = [] # init a list to store all combination pairs\n",
    "    \n",
    "    for annotator, annotation_data in all_annotation_data.items():\n",
    "        annotators.append(annotator)\n",
    "     \n",
    "    combs = itertools.combinations(annotators, 2) # get annotator combinations in sets of two\n",
    "    \n",
    "    for ann in list(combs):\n",
    "        annotator_pairs.append(ann)\n",
    "    \n",
    "    return annotator_pairs\n"
   ]
  },
  {
   "cell_type": "code",
   "execution_count": 5,
   "metadata": {},
   "outputs": [],
   "source": [
    "# Get all annotator combinations\n",
    "combinations_all_participants = get_combinations_of_annotators(corpus)\n"
   ]
  },
  {
   "cell_type": "code",
   "execution_count": 6,
   "metadata": {},
   "outputs": [],
   "source": [
    "#print(combinations_all_participants)"
   ]
  },
  {
   "cell_type": "code",
   "execution_count": 7,
   "metadata": {},
   "outputs": [],
   "source": [
    "# get a list of all values per participant, put in a dict \"background_values\"\n",
    "\n",
    "background_values = {}\n",
    "\n",
    "for participant, story_info in corpus.items():\n",
    "    values = [] # init values list\n",
    "    for page, page_info in story_info.items():\n",
    "        for panel, panel_info in page_info.items():\n",
    "            background_info = panel_info[\"background/setting\"]\n",
    "            value = float(background_info[\"information_amount\"])\n",
    "            values.append(value)\n",
    "    \n",
    "    background_values[participant] = values\n",
    "    \n",
    "#background_values    \n",
    "    "
   ]
  },
  {
   "cell_type": "code",
   "execution_count": 8,
   "metadata": {},
   "outputs": [],
   "source": [
    "# Get raw background values value per panel \n",
    "\n",
    "raw_value_per_panel = {}\n",
    "\n",
    "for participant, values in background_values.items():\n",
    "    panelNum = 0\n",
    "    for val in values:\n",
    "        panelName = panelNum + 1\n",
    "        if raw_value_per_panel.get(panelName) == None:\n",
    "            raw_value_per_panel[panelName] = []\n",
    "        if raw_value_per_panel.get(panelName) != None:\n",
    "            raw_value_per_panel[panelName].append(val)\n",
    "        panelNum += 1\n",
    "\n"
   ]
  },
  {
   "cell_type": "markdown",
   "metadata": {},
   "source": [
    "##### Store the annotation values per annotator in a dictionary and list of lists for easier analysis"
   ]
  },
  {
   "cell_type": "code",
   "execution_count": 9,
   "metadata": {},
   "outputs": [
    {
     "name": "stdout",
     "output_type": "stream",
     "text": [
      "9\n"
     ]
    }
   ],
   "source": [
    "# put all sets of background values into a list of lists\n",
    "\n",
    "list_of_lists_of_all_participant_values = []\n",
    "for participant, values_list in background_values.items():\n",
    "    #print(participant)\n",
    "    #print(values_list)\n",
    "    list_of_lists_of_all_participant_values.append(values_list)\n",
    "    \n",
    "print(len(list_of_lists_of_all_participant_values))\n"
   ]
  },
  {
   "cell_type": "markdown",
   "metadata": {},
   "source": [
    "### Krippendorff's Alpha"
   ]
  },
  {
   "cell_type": "markdown",
   "metadata": {},
   "source": [
    "##### Function to calculate Krippendorff's Alpha"
   ]
  },
  {
   "cell_type": "code",
   "execution_count": 10,
   "metadata": {},
   "outputs": [],
   "source": [
    "# Krippendorff's Alpha - Inter-rater agreement measure\n",
    "\n",
    "# Code from https://github.com/grrrr/krippendorff-alpha/blob/master/krippendorff_alpha.py\n",
    "\n",
    "def nominal_metric(a, b):\n",
    "    return a != b\n",
    "\n",
    "def interval_metric(a, b):\n",
    "    return (a-b)**2\n",
    "\n",
    "def ratio_metric(a, b):\n",
    "    return ((a-b)/(a+b))**2\n",
    "\n",
    "def krippendorff_alpha(data, metric=interval_metric, force_vecmath=False, convert_items=float, missing_items=None):\n",
    "    '''\n",
    "    Python implementation of Krippendorff's alpha -- inter-rater reliability\n",
    "    (c)2011-17 Thomas Grill (http://grrrr.org)\n",
    "    Python version >= 2.4 required\n",
    "\n",
    "    Calculate Krippendorff's alpha (inter-rater reliability):\n",
    "    \n",
    "    data is in the format\n",
    "    [\n",
    "        {unit1:value, unit2:value, ...},  # coder 1\n",
    "        {unit1:value, unit3:value, ...},   # coder 2\n",
    "        ...                            # more coders\n",
    "    ]\n",
    "    or it is a sequence of (masked) sequences (list, numpy.array, numpy.ma.array, e.g.) with rows corresponding to \n",
    "    coders and columns to items\n",
    "    \n",
    "    metric: function calculating the pairwise distance\n",
    "    force_vecmath: force vector math for custom metrics (numpy required)\n",
    "    convert_items: function for the type conversion of items (default: float)\n",
    "    missing_items: indicator for missing items (default: None)\n",
    "    '''\n",
    "    \n",
    "    # number of coders\n",
    "    m = len(data)\n",
    "    \n",
    "    # set of constants identifying missing values\n",
    "    if missing_items is None:\n",
    "        maskitems = []\n",
    "    else:\n",
    "        maskitems = list(missing_items)\n",
    "    if np is not None:\n",
    "        maskitems.append(np.ma.masked_singleton)\n",
    "    \n",
    "    # convert input data to a dict of items\n",
    "    units = {}\n",
    "    for d in data:\n",
    "        try:\n",
    "            # try if d behaves as a dict\n",
    "            diter = d.items()\n",
    "        except AttributeError:\n",
    "            # sequence assumed for d\n",
    "            diter = enumerate(d)\n",
    "            \n",
    "        for it, g in diter:\n",
    "            if g not in maskitems:\n",
    "                try:\n",
    "                    its = units[it]\n",
    "                except KeyError:\n",
    "                    its = []\n",
    "                    units[it] = its\n",
    "                its.append(convert_items(g))\n",
    "\n",
    "\n",
    "    units = dict((it, d) for it, d in units.items() if len(d) > 1)  # units with pairable values\n",
    "    n = sum(len(pv) for pv in units.values())  # number of pairable values\n",
    "    \n",
    "    if n == 0:\n",
    "        raise ValueError(\"No items to compare.\")\n",
    "    \n",
    "    np_metric = (np is not None) and ((metric in (interval_metric, nominal_metric, ratio_metric)) or force_vecmath)\n",
    "    \n",
    "    Do = 0.\n",
    "    for grades in units.values():\n",
    "        if np_metric:\n",
    "            gr = np.asarray(grades)\n",
    "            Du = sum(np.sum(metric(gr, gri)) for gri in gr)\n",
    "        else:\n",
    "            Du = sum(metric(gi, gj) for gi in grades for gj in grades)\n",
    "        Do += Du/float(len(grades)-1)\n",
    "    Do /= float(n)\n",
    "\n",
    "    if Do == 0:\n",
    "        return 1.\n",
    "\n",
    "    De = 0.\n",
    "    for g1 in units.values():\n",
    "        if np_metric:\n",
    "            d1 = np.asarray(g1)\n",
    "            for g2 in units.values():\n",
    "                De += sum(np.sum(metric(d1, gj)) for gj in g2)\n",
    "        else:\n",
    "            for g2 in units.values():\n",
    "                De += sum(metric(gi, gj) for gi in g1 for gj in g2)\n",
    "    De /= float(n*(n-1))\n",
    "\n",
    "    return 1.-Do/De if (Do and De) else 1.\n"
   ]
  },
  {
   "cell_type": "code",
   "execution_count": 11,
   "metadata": {},
   "outputs": [],
   "source": [
    "# no ordinal metric available in this function\n",
    "#kalpha = krippendorff_alpha(list_of_lists_of_all_participant_values, interval_metric) # get the k alpha for each ind agent\n",
    "#print(kalpha)\n"
   ]
  },
  {
   "cell_type": "markdown",
   "metadata": {},
   "source": [
    "##### Krippendorff's Alpha result for all-against-all annotators, using the Krippendorff 0.7.0 Python package"
   ]
  },
  {
   "cell_type": "code",
   "execution_count": 13,
   "metadata": {},
   "outputs": [
    {
     "name": "stdout",
     "output_type": "stream",
     "text": [
      "0.3603727261740116\n"
     ]
    }
   ],
   "source": [
    "# Better measure with ordinal weighting\n",
    "from krippendorff.krippendorff import alpha\n",
    "print(krippendorff.alpha(list_of_lists_of_all_participant_values, level_of_measurement=\"ordinal\"))\n"
   ]
  },
  {
   "cell_type": "markdown",
   "metadata": {},
   "source": [
    "##### Krippendorff's Alpha results for all individual annotator pairs"
   ]
  },
  {
   "cell_type": "code",
   "execution_count": 14,
   "metadata": {},
   "outputs": [
    {
     "name": "stdout",
     "output_type": "stream",
     "text": [
      "Pairwise KA values: \n",
      "\n",
      "[0.36398104265402853, -0.10174201132841709, -0.5204613095238093, 0.38058489033306264, 0.21640316205533605, 0.4077669902912622, -0.09232558139534897, 0.3914044512663085, 0.3772554605887939, -0.07447045707915279, 0.7579822406952579, 0.6985493384345608, 0.08955223880597019, 0.29575820469581005, 0.8097147950089126, 0.3482317531978931, 0.5240819723291376, 0.6625909752547308, -0.32391482391482374, 0.660046610598845, 0.3612565445026179, 0.05559465165376487, 0.19736842105263164, -0.5733079453003289, 0.003666666666666707, 0.031746031746031744, 0.8106570098292809, 0.0409950248756219, 0.5206555904804671, 0.7675998012257744, -0.07017543859649122, 0.41590341382181517, 0.7305116146501354, -0.3486279302299744, 0.014141414141414232, 0.2711463385780195]\n",
      "\n",
      "\n",
      "mean:  0.252781143112939\n",
      "std:  0.3688679681811318\n"
     ]
    }
   ],
   "source": [
    "KA_values = []\n",
    "for participant_pair in combinations_all_participants:\n",
    "    ann1 = participant_pair[0]\n",
    "    ann2 = participant_pair[1]\n",
    "    KA_value = krippendorff_alpha([background_values[ann1], background_values[ann2]])\n",
    "    KA_values.append(KA_value)\n",
    "    \n",
    "print(\"Pairwise KA values: \\n\")\n",
    "print(KA_values)\n",
    "print(\"\\n\")\n",
    "print(\"mean: \", np.mean(KA_values))\n",
    "print(\"std: \", np.std(KA_values))\n",
    "\n",
    "#print(background_values[ann1])"
   ]
  },
  {
   "cell_type": "code",
   "execution_count": null,
   "metadata": {},
   "outputs": [],
   "source": []
  },
  {
   "cell_type": "markdown",
   "metadata": {},
   "source": [
    "### Per-panel analysis of annotator agreement"
   ]
  },
  {
   "cell_type": "markdown",
   "metadata": {},
   "source": [
    "##### Get all annotators raw values and z-score normalised values per panel "
   ]
  },
  {
   "cell_type": "code",
   "execution_count": 15,
   "metadata": {},
   "outputs": [],
   "source": [
    "# z-score normalisation - normalise the raw background values for STUDY 2\n",
    "\n",
    "zscore_values = {}\n",
    "\n",
    "for participant, values in background_values.items():\n",
    "    int_values =  [float(i) for i in values]\n",
    "    normalised_values = zscore(int_values)\n",
    "    \n",
    "    zscore_values[participant] = list(normalised_values)\n",
    "    "
   ]
  },
  {
   "cell_type": "code",
   "execution_count": 16,
   "metadata": {},
   "outputs": [],
   "source": [
    "#zscore_values['participant9']"
   ]
  },
  {
   "cell_type": "code",
   "execution_count": 17,
   "metadata": {},
   "outputs": [],
   "source": [
    "# Get each zscore value per panel \n",
    "\n",
    "zscores_per_panel = {}\n",
    "\n",
    "for participant, values in zscore_values.items():\n",
    "    panelNum = 0\n",
    "    for val in values:\n",
    "        panelName = panelNum + 1\n",
    "        if zscores_per_panel.get(panelName) == None:\n",
    "            zscores_per_panel[panelName] = []\n",
    "        if zscores_per_panel.get(panelName) != None:\n",
    "            zscores_per_panel[panelName].append(val)\n",
    "        panelNum += 1\n"
   ]
  },
  {
   "cell_type": "code",
   "execution_count": 18,
   "metadata": {},
   "outputs": [],
   "source": [
    "#zscores_per_panel[1]"
   ]
  },
  {
   "cell_type": "code",
   "execution_count": 19,
   "metadata": {},
   "outputs": [],
   "source": [
    "# mean z_score per panel\n",
    "\n",
    "normalised_mean_per_panel = {}\n",
    "\n",
    "for panelNum, scores in zscores_per_panel.items():\n",
    "    normalised_mean_per_panel[panelNum] = np.mean(scores)\n"
   ]
  },
  {
   "cell_type": "code",
   "execution_count": 20,
   "metadata": {},
   "outputs": [],
   "source": [
    "# just means in a list without panel\n",
    "ordinal_story2_just_means_normalised = []\n",
    "\n",
    "for panel, mean in normalised_mean_per_panel.items():\n",
    "    ordinal_story2_just_means_normalised.append(mean)\n",
    "    "
   ]
  },
  {
   "cell_type": "code",
   "execution_count": 21,
   "metadata": {},
   "outputs": [
    {
     "data": {
      "text/plain": [
       "[0.5847983189691979,\n",
       " 1.9542141958643993,\n",
       " -0.9593231832459657,\n",
       " -0.5023332660236659,\n",
       " -0.12450824333660797,\n",
       " -0.44455615366971113,\n",
       " -1.1490936954365556,\n",
       " -0.7079208637964751,\n",
       " -0.20977029494202576,\n",
       " 0.20179618079948441,\n",
       " -0.4853119168944217,\n",
       " -0.49478850584628276,\n",
       " -0.17704174388966487,\n",
       " 1.0591898867961886,\n",
       " 0.8062489027752763,\n",
       " 0.3741251901513597,\n",
       " 1.06467486975479,\n",
       " 0.9712095448312671,\n",
       " 0.4913244018425037,\n",
       " 0.033521450442119946,\n",
       " 0.7831992039727512,\n",
       " 0.025666887954676032,\n",
       " -0.31873282252545726,\n",
       " -0.06269136581542417,\n",
       " 0.542743658110587,\n",
       " 0.7707840809735247,\n",
       " -0.7708515686892761,\n",
       " -0.9593231832459657,\n",
       " -0.8285738601457723,\n",
       " -0.8285738601457723,\n",
       " -0.6401022455890826]"
      ]
     },
     "execution_count": 21,
     "metadata": {},
     "output_type": "execute_result"
    }
   ],
   "source": [
    "ordinal_story2_just_means_normalised"
   ]
  },
  {
   "cell_type": "code",
   "execution_count": null,
   "metadata": {},
   "outputs": [],
   "source": []
  },
  {
   "cell_type": "code",
   "execution_count": null,
   "metadata": {},
   "outputs": [],
   "source": []
  },
  {
   "cell_type": "code",
   "execution_count": 22,
   "metadata": {},
   "outputs": [],
   "source": [
    "# STD for the z_score of each panel\n",
    "\n",
    "STD_per_panel = {}\n",
    "\n",
    "for panelNum, scores in zscores_per_panel.items():\n",
    "    STD_per_panel[panelNum] = np.std(scores)\n"
   ]
  },
  {
   "cell_type": "code",
   "execution_count": 23,
   "metadata": {},
   "outputs": [
    {
     "data": {
      "text/plain": [
       "{1: 0.5984478277751945,\n",
       " 2: 0.8999687485946114,\n",
       " 3: 0.35326172866300914,\n",
       " 4: 0.6141670842349617,\n",
       " 5: 0.642089865028483,\n",
       " 6: 0.6875371560742244,\n",
       " 7: 0.594127396479756,\n",
       " 8: 0.7560588082098266,\n",
       " 9: 0.7091160293130936,\n",
       " 10: 0.6549152556668013,\n",
       " 11: 0.31826638268171287,\n",
       " 12: 0.3183962382294805,\n",
       " 13: 0.3704865381543799,\n",
       " 14: 0.8385697837820697,\n",
       " 15: 0.5628807856206959,\n",
       " 16: 0.9549612140296636,\n",
       " 17: 0.6732930374492092,\n",
       " 18: 0.17470257448811158,\n",
       " 19: 0.5816071586921938,\n",
       " 20: 0.7008848594194992,\n",
       " 21: 0.7067547584810457,\n",
       " 22: 0.7002532053170336,\n",
       " 23: 0.7316556582460844,\n",
       " 24: 0.654468637758958,\n",
       " 25: 0.8309905726479921,\n",
       " 26: 0.9535090802756147,\n",
       " 27: 0.7512139941407603,\n",
       " 28: 0.35326172866300914,\n",
       " 29: 0.650447131412082,\n",
       " 30: 0.650447131412082,\n",
       " 31: 0.9018453386048894}"
      ]
     },
     "execution_count": 23,
     "metadata": {},
     "output_type": "execute_result"
    }
   ],
   "source": [
    "STD_per_panel"
   ]
  },
  {
   "cell_type": "code",
   "execution_count": 24,
   "metadata": {},
   "outputs": [],
   "source": [
    "# just stds in a list without panel\n",
    "\n",
    "ordinal_story2_just_stds_normalised = []\n",
    "\n",
    "for panel, std in STD_per_panel.items():\n",
    "    ordinal_story2_just_stds_normalised.append(std)\n",
    "    "
   ]
  },
  {
   "cell_type": "code",
   "execution_count": 25,
   "metadata": {},
   "outputs": [
    {
     "data": {
      "text/plain": [
       "[0.5984478277751945,\n",
       " 0.8999687485946114,\n",
       " 0.35326172866300914,\n",
       " 0.6141670842349617,\n",
       " 0.642089865028483,\n",
       " 0.6875371560742244,\n",
       " 0.594127396479756,\n",
       " 0.7560588082098266,\n",
       " 0.7091160293130936,\n",
       " 0.6549152556668013,\n",
       " 0.31826638268171287,\n",
       " 0.3183962382294805,\n",
       " 0.3704865381543799,\n",
       " 0.8385697837820697,\n",
       " 0.5628807856206959,\n",
       " 0.9549612140296636,\n",
       " 0.6732930374492092,\n",
       " 0.17470257448811158,\n",
       " 0.5816071586921938,\n",
       " 0.7008848594194992,\n",
       " 0.7067547584810457,\n",
       " 0.7002532053170336,\n",
       " 0.7316556582460844,\n",
       " 0.654468637758958,\n",
       " 0.8309905726479921,\n",
       " 0.9535090802756147,\n",
       " 0.7512139941407603,\n",
       " 0.35326172866300914,\n",
       " 0.650447131412082,\n",
       " 0.650447131412082,\n",
       " 0.9018453386048894]"
      ]
     },
     "execution_count": 25,
     "metadata": {},
     "output_type": "execute_result"
    }
   ],
   "source": [
    "ordinal_story2_just_stds_normalised"
   ]
  },
  {
   "cell_type": "markdown",
   "metadata": {},
   "source": [
    "##### Sort by most agreed to least agreed panel"
   ]
  },
  {
   "cell_type": "code",
   "execution_count": 27,
   "metadata": {},
   "outputs": [
    {
     "name": "stdout",
     "output_type": "stream",
     "text": [
      "[(18, 0.17470257448811158), (11, 0.31826638268171287), (12, 0.3183962382294805), (3, 0.35326172866300914), (28, 0.35326172866300914), (13, 0.3704865381543799), (15, 0.5628807856206959), (19, 0.5816071586921938), (7, 0.594127396479756), (1, 0.5984478277751945), (4, 0.6141670842349617), (5, 0.642089865028483), (29, 0.650447131412082), (30, 0.650447131412082), (24, 0.654468637758958), (10, 0.6549152556668013), (17, 0.6732930374492092), (6, 0.6875371560742244), (22, 0.7002532053170336), (20, 0.7008848594194992), (21, 0.7067547584810457), (9, 0.7091160293130936), (23, 0.7316556582460844), (27, 0.7512139941407603), (8, 0.7560588082098266), (25, 0.8309905726479921), (14, 0.8385697837820697), (2, 0.8999687485946114), (31, 0.9018453386048894), (26, 0.9535090802756147), (16, 0.9549612140296636)]\n"
     ]
    }
   ],
   "source": [
    "# get five highest and five lowest:\n",
    "        \n",
    "import operator\n",
    "sorted_STD_per_panel = sorted(STD_per_panel.items(), key=operator.itemgetter(1))\n",
    "\n",
    "print(sorted_STD_per_panel)\n"
   ]
  },
  {
   "cell_type": "code",
   "execution_count": null,
   "metadata": {},
   "outputs": [],
   "source": []
  },
  {
   "cell_type": "code",
   "execution_count": 28,
   "metadata": {},
   "outputs": [
    {
     "data": {
      "text/plain": [
       "{1: [2.0, 3.0, 4.0, 3.0, 4.0, 4.0, 1.0, 5.0, 3.0],\n",
       " 2: [4.0, 4.0, 5.0, 4.0, 5.0, 5.0, 3.0, 5.0, 5.0],\n",
       " 3: [1.0, 1.0, 1.0, 3.0, 1.0, 1.0, 1.0, 1.0, 1.0],\n",
       " 4: [2.0, 2.0, 2.0, 2.0, 1.0, 2.0, 1.0, 2.0, 2.0],\n",
       " 5: [2.0, 2.0, 3.0, 2.0, 3.0, 2.0, 1.0, 4.0, 2.0],\n",
       " 6: [1.0, 2.0, 2.0, 2.0, 2.0, 1.0, 1.0, 5.0, 2.0],\n",
       " 7: [1.0, 1.0, 1.0, 1.0, 1.0, 1.0, 1.0, 2.0, 1.0],\n",
       " 8: [1.0, 1.0, 1.0, 2.0, 1.0, 1.0, 1.0, 5.0, 2.0],\n",
       " 9: [1.0, 2.0, 2.0, 4.0, 2.0, 1.0, 2.0, 2.0, 2.0],\n",
       " 10: [2.0, 2.0, 4.0, 4.0, 3.0, 1.0, 1.0, 5.0, 2.0],\n",
       " 11: [1.0, 2.0, 3.0, 3.0, 2.0, 1.0, 1.0, 3.0, 1.0],\n",
       " 12: [1.0, 2.0, 3.0, 3.0, 1.0, 2.0, 1.0, 3.0, 1.0],\n",
       " 13: [1.0, 2.0, 4.0, 3.0, 2.0, 2.0, 1.0, 4.0, 2.0],\n",
       " 14: [2.0, 3.0, 5.0, 4.0, 5.0, 5.0, 1.0, 4.0, 5.0],\n",
       " 15: [2.0, 3.0, 5.0, 4.0, 4.0, 4.0, 1.0, 4.0, 4.0],\n",
       " 16: [1.0, 4.0, 4.0, 4.0, 2.0, 4.0, 1.0, 2.0, 4.0],\n",
       " 17: [2.0, 4.0, 5.0, 4.0, 4.0, 5.0, 1.0, 5.0, 4.0],\n",
       " 18: [2.0, 3.0, 5.0, 4.0, 4.0, 4.0, 2.0, 5.0, 3.0],\n",
       " 19: [2.0, 2.0, 5.0, 4.0, 3.0, 4.0, 1.0, 5.0, 2.0],\n",
       " 20: [2.0, 2.0, 5.0, 3.0, 2.0, 2.0, 1.0, 5.0, 1.0],\n",
       " 21: [1.0, 3.0, 5.0, 4.0, 4.0, 5.0, 2.0, 5.0, 2.0],\n",
       " 22: [1.0, 2.0, 5.0, 4.0, 2.0, 4.0, 1.0, 2.0, 2.0],\n",
       " 23: [1.0, 1.0, 5.0, 4.0, 1.0, 2.0, 1.0, 2.0, 2.0],\n",
       " 24: [1.0, 2.0, 5.0, 4.0, 1.0, 2.0, 1.0, 4.0, 2.0],\n",
       " 25: [2.0, 3.0, 5.0, 2.0, 4.0, 4.0, 2.0, 4.0, 2.0],\n",
       " 26: [2.0, 4.0, 4.0, 3.0, 3.0, 2.0, 3.0, 4.0, 3.0],\n",
       " 27: [1.0, 1.0, 1.0, 3.0, 1.0, 1.0, 2.0, 1.0, 1.0],\n",
       " 28: [1.0, 1.0, 1.0, 3.0, 1.0, 1.0, 1.0, 1.0, 1.0],\n",
       " 29: [1.0, 1.0, 1.0, 4.0, 1.0, 1.0, 1.0, 1.0, 1.0],\n",
       " 30: [1.0, 1.0, 1.0, 4.0, 1.0, 1.0, 1.0, 1.0, 1.0],\n",
       " 31: [1.0, 1.0, 1.0, 4.0, 1.0, 1.0, 2.0, 1.0, 1.0]}"
      ]
     },
     "execution_count": 28,
     "metadata": {},
     "output_type": "execute_result"
    }
   ],
   "source": [
    "raw_value_per_panel"
   ]
  },
  {
   "cell_type": "code",
   "execution_count": 29,
   "metadata": {},
   "outputs": [],
   "source": [
    "# Mean for the raw score of each panel\n",
    "\n",
    "mean_per_panel = {}\n",
    "\n",
    "for panelNum, scores in raw_value_per_panel.items():\n",
    "    mean_per_panel[panelNum] = np.mean(scores)\n",
    "    "
   ]
  },
  {
   "cell_type": "code",
   "execution_count": 30,
   "metadata": {},
   "outputs": [
    {
     "data": {
      "text/plain": [
       "{1: 3.2222222222222223,\n",
       " 2: 4.444444444444445,\n",
       " 3: 1.2222222222222223,\n",
       " 4: 1.7777777777777777,\n",
       " 5: 2.3333333333333335,\n",
       " 6: 2.0,\n",
       " 7: 1.1111111111111112,\n",
       " 8: 1.6666666666666667,\n",
       " 9: 2.0,\n",
       " 10: 2.6666666666666665,\n",
       " 11: 1.8888888888888888,\n",
       " 12: 1.8888888888888888,\n",
       " 13: 2.3333333333333335,\n",
       " 14: 3.7777777777777777,\n",
       " 15: 3.4444444444444446,\n",
       " 16: 2.888888888888889,\n",
       " 17: 3.7777777777777777,\n",
       " 18: 3.5555555555555554,\n",
       " 19: 3.111111111111111,\n",
       " 20: 2.5555555555555554,\n",
       " 21: 3.4444444444444446,\n",
       " 22: 2.5555555555555554,\n",
       " 23: 2.111111111111111,\n",
       " 24: 2.4444444444444446,\n",
       " 25: 3.111111111111111,\n",
       " 26: 3.111111111111111,\n",
       " 27: 1.3333333333333333,\n",
       " 28: 1.2222222222222223,\n",
       " 29: 1.3333333333333333,\n",
       " 30: 1.3333333333333333,\n",
       " 31: 1.4444444444444444}"
      ]
     },
     "execution_count": 30,
     "metadata": {},
     "output_type": "execute_result"
    }
   ],
   "source": [
    "mean_per_panel"
   ]
  },
  {
   "cell_type": "code",
   "execution_count": 31,
   "metadata": {},
   "outputs": [],
   "source": [
    "# just means in a list without panel\n",
    "\n",
    "ordinal_story2_just_means = []\n",
    "\n",
    "for panel, mean in mean_per_panel.items():\n",
    "    ordinal_story2_just_means.append(mean)\n"
   ]
  },
  {
   "cell_type": "code",
   "execution_count": 32,
   "metadata": {},
   "outputs": [
    {
     "data": {
      "text/plain": [
       "[3.2222222222222223,\n",
       " 4.444444444444445,\n",
       " 1.2222222222222223,\n",
       " 1.7777777777777777,\n",
       " 2.3333333333333335,\n",
       " 2.0,\n",
       " 1.1111111111111112,\n",
       " 1.6666666666666667,\n",
       " 2.0,\n",
       " 2.6666666666666665,\n",
       " 1.8888888888888888,\n",
       " 1.8888888888888888,\n",
       " 2.3333333333333335,\n",
       " 3.7777777777777777,\n",
       " 3.4444444444444446,\n",
       " 2.888888888888889,\n",
       " 3.7777777777777777,\n",
       " 3.5555555555555554,\n",
       " 3.111111111111111,\n",
       " 2.5555555555555554,\n",
       " 3.4444444444444446,\n",
       " 2.5555555555555554,\n",
       " 2.111111111111111,\n",
       " 2.4444444444444446,\n",
       " 3.111111111111111,\n",
       " 3.111111111111111,\n",
       " 1.3333333333333333,\n",
       " 1.2222222222222223,\n",
       " 1.3333333333333333,\n",
       " 1.3333333333333333,\n",
       " 1.4444444444444444]"
      ]
     },
     "execution_count": 32,
     "metadata": {},
     "output_type": "execute_result"
    }
   ],
   "source": [
    "ordinal_story2_just_means"
   ]
  },
  {
   "cell_type": "code",
   "execution_count": null,
   "metadata": {},
   "outputs": [],
   "source": []
  },
  {
   "cell_type": "markdown",
   "metadata": {},
   "source": [
    "## Pearson's r and Spearman's rank between annotator pairs"
   ]
  },
  {
   "cell_type": "markdown",
   "metadata": {},
   "source": [
    "##### Calculate Spearman's rank between each annotator pair"
   ]
  },
  {
   "cell_type": "code",
   "execution_count": 33,
   "metadata": {},
   "outputs": [],
   "source": [
    "# Spearman's rank function \n",
    "\n",
    "def get_spearmans_rank(values_Ann1, values_Ann2):\n",
    "    \"\"\"\n",
    "    Takes: two lists of values\n",
    "    Returns: nothing, but prints the the p value and states whether the null hypothesis was rejected.\n",
    "    \"\"\"\n",
    "    # compare samples\n",
    "    coef, p = spearmanr(values_Ann1, values_Ann2)\n",
    "    print('%.3f' % coef)\n",
    "    # interpret the significance\n",
    "    alpha = 0.01\n",
    "    if p > alpha:\n",
    "        print('Samples are uncorrelated (fail to reject H0) p=%.3f' % p)\n",
    "    else:\n",
    "        print('Samples are correlated (reject H0) p=%.3f' % p)\n",
    "        \n",
    "    return coef, p\n"
   ]
  },
  {
   "cell_type": "code",
   "execution_count": 34,
   "metadata": {},
   "outputs": [
    {
     "name": "stdout",
     "output_type": "stream",
     "text": [
      "participant1 and participant2:\n",
      "0.634\n",
      "Samples are correlated (reject H0) p=0.000\n",
      "participant1 and participant3:\n",
      "0.541\n",
      "Samples are correlated (reject H0) p=0.002\n",
      "participant1 and participant4:\n",
      "0.036\n",
      "Samples are uncorrelated (fail to reject H0) p=0.846\n",
      "participant1 and participant5:\n",
      "0.731\n",
      "Samples are correlated (reject H0) p=0.000\n",
      "participant1 and participant6:\n",
      "0.578\n",
      "Samples are correlated (reject H0) p=0.001\n",
      "participant1 and participant7:\n",
      "0.186\n",
      "Samples are uncorrelated (fail to reject H0) p=0.317\n",
      "participant1 and participant8:\n",
      "0.588\n",
      "Samples are correlated (reject H0) p=0.001\n",
      "participant1 and participant9:\n",
      "0.599\n",
      "Samples are correlated (reject H0) p=0.000\n",
      "participant2 and participant3:\n",
      "0.704\n",
      "Samples are correlated (reject H0) p=0.000\n",
      "participant2 and participant4:\n",
      "0.226\n",
      "Samples are uncorrelated (fail to reject H0) p=0.222\n",
      "participant2 and participant5:\n",
      "0.849\n",
      "Samples are correlated (reject H0) p=0.000\n",
      "participant2 and participant6:\n",
      "0.806\n",
      "Samples are correlated (reject H0) p=0.000\n",
      "participant2 and participant7:\n",
      "0.300\n",
      "Samples are uncorrelated (fail to reject H0) p=0.101\n",
      "participant2 and participant8:\n",
      "0.603\n",
      "Samples are correlated (reject H0) p=0.000\n",
      "participant2 and participant9:\n",
      "0.822\n",
      "Samples are correlated (reject H0) p=0.000\n",
      "participant3 and participant4:\n",
      "0.433\n",
      "Samples are uncorrelated (fail to reject H0) p=0.015\n",
      "participant3 and participant5:\n",
      "0.705\n",
      "Samples are correlated (reject H0) p=0.000\n",
      "participant3 and participant6:\n",
      "0.848\n",
      "Samples are correlated (reject H0) p=0.000\n",
      "participant3 and participant7:\n",
      "0.103\n",
      "Samples are uncorrelated (fail to reject H0) p=0.582\n",
      "participant3 and participant8:\n",
      "0.611\n",
      "Samples are correlated (reject H0) p=0.000\n",
      "participant3 and participant9:\n",
      "0.647\n",
      "Samples are correlated (reject H0) p=0.000\n",
      "participant4 and participant5:\n",
      "0.252\n",
      "Samples are uncorrelated (fail to reject H0) p=0.172\n",
      "participant4 and participant6:\n",
      "0.351\n",
      "Samples are uncorrelated (fail to reject H0) p=0.053\n",
      "participant4 and participant7:\n",
      "0.135\n",
      "Samples are uncorrelated (fail to reject H0) p=0.467\n",
      "participant4 and participant8:\n",
      "0.002\n",
      "Samples are uncorrelated (fail to reject H0) p=0.992\n",
      "participant4 and participant9:\n",
      "0.322\n",
      "Samples are uncorrelated (fail to reject H0) p=0.077\n",
      "participant5 and participant6:\n",
      "0.753\n",
      "Samples are correlated (reject H0) p=0.000\n",
      "participant5 and participant7:\n",
      "0.303\n",
      "Samples are uncorrelated (fail to reject H0) p=0.098\n",
      "participant5 and participant8:\n",
      "0.695\n",
      "Samples are correlated (reject H0) p=0.000\n",
      "participant5 and participant9:\n",
      "0.760\n",
      "Samples are correlated (reject H0) p=0.000\n",
      "participant6 and participant7:\n",
      "0.151\n",
      "Samples are uncorrelated (fail to reject H0) p=0.417\n",
      "participant6 and participant8:\n",
      "0.520\n",
      "Samples are correlated (reject H0) p=0.003\n",
      "participant6 and participant9:\n",
      "0.753\n",
      "Samples are correlated (reject H0) p=0.000\n",
      "participant7 and participant8:\n",
      "0.059\n",
      "Samples are uncorrelated (fail to reject H0) p=0.754\n",
      "participant7 and participant9:\n",
      "0.170\n",
      "Samples are uncorrelated (fail to reject H0) p=0.361\n",
      "participant8 and participant9:\n",
      "0.569\n",
      "Samples are correlated (reject H0) p=0.001\n",
      "********************\n",
      "[0.6337958232112499, 0.5408357447714882, 0.036384849898249846, 0.7309754626207351, 0.5777867099081638, 0.18563825502642717, 0.5882821761169765, 0.598741758842947, 0.704124024179324, 0.22589651423200116, 0.8491559928433348, 0.8062670255204072, 0.3003244626201751, 0.6025749216055436, 0.8215595278327619, 0.4327085999243335, 0.705277409757726, 0.8475750991721676, 0.10282411086277725, 0.6110912203209488, 0.6474517254499683, 0.2515721054597661, 0.35064466136114397, 0.1354991051492661, 0.0019335407591902166, 0.3219452840808819, 0.7525390621196996, 0.30277951454557667, 0.694626235969128, 0.7599455894825575, 0.1510174140196253, 0.5197548179763498, 0.7527875868408757, 0.05870692437519526, 0.16992301859786757, 0.5690753174147825]\n",
      "correlated:  15\n",
      "not correlated:  21\n",
      "mean:  0.48172282202415584\n",
      "std:  0.2605113202235875\n"
     ]
    }
   ],
   "source": [
    "# Calculate Spearman's r between all combinations of annotators\n",
    "\n",
    "corr = 0\n",
    "not_corr = 0\n",
    "\n",
    "spearmans_values = []\n",
    "for participant_pair in combinations_all_participants:\n",
    "    ann1 = participant_pair[0]\n",
    "    ann2 = participant_pair[1]\n",
    "    print(ann1 + \" and \" + ann2 + \":\")\n",
    "    spearmans_value, p = get_spearmans_rank(background_values[ann1], background_values[ann2])\n",
    "    if p > 0.01:\n",
    "        corr +=1\n",
    "    if p < 0.01:\n",
    "        not_corr +=1\n",
    "    spearmans_values.append(spearmans_value)\n",
    "print(\"********************\")\n",
    "print(spearmans_values)\n",
    "print(\"correlated: \", corr)\n",
    "print(\"not correlated: \", not_corr)\n",
    "print(\"mean: \", np.mean(spearmans_values))\n",
    "print(\"std: \", np.std(spearmans_values))\n"
   ]
  },
  {
   "cell_type": "code",
   "execution_count": null,
   "metadata": {},
   "outputs": [],
   "source": [
    "print(np.mean(spearmans_values))"
   ]
  },
  {
   "cell_type": "markdown",
   "metadata": {},
   "source": [
    "##### Calculate Pearson's r scores between each annotator pair"
   ]
  },
  {
   "cell_type": "code",
   "execution_count": 35,
   "metadata": {},
   "outputs": [],
   "source": [
    "# Pearson's r function \n",
    "\n",
    "def get_pearsonsr(values_Ann1, values_Ann2):\n",
    "    \"\"\"\n",
    "    Takes: two lists of values\n",
    "    Returns: nothing, but prints the the p value and states whether the null hypothesis was rejected.\n",
    "    \"\"\"\n",
    "    \n",
    "    # compare samples\n",
    "    coef, p = pearsonr(values_Ann1, values_Ann2)\n",
    "    print('Pearsons correlation coefficient: %.3f' % coef)\n",
    "    # interpret the significance\n",
    "    alpha = 0.01\n",
    "    if p > alpha:\n",
    "        print('Samples are uncorrelated (fail to reject H0) p=%.3f' % p)\n",
    "    else:\n",
    "        print('Samples are correlated (reject H0) p=%.3f' % p)\n",
    "    \n",
    "    return coef, p\n"
   ]
  },
  {
   "cell_type": "code",
   "execution_count": 36,
   "metadata": {},
   "outputs": [
    {
     "name": "stdout",
     "output_type": "stream",
     "text": [
      "Pearsons correlation coefficient: 0.618\n",
      "Samples are correlated (reject H0) p=0.000\n",
      "Pearsons correlation coefficient: 0.503\n",
      "Samples are correlated (reject H0) p=0.004\n",
      "Pearsons correlation coefficient: 0.094\n",
      "Samples are uncorrelated (fail to reject H0) p=0.616\n",
      "Pearsons correlation coefficient: 0.735\n",
      "Samples are correlated (reject H0) p=0.000\n",
      "Pearsons correlation coefficient: 0.557\n",
      "Samples are correlated (reject H0) p=0.001\n",
      "Pearsons correlation coefficient: 0.424\n",
      "Samples are uncorrelated (fail to reject H0) p=0.017\n",
      "Pearsons correlation coefficient: 0.552\n",
      "Samples are correlated (reject H0) p=0.001\n",
      "Pearsons correlation coefficient: 0.647\n",
      "Samples are correlated (reject H0) p=0.000\n",
      "Pearsons correlation coefficient: 0.699\n",
      "Samples are correlated (reject H0) p=0.000\n",
      "Pearsons correlation coefficient: 0.252\n",
      "Samples are uncorrelated (fail to reject H0) p=0.172\n",
      "Pearsons correlation coefficient: 0.796\n",
      "Samples are correlated (reject H0) p=0.000\n",
      "Pearsons correlation coefficient: 0.779\n",
      "Samples are correlated (reject H0) p=0.000\n",
      "Pearsons correlation coefficient: 0.410\n",
      "Samples are uncorrelated (fail to reject H0) p=0.022\n",
      "Pearsons correlation coefficient: 0.581\n",
      "Samples are correlated (reject H0) p=0.001\n",
      "Pearsons correlation coefficient: 0.818\n",
      "Samples are correlated (reject H0) p=0.000\n",
      "Pearsons correlation coefficient: 0.415\n",
      "Samples are uncorrelated (fail to reject H0) p=0.020\n",
      "Pearsons correlation coefficient: 0.701\n",
      "Samples are correlated (reject H0) p=0.000\n",
      "Pearsons correlation coefficient: 0.787\n",
      "Samples are correlated (reject H0) p=0.000\n",
      "Pearsons correlation coefficient: 0.125\n",
      "Samples are uncorrelated (fail to reject H0) p=0.503\n",
      "Pearsons correlation coefficient: 0.656\n",
      "Samples are correlated (reject H0) p=0.000\n",
      "Pearsons correlation coefficient: 0.608\n",
      "Samples are correlated (reject H0) p=0.000\n",
      "Pearsons correlation coefficient: 0.260\n",
      "Samples are uncorrelated (fail to reject H0) p=0.158\n",
      "Pearsons correlation coefficient: 0.378\n",
      "Samples are uncorrelated (fail to reject H0) p=0.036\n",
      "Pearsons correlation coefficient: 0.135\n",
      "Samples are uncorrelated (fail to reject H0) p=0.469\n",
      "Pearsons correlation coefficient: -0.015\n",
      "Samples are uncorrelated (fail to reject H0) p=0.936\n",
      "Pearsons correlation coefficient: 0.343\n",
      "Samples are uncorrelated (fail to reject H0) p=0.059\n",
      "Pearsons correlation coefficient: 0.817\n",
      "Samples are correlated (reject H0) p=0.000\n",
      "Pearsons correlation coefficient: 0.361\n",
      "Samples are uncorrelated (fail to reject H0) p=0.046\n",
      "Pearsons correlation coefficient: 0.691\n",
      "Samples are correlated (reject H0) p=0.000\n",
      "Pearsons correlation coefficient: 0.778\n",
      "Samples are correlated (reject H0) p=0.000\n",
      "Pearsons correlation coefficient: 0.200\n",
      "Samples are uncorrelated (fail to reject H0) p=0.280\n",
      "Pearsons correlation coefficient: 0.513\n",
      "Samples are correlated (reject H0) p=0.003\n",
      "Pearsons correlation coefficient: 0.770\n",
      "Samples are correlated (reject H0) p=0.000\n",
      "Pearsons correlation coefficient: 0.109\n",
      "Samples are uncorrelated (fail to reject H0) p=0.558\n",
      "Pearsons correlation coefficient: 0.253\n",
      "Samples are uncorrelated (fail to reject H0) p=0.170\n",
      "Pearsons correlation coefficient: 0.492\n",
      "Samples are correlated (reject H0) p=0.005\n",
      "[0.6176207566630455, 0.502798707137317, 0.09379628580985835, 0.7348629888791846, 0.5566850802385948, 0.4241719538677082, 0.5518904452639983, 0.6470509202505471, 0.6994489503318926, 0.2518711228753432, 0.7963921040272758, 0.7792466796727102, 0.4095664035626868, 0.5812865775950595, 0.8179123820313553, 0.41540378140638884, 0.7010896166450509, 0.7869764130410152, 0.12488202947660143, 0.6560398108815613, 0.6084046815612117, 0.25977690012923627, 0.3781589472005779, 0.13500827490277206, -0.015019110559129245, 0.34321332877525523, 0.8171816828619223, 0.36118260640345234, 0.6908281407141831, 0.7776975324992907, 0.20014687443524193, 0.5130373216181892, 0.7698454171115092, 0.10938766404693466, 0.25266167198310197, 0.49172733039438354]\n",
      "correlated:  15\n",
      "not correlated:  21\n",
      "mean:  0.49561756315931466\n",
      "std:  0.23933409614623607\n"
     ]
    }
   ],
   "source": [
    "corr = 0\n",
    "not_corr = 0\n",
    "\n",
    "pearsons_values = []\n",
    "for participant_pair in combinations_all_participants:\n",
    "    ann1 = participant_pair[0]\n",
    "    ann2 = participant_pair[1]\n",
    "    pearsons_value, p = get_pearsonsr(background_values[ann1], background_values[ann2])\n",
    "    if p > 0.01:\n",
    "        corr +=1\n",
    "    if p < 0.01:\n",
    "        not_corr +=1\n",
    "    pearsons_values.append(pearsons_value)\n",
    "    \n",
    "print(pearsons_values)\n",
    "print(\"correlated: \", corr)\n",
    "print(\"not correlated: \", not_corr)\n",
    "print(\"mean: \", np.mean(pearsons_values))\n",
    "print(\"std: \", np.std(pearsons_values))\n"
   ]
  },
  {
   "cell_type": "code",
   "execution_count": null,
   "metadata": {},
   "outputs": [],
   "source": []
  },
  {
   "cell_type": "code",
   "execution_count": null,
   "metadata": {},
   "outputs": [],
   "source": []
  },
  {
   "cell_type": "code",
   "execution_count": 37,
   "metadata": {},
   "outputs": [],
   "source": [
    "# get all the values per panel/segmentation\n",
    "def get_values_per_panel(corpus_dict, scores):\n",
    "    \"\"\"\n",
    "    Takes: a corpus dict\n",
    "    Returns: a dict with a list of values of all annotators per panel in the story, setup as a \n",
    "        dict of pages, with the values panels, with the values of lists of floats. \n",
    "    \"\"\"\n",
    "    \n",
    "    all_values_per_panel = {} # init dict\n",
    "    \n",
    "    #print(zscores)\n",
    "\n",
    "    for participant, story_info in corpus_dict.items():\n",
    "        value_index = 0 # init an index to get the correct zscore from the array\n",
    "        for page, page_info in story_info.items():\n",
    "            if all_values_per_panel.get(page) == None: # if this page has not been initialized in the final dict,\n",
    "                all_values_per_panel[page] = {} # create it here\n",
    "            for panel, panel_info in page_info.items():\n",
    "                if all_values_per_panel[page].get(panel) == None: # if this panel has not been initialized, \n",
    "                    all_values_per_panel[page][panel] = [] # create it here\n",
    "                background_detail = float(panel_info[\"background/setting\"][\"information_amount\"]) # get value\n",
    "                score_value = scores[participant][value_index]\n",
    "                all_values_per_panel[page][panel].append(score_value)\n",
    "                value_index += 1\n",
    "                \n",
    "    #print(all_values_per_panel)\n",
    "                \n",
    "    return all_values_per_panel\n",
    "    \n",
    "   \n"
   ]
  },
  {
   "cell_type": "code",
   "execution_count": 38,
   "metadata": {},
   "outputs": [],
   "source": [
    "values_per_panel = get_values_per_panel(corpus, background_values)"
   ]
  },
  {
   "cell_type": "code",
   "execution_count": 39,
   "metadata": {},
   "outputs": [
    {
     "data": {
      "text/plain": [
       "{'page1': {'panel1': [2.0, 3.0, 4.0, 3.0, 4.0, 4.0, 1.0, 5.0, 3.0],\n",
       "  'panel2': [4.0, 4.0, 5.0, 4.0, 5.0, 5.0, 3.0, 5.0, 5.0],\n",
       "  'panel3': [1.0, 1.0, 1.0, 3.0, 1.0, 1.0, 1.0, 1.0, 1.0]},\n",
       " 'page2': {'panel1': [2.0, 2.0, 2.0, 2.0, 1.0, 2.0, 1.0, 2.0, 2.0],\n",
       "  'panel2': [2.0, 2.0, 3.0, 2.0, 3.0, 2.0, 1.0, 4.0, 2.0],\n",
       "  'panel3': [1.0, 2.0, 2.0, 2.0, 2.0, 1.0, 1.0, 5.0, 2.0],\n",
       "  'panel4': [1.0, 1.0, 1.0, 1.0, 1.0, 1.0, 1.0, 2.0, 1.0],\n",
       "  'panel5': [1.0, 1.0, 1.0, 2.0, 1.0, 1.0, 1.0, 5.0, 2.0],\n",
       "  'panel6': [1.0, 2.0, 2.0, 4.0, 2.0, 1.0, 2.0, 2.0, 2.0],\n",
       "  'panel7': [2.0, 2.0, 4.0, 4.0, 3.0, 1.0, 1.0, 5.0, 2.0]},\n",
       " 'page3': {'panel1': [1.0, 2.0, 3.0, 3.0, 2.0, 1.0, 1.0, 3.0, 1.0],\n",
       "  'panel2': [1.0, 2.0, 3.0, 3.0, 1.0, 2.0, 1.0, 3.0, 1.0],\n",
       "  'panel3': [1.0, 2.0, 4.0, 3.0, 2.0, 2.0, 1.0, 4.0, 2.0],\n",
       "  'panel4': [2.0, 3.0, 5.0, 4.0, 5.0, 5.0, 1.0, 4.0, 5.0],\n",
       "  'panel5': [2.0, 3.0, 5.0, 4.0, 4.0, 4.0, 1.0, 4.0, 4.0],\n",
       "  'panel6': [1.0, 4.0, 4.0, 4.0, 2.0, 4.0, 1.0, 2.0, 4.0],\n",
       "  'panel7': [2.0, 4.0, 5.0, 4.0, 4.0, 5.0, 1.0, 5.0, 4.0]},\n",
       " 'page4': {'panel1': [2.0, 3.0, 5.0, 4.0, 4.0, 4.0, 2.0, 5.0, 3.0],\n",
       "  'panel2': [2.0, 2.0, 5.0, 4.0, 3.0, 4.0, 1.0, 5.0, 2.0],\n",
       "  'panel3': [2.0, 2.0, 5.0, 3.0, 2.0, 2.0, 1.0, 5.0, 1.0],\n",
       "  'panel4': [1.0, 3.0, 5.0, 4.0, 4.0, 5.0, 2.0, 5.0, 2.0],\n",
       "  'panel5': [1.0, 2.0, 5.0, 4.0, 2.0, 4.0, 1.0, 2.0, 2.0],\n",
       "  'panel6': [1.0, 1.0, 5.0, 4.0, 1.0, 2.0, 1.0, 2.0, 2.0],\n",
       "  'panel7': [1.0, 2.0, 5.0, 4.0, 1.0, 2.0, 1.0, 4.0, 2.0]},\n",
       " 'page5': {'panel1': [2.0, 3.0, 5.0, 2.0, 4.0, 4.0, 2.0, 4.0, 2.0],\n",
       "  'panel2': [2.0, 4.0, 4.0, 3.0, 3.0, 2.0, 3.0, 4.0, 3.0],\n",
       "  'panel3': [1.0, 1.0, 1.0, 3.0, 1.0, 1.0, 2.0, 1.0, 1.0],\n",
       "  'panel4': [1.0, 1.0, 1.0, 3.0, 1.0, 1.0, 1.0, 1.0, 1.0],\n",
       "  'panel5': [1.0, 1.0, 1.0, 4.0, 1.0, 1.0, 1.0, 1.0, 1.0],\n",
       "  'panel6': [1.0, 1.0, 1.0, 4.0, 1.0, 1.0, 1.0, 1.0, 1.0],\n",
       "  'panel7': [1.0, 1.0, 1.0, 4.0, 1.0, 1.0, 2.0, 1.0, 1.0]}}"
      ]
     },
     "execution_count": 39,
     "metadata": {},
     "output_type": "execute_result"
    }
   ],
   "source": [
    "values_per_panel"
   ]
  },
  {
   "cell_type": "code",
   "execution_count": 40,
   "metadata": {},
   "outputs": [],
   "source": [
    "# Visualise the results of each panel \n",
    "\n",
    "def boxplot_results_per_panel(results_per_panel):\n",
    "    \"\"\"\n",
    "    Takes:\n",
    "    Returns:\n",
    "    \"\"\"\n",
    "    \n",
    "    for page, panels in results_per_panel.items():\n",
    "        #print(panels)\n",
    "        for panel, values in panels.items():\n",
    "            #print(values)\n",
    "            \n",
    "            fig1, ax1 = plt.subplots()\n",
    "            ax1.set_title(page + panel)\n",
    "            plt.ylim(0,5)\n",
    "            ax1.boxplot(values)\n",
    "            \n",
    "            "
   ]
  },
  {
   "cell_type": "code",
   "execution_count": 41,
   "metadata": {},
   "outputs": [
    {
     "name": "stderr",
     "output_type": "stream",
     "text": [
      "/var/folders/rd/ytgbsj2n3czfz5nsrrgbfjsh0000gn/T/ipykernel_94121/2010021960.py:14: RuntimeWarning: More than 20 figures have been opened. Figures created through the pyplot interface (`matplotlib.pyplot.figure`) are retained until explicitly closed and may consume too much memory. (To control this warning, see the rcParam `figure.max_open_warning`).\n",
      "  fig1, ax1 = plt.subplots()\n"
     ]
    },
    {
     "data": {
      "image/png": "[encoded data removed]",
      "text/plain": [
       "<Figure size 432x288 with 1 Axes>"
      ]
     },
     "metadata": {
      "needs_background": "light"
     },
     "output_type": "display_data"
    },
    {
     "data": {
      "image/png": "[encoded data removed]",
      "text/plain": [
       "<Figure size 432x288 with 1 Axes>"
      ]
     },
     "metadata": {
      "needs_background": "light"
     },
     "output_type": "display_data"
    },
    {
     "data": {
      "image/png": "[encoded data removed]",
      "text/plain": [
       "<Figure size 432x288 with 1 Axes>"
      ]
     },
     "metadata": {
      "needs_background": "light"
     },
     "output_type": "display_data"
    },
    {
     "data": {
      "image/png": "[encoded data removed]",
      "text/plain": [
       "<Figure size 432x288 with 1 Axes>"
      ]
     },
     "metadata": {
      "needs_background": "light"
     },
     "output_type": "display_data"
    },
    {
     "data": {
      "image/png": "[encoded data removed]",
      "text/plain": [
       "<Figure size 432x288 with 1 Axes>"
      ]
     },
     "metadata": {
      "needs_background": "light"
     },
     "output_type": "display_data"
    },
    {
     "data": {
      "image/png": "[encoded data removed]",
      "text/plain": [
       "<Figure size 432x288 with 1 Axes>"
      ]
     },
     "metadata": {
      "needs_background": "light"
     },
     "output_type": "display_data"
    },
    {
     "data": {
      "image/png": "[encoded data removed]",
      "text/plain": [
       "<Figure size 432x288 with 1 Axes>"
      ]
     },
     "metadata": {
      "needs_background": "light"
     },
     "output_type": "display_data"
    },
    {
     "data": {
      "image/png": "[encoded data removed]",
      "text/plain": [
       "<Figure size 432x288 with 1 Axes>"
      ]
     },
     "metadata": {
      "needs_background": "light"
     },
     "output_type": "display_data"
    },
    {
     "data": {
      "image/png": "[encoded data removed]",
      "text/plain": [
       "<Figure size 432x288 with 1 Axes>"
      ]
     },
     "metadata": {
      "needs_background": "light"
     },
     "output_type": "display_data"
    },
    {
     "data": {
      "image/png": "[encoded data removed]",
      "text/plain": [
       "<Figure size 432x288 with 1 Axes>"
      ]
     },
     "metadata": {
      "needs_background": "light"
     },
     "output_type": "display_data"
    },
    {
     "data": {
      "image/png": "[encoded data removed]",
      "text/plain": [
       "<Figure size 432x288 with 1 Axes>"
      ]
     },
     "metadata": {
      "needs_background": "light"
     },
     "output_type": "display_data"
    },
    {
     "data": {
      "image/png": "[encoded data removed]",
      "text/plain": [
       "<Figure size 432x288 with 1 Axes>"
      ]
     },
     "metadata": {
      "needs_background": "light"
     },
     "output_type": "display_data"
    },
    {
     "data": {
      "image/png": "[encoded data removed]",
      "text/plain": [
       "<Figure size 432x288 with 1 Axes>"
      ]
     },
     "metadata": {
      "needs_background": "light"
     },
     "output_type": "display_data"
    },
    {
     "data": {
      "image/png": "[encoded data removed]",
      "text/plain": [
       "<Figure size 432x288 with 1 Axes>"
      ]
     },
     "metadata": {
      "needs_background": "light"
     },
     "output_type": "display_data"
    },
    {
     "data": {
      "image/png": "[encoded data removed]",
      "text/plain": [
       "<Figure size 432x288 with 1 Axes>"
      ]
     },
     "metadata": {
      "needs_background": "light"
     },
     "output_type": "display_data"
    },
    {
     "data": {
      "image/png": "[encoded data removed]",
      "text/plain": [
       "<Figure size 432x288 with 1 Axes>"
      ]
     },
     "metadata": {
      "needs_background": "light"
     },
     "output_type": "display_data"
    },
    {
     "data": {
      "image/png": "[encoded data removed]",
      "text/plain": [
       "<Figure size 432x288 with 1 Axes>"
      ]
     },
     "metadata": {
      "needs_background": "light"
     },
     "output_type": "display_data"
    },
    {
     "data": {
      "image/png": "[encoded data removed]",
      "text/plain": [
       "<Figure size 432x288 with 1 Axes>"
      ]
     },
     "metadata": {
      "needs_background": "light"
     },
     "output_type": "display_data"
    },
    {
     "data": {
      "image/png": "[encoded data removed]",
      "text/plain": [
       "<Figure size 432x288 with 1 Axes>"
      ]
     },
     "metadata": {
      "needs_background": "light"
     },
     "output_type": "display_data"
    },
    {
     "data": {
      "image/png": "[encoded data removed]",
      "text/plain": [
       "<Figure size 432x288 with 1 Axes>"
      ]
     },
     "metadata": {
      "needs_background": "light"
     },
     "output_type": "display_data"
    },
    {
     "data": {
      "image/png": "[encoded data removed]",
      "text/plain": [
       "<Figure size 432x288 with 1 Axes>"
      ]
     },
     "metadata": {
      "needs_background": "light"
     },
     "output_type": "display_data"
    },
    {
     "data": {
      "image/png": "[encoded data removed]",
      "text/plain": [
       "<Figure size 432x288 with 1 Axes>"
      ]
     },
     "metadata": {
      "needs_background": "light"
     },
     "output_type": "display_data"
    },
    {
     "data": {
      "image/png": "[encoded data removed]",
      "text/plain": [
       "<Figure size 432x288 with 1 Axes>"
      ]
     },
     "metadata": {
      "needs_background": "light"
     },
     "output_type": "display_data"
    },
    {
     "data": {
      "image/png": "[encoded data removed]",
      "text/plain": [
       "<Figure size 432x288 with 1 Axes>"
      ]
     },
     "metadata": {
      "needs_background": "light"
     },
     "output_type": "display_data"
    },
    {
     "data": {
      "image/png": "[encoded data removed]",
      "text/plain": [
       "<Figure size 432x288 with 1 Axes>"
      ]
     },
     "metadata": {
      "needs_background": "light"
     },
     "output_type": "display_data"
    },
    {
     "data": {
      "image/png": "[encoded data removed]",
      "text/plain": [
       "<Figure size 432x288 with 1 Axes>"
      ]
     },
     "metadata": {
      "needs_background": "light"
     },
     "output_type": "display_data"
    },
    {
     "data": {
      "image/png": "[encoded data removed]",
      "text/plain": [
       "<Figure size 432x288 with 1 Axes>"
      ]
     },
     "metadata": {
      "needs_background": "light"
     },
     "output_type": "display_data"
    },
    {
     "data": {
      "image/png": "[encoded data removed]",
      "text/plain": [
       "<Figure size 432x288 with 1 Axes>"
      ]
     },
     "metadata": {
      "needs_background": "light"
     },
     "output_type": "display_data"
    },
    {
     "data": {
      "image/png": "[encoded data removed]",
      "text/plain": [
       "<Figure size 432x288 with 1 Axes>"
      ]
     },
     "metadata": {
      "needs_background": "light"
     },
     "output_type": "display_data"
    },
    {
     "data": {
      "image/png": "[encoded data removed]",
      "text/plain": [
       "<Figure size 432x288 with 1 Axes>"
      ]
     },
     "metadata": {
      "needs_background": "light"
     },
     "output_type": "display_data"
    },
    {
     "data": {
      "image/png": "[encoded data removed]",
      "text/plain": [
       "<Figure size 432x288 with 1 Axes>"
      ]
     },
     "metadata": {
      "needs_background": "light"
     },
     "output_type": "display_data"
    }
   ],
   "source": [
    "boxplot_results_per_panel(values_per_panel)"
   ]
  },
  {
   "cell_type": "code",
   "execution_count": null,
   "metadata": {},
   "outputs": [],
   "source": []
  },
  {
   "cell_type": "markdown",
   "metadata": {},
   "source": [
    "## Heatmaps: Annotator agreement and reliability"
   ]
  },
  {
   "cell_type": "code",
   "execution_count": 42,
   "metadata": {},
   "outputs": [],
   "source": [
    "# Functions to create heatmap of annotator agreement:"
   ]
  },
  {
   "cell_type": "code",
   "execution_count": 43,
   "metadata": {},
   "outputs": [],
   "source": [
    "# Additional utilities for plotting images\n",
    "# from: https://shravan-kuchkula.github.io/nlp/document_similarity/#plot-a-heatmap-of-cosine-similarity-values\n",
    "\n",
    "##############################\n",
    "#  Module: utils.py\n",
    "#  Author: Shravan Kuchkula\n",
    "#  Date: 07/19/2019\n",
    "##############################\n",
    "\n",
    "from sklearn.feature_extraction.text import CountVectorizer, TfidfVectorizer\n",
    "import numpy as np\n",
    "import seaborn as sns\n",
    "import matplotlib.pyplot as plt\n",
    "import pandas as pd\n",
    "\n",
    "\n",
    "def plot_heatmap(df_hm, xlabels, ylabels, title):\n",
    "    \"\"\"\n",
    "    Given a dataframe containing similarity grid, plot the heatmap\n",
    "    \"\"\"\n",
    "    sns.set(style=\"white\")\n",
    "\n",
    "    # Set up the matplotlib figure\n",
    "    # (to enlarge the cells, increase the figure size)\n",
    "    fig, ax = plt.subplots(figsize=(10, 10)) \n",
    "\n",
    "    # Generate a custom diverging colormap\n",
    "    #sns.diverging_palette(\"coolwarm\", as_cmap=True)\n",
    "\n",
    "    #cmap = sns.color_palette(\"viridis\", as_cmap=True)\n",
    "    #sns.diverging_palette(\"coolwarm\", as_cmap=True)\n",
    "    #cmap = sns.diverging_palette(\"coolwarm\")\n",
    "    cmap = sns.diverging_palette(260, 10, as_cmap=True)\n",
    "\n",
    "    # Generate a mask for the upper triangle\n",
    "    mask = np.zeros_like(df_hm, dtype = bool)\n",
    "    mask[np.triu_indices_from(mask)] = True\n",
    "\n",
    "    # Draw the heatmap with the mask and correct aspect ratio\n",
    "    sns.heatmap(df_hm, mask=mask, cmap=cmap, center=0.5, xticklabels=xlabels,\n",
    "                yticklabels=ylabels,\n",
    "                square=True, linewidths=.5, fmt='.2f',\n",
    "                annot=True, vmin=0, vmax=1, cbar_kws={\"shrink\": 0.75},\n",
    "                cbar=True)  \n",
    "    # NOTE: center is the center color value\n",
    "    # NOTE: vmin and vmax are the color map interval\n",
    "    \n",
    "#     b, t = plt.ylim() # discover the values for bottom and top\n",
    "#     b += 0.5 # Add 0.5 to the bottom\n",
    "#     t -= 0.5 # Subtract 0.5 from the top\n",
    "#     plt.ylim(b, t) # update the ylim(bottom, top) values\n",
    "\n",
    "    # create xtick locations\n",
    "    xtick_locations = []\n",
    "    for i in range(len(xlabels)):\n",
    "        xtick_locations.append(i+0.5)\n",
    "    #print(xtick_locations)\n",
    "    \n",
    "\n",
    "    ax.set_title(title).set_fontsize(15) # change the title to reflect the type of score\n",
    "    ax.set_xlabel(\"\")\n",
    "    ax.set_ylabel(\"\")\n",
    "    #ax.set_xticks(xtick_locations)\n",
    "    #ax.set_xticklabels(xlabels)\n",
    "    plt.xticks(rotation=45)\n",
    "    plt.yticks(rotation=0)\n",
    "    \n",
    "    plt.show()\n",
    "    \n"
   ]
  },
  {
   "cell_type": "code",
   "execution_count": 44,
   "metadata": {},
   "outputs": [],
   "source": [
    "# Heat Map of Similarity between Annotators\n",
    "# code from: https://shravan-kuchkula.github.io/nlp/document_similarity/#\n",
    "\n",
    "def create_heatmap_between_annotators_for_one_story(story_combinations, \n",
    "                                                    similarity_scores, \n",
    "                                                    annotators_list,\n",
    "                                                    title):\n",
    "    \n",
    "\n",
    "    # create dict with annotator name as the key and annotator index number from list as the value \n",
    "    annotator_to_idx = {annotator_name: i for i, annotator_name in enumerate(annotators_list)}\n",
    "    #print(annotator_to_idx)\n",
    "    \n",
    "    # create a dataframe\n",
    "    df = pd.DataFrame({'pairs': story_combinations, 'similarity': similarity_scores})\n",
    "    #display(df.head())\n",
    "    #display(df.tail())\n",
    "\n",
    "    # initialize an empty dataframe grid\n",
    "    df_hm = pd.DataFrame({'ind': range(len(annotators_list)), 'cols': range(len(annotators_list)), 'vals': pd.Series(np.zeros(len(annotators_list)))})\n",
    "\n",
    "    # convert to a matrix\n",
    "    df_hm = df_hm.pivot(index='ind', columns='cols')#.fillna(0)\n",
    "\n",
    "    #print(df_hm)\n",
    "\n",
    "    # make a copy\n",
    "    df_temp = df.copy()\n",
    "\n",
    "    # convert list of tuples into 2 lists\n",
    "    list1 = []\n",
    "    list2 = []\n",
    "    for item1, item2 in df_temp.pairs:\n",
    "        list1.append(item1)\n",
    "        list2.append(item2)\n",
    "\n",
    "    #print(list1)\n",
    "    #print(list2)\n",
    "\n",
    "    # add two columns to df_temp\n",
    "    df_temp['col1'] = list1\n",
    "    df_temp['col2'] = list2\n",
    "\n",
    "    # drop the pair as it not needed\n",
    "    df_temp.drop('pairs', axis=1, inplace=True)\n",
    "\n",
    "    # extract annotator index so that you can construct annotator pairs \n",
    "    df_temp['col1'] = df_temp['col1'].apply(lambda x: annotator_to_idx[x])\n",
    "    df_temp['col2'] = df_temp['col2'].apply(lambda x: annotator_to_idx[x])\n",
    "\n",
    "    # create tuples (0, 1, similarity)\n",
    "    df_temp['pairs'] = list(zip(df_temp.col1, df_temp.col2, round(df_temp.similarity, 2)))\n",
    "\n",
    "    #display(df_temp)\n",
    "\n",
    "    # to get lower diagonal, swap the rows and cols.\n",
    "    for row, col, similarity in df_temp.pairs:\n",
    "        df_hm.iloc[col, row] = similarity\n",
    "    \n",
    "    plot_heatmap(df_hm, annotators_list, annotators_list, title)\n",
    "\n",
    "\n",
    "    \n"
   ]
  },
  {
   "cell_type": "code",
   "execution_count": 45,
   "metadata": {},
   "outputs": [
    {
     "data": {
      "image/png": "[encoded data removed]",
      "text/plain": [
       "<Figure size 720x720 with 2 Axes>"
      ]
     },
     "metadata": {},
     "output_type": "display_data"
    }
   ],
   "source": [
    "annotators = [\"participant1\",\n",
    "              \"participant2\",\n",
    "              \"participant3\",\n",
    "              \"participant4\",\n",
    "              \"participant5\",\n",
    "              \"participant6\",\n",
    "              \"participant7\",\n",
    "              \"participant8\",\n",
    "              \"participant9\"]\n",
    "\n",
    "heatmap_panelIOU_pilot = create_heatmap_between_annotators_for_one_story(combinations_all_participants, \n",
    "                                                          pearsons_values,\n",
    "                                                          annotators,\n",
    "                                                          \"Heatmap of Pearson's r scores between \\n annotator pairs using an ordinal scale, Story 2\")\n"
   ]
  },
  {
   "cell_type": "code",
   "execution_count": null,
   "metadata": {},
   "outputs": [],
   "source": []
  },
  {
   "cell_type": "code",
   "execution_count": 46,
   "metadata": {},
   "outputs": [
    {
     "data": {
      "text/plain": [
       "{'participant1': [2.0,\n",
       "  4.0,\n",
       "  1.0,\n",
       "  2.0,\n",
       "  2.0,\n",
       "  1.0,\n",
       "  1.0,\n",
       "  1.0,\n",
       "  1.0,\n",
       "  2.0,\n",
       "  1.0,\n",
       "  1.0,\n",
       "  1.0,\n",
       "  2.0,\n",
       "  2.0,\n",
       "  1.0,\n",
       "  2.0,\n",
       "  2.0,\n",
       "  2.0,\n",
       "  2.0,\n",
       "  1.0,\n",
       "  1.0,\n",
       "  1.0,\n",
       "  1.0,\n",
       "  2.0,\n",
       "  2.0,\n",
       "  1.0,\n",
       "  1.0,\n",
       "  1.0,\n",
       "  1.0,\n",
       "  1.0],\n",
       " 'participant2': [3.0,\n",
       "  4.0,\n",
       "  1.0,\n",
       "  2.0,\n",
       "  2.0,\n",
       "  2.0,\n",
       "  1.0,\n",
       "  1.0,\n",
       "  2.0,\n",
       "  2.0,\n",
       "  2.0,\n",
       "  2.0,\n",
       "  2.0,\n",
       "  3.0,\n",
       "  3.0,\n",
       "  4.0,\n",
       "  4.0,\n",
       "  3.0,\n",
       "  2.0,\n",
       "  2.0,\n",
       "  3.0,\n",
       "  2.0,\n",
       "  1.0,\n",
       "  2.0,\n",
       "  3.0,\n",
       "  4.0,\n",
       "  1.0,\n",
       "  1.0,\n",
       "  1.0,\n",
       "  1.0,\n",
       "  1.0],\n",
       " 'participant3': [4.0,\n",
       "  5.0,\n",
       "  1.0,\n",
       "  2.0,\n",
       "  3.0,\n",
       "  2.0,\n",
       "  1.0,\n",
       "  1.0,\n",
       "  2.0,\n",
       "  4.0,\n",
       "  3.0,\n",
       "  3.0,\n",
       "  4.0,\n",
       "  5.0,\n",
       "  5.0,\n",
       "  4.0,\n",
       "  5.0,\n",
       "  5.0,\n",
       "  5.0,\n",
       "  5.0,\n",
       "  5.0,\n",
       "  5.0,\n",
       "  5.0,\n",
       "  5.0,\n",
       "  5.0,\n",
       "  4.0,\n",
       "  1.0,\n",
       "  1.0,\n",
       "  1.0,\n",
       "  1.0,\n",
       "  1.0],\n",
       " 'participant5': [4.0,\n",
       "  5.0,\n",
       "  1.0,\n",
       "  1.0,\n",
       "  3.0,\n",
       "  2.0,\n",
       "  1.0,\n",
       "  1.0,\n",
       "  2.0,\n",
       "  3.0,\n",
       "  2.0,\n",
       "  1.0,\n",
       "  2.0,\n",
       "  5.0,\n",
       "  4.0,\n",
       "  2.0,\n",
       "  4.0,\n",
       "  4.0,\n",
       "  3.0,\n",
       "  2.0,\n",
       "  4.0,\n",
       "  2.0,\n",
       "  1.0,\n",
       "  1.0,\n",
       "  4.0,\n",
       "  3.0,\n",
       "  1.0,\n",
       "  1.0,\n",
       "  1.0,\n",
       "  1.0,\n",
       "  1.0],\n",
       " 'participant6': [4.0,\n",
       "  5.0,\n",
       "  1.0,\n",
       "  2.0,\n",
       "  2.0,\n",
       "  1.0,\n",
       "  1.0,\n",
       "  1.0,\n",
       "  1.0,\n",
       "  1.0,\n",
       "  1.0,\n",
       "  2.0,\n",
       "  2.0,\n",
       "  5.0,\n",
       "  4.0,\n",
       "  4.0,\n",
       "  5.0,\n",
       "  4.0,\n",
       "  4.0,\n",
       "  2.0,\n",
       "  5.0,\n",
       "  4.0,\n",
       "  2.0,\n",
       "  2.0,\n",
       "  4.0,\n",
       "  2.0,\n",
       "  1.0,\n",
       "  1.0,\n",
       "  1.0,\n",
       "  1.0,\n",
       "  1.0],\n",
       " 'participant8': [5.0,\n",
       "  5.0,\n",
       "  1.0,\n",
       "  2.0,\n",
       "  4.0,\n",
       "  5.0,\n",
       "  2.0,\n",
       "  5.0,\n",
       "  2.0,\n",
       "  5.0,\n",
       "  3.0,\n",
       "  3.0,\n",
       "  4.0,\n",
       "  4.0,\n",
       "  4.0,\n",
       "  2.0,\n",
       "  5.0,\n",
       "  5.0,\n",
       "  5.0,\n",
       "  5.0,\n",
       "  5.0,\n",
       "  2.0,\n",
       "  2.0,\n",
       "  4.0,\n",
       "  4.0,\n",
       "  4.0,\n",
       "  1.0,\n",
       "  1.0,\n",
       "  1.0,\n",
       "  1.0,\n",
       "  1.0],\n",
       " 'participant9': [3.0,\n",
       "  5.0,\n",
       "  1.0,\n",
       "  2.0,\n",
       "  2.0,\n",
       "  2.0,\n",
       "  1.0,\n",
       "  2.0,\n",
       "  2.0,\n",
       "  2.0,\n",
       "  1.0,\n",
       "  1.0,\n",
       "  2.0,\n",
       "  5.0,\n",
       "  4.0,\n",
       "  4.0,\n",
       "  4.0,\n",
       "  3.0,\n",
       "  2.0,\n",
       "  1.0,\n",
       "  2.0,\n",
       "  2.0,\n",
       "  2.0,\n",
       "  2.0,\n",
       "  2.0,\n",
       "  3.0,\n",
       "  1.0,\n",
       "  1.0,\n",
       "  1.0,\n",
       "  1.0,\n",
       "  1.0]}"
      ]
     },
     "execution_count": 46,
     "metadata": {},
     "output_type": "execute_result"
    }
   ],
   "source": [
    "background_values_drop = background_values\n",
    "del background_values_drop[\"participant4\"]\n",
    "del background_values_drop[\"participant7\"]\n",
    "background_values_drop\n",
    "\n"
   ]
  },
  {
   "cell_type": "code",
   "execution_count": 47,
   "metadata": {},
   "outputs": [
    {
     "name": "stdout",
     "output_type": "stream",
     "text": [
      "Pearsons correlation coefficient: 0.618\n",
      "Samples are correlated (reject H0) p=0.000\n",
      "Pearsons correlation coefficient: 0.503\n",
      "Samples are correlated (reject H0) p=0.004\n",
      "Pearsons correlation coefficient: 0.735\n",
      "Samples are correlated (reject H0) p=0.000\n",
      "Pearsons correlation coefficient: 0.557\n",
      "Samples are correlated (reject H0) p=0.001\n",
      "Pearsons correlation coefficient: 0.552\n",
      "Samples are correlated (reject H0) p=0.001\n",
      "Pearsons correlation coefficient: 0.647\n",
      "Samples are correlated (reject H0) p=0.000\n",
      "Pearsons correlation coefficient: 0.699\n",
      "Samples are correlated (reject H0) p=0.000\n",
      "Pearsons correlation coefficient: 0.796\n",
      "Samples are correlated (reject H0) p=0.000\n",
      "Pearsons correlation coefficient: 0.779\n",
      "Samples are correlated (reject H0) p=0.000\n",
      "Pearsons correlation coefficient: 0.581\n",
      "Samples are correlated (reject H0) p=0.001\n",
      "Pearsons correlation coefficient: 0.818\n",
      "Samples are correlated (reject H0) p=0.000\n",
      "Pearsons correlation coefficient: 0.701\n",
      "Samples are correlated (reject H0) p=0.000\n",
      "Pearsons correlation coefficient: 0.787\n",
      "Samples are correlated (reject H0) p=0.000\n",
      "Pearsons correlation coefficient: 0.656\n",
      "Samples are correlated (reject H0) p=0.000\n",
      "Pearsons correlation coefficient: 0.608\n",
      "Samples are correlated (reject H0) p=0.000\n",
      "Pearsons correlation coefficient: 0.817\n",
      "Samples are correlated (reject H0) p=0.000\n",
      "Pearsons correlation coefficient: 0.691\n",
      "Samples are correlated (reject H0) p=0.000\n",
      "Pearsons correlation coefficient: 0.778\n",
      "Samples are correlated (reject H0) p=0.000\n",
      "Pearsons correlation coefficient: 0.513\n",
      "Samples are correlated (reject H0) p=0.003\n",
      "Pearsons correlation coefficient: 0.770\n",
      "Samples are correlated (reject H0) p=0.000\n",
      "Pearsons correlation coefficient: 0.492\n",
      "Samples are correlated (reject H0) p=0.005\n",
      "[0.6176207566630455, 0.502798707137317, 0.7348629888791846, 0.5566850802385948, 0.5518904452639983, 0.6470509202505471, 0.6994489503318926, 0.7963921040272758, 0.7792466796727102, 0.5812865775950595, 0.8179123820313553, 0.7010896166450509, 0.7869764130410152, 0.6560398108815613, 0.6084046815612117, 0.8171816828619223, 0.6908281407141831, 0.7776975324992907, 0.5130373216181892, 0.7698454171115092, 0.49172733039438354]\n",
      "correlated:  0\n",
      "not correlated:  21\n",
      "0.6713344542580617\n"
     ]
    }
   ],
   "source": [
    "\n",
    "combinations_annotators_drop = get_combinations_of_annotators(background_values_drop)\n",
    "\n",
    "\n",
    "corr = 0\n",
    "not_corr = 0\n",
    "\n",
    "pearsons_values = []\n",
    "for participant_pair in combinations_annotators_drop:\n",
    "    ann1 = participant_pair[0]\n",
    "    ann2 = participant_pair[1]\n",
    "    pearsons_value, p = get_pearsonsr(background_values_drop[ann1], background_values_drop[ann2])\n",
    "    if p > 0.01:\n",
    "        corr +=1\n",
    "    if p < 0.01:\n",
    "        not_corr +=1\n",
    "    pearsons_values.append(pearsons_value)\n",
    "    \n",
    "print(pearsons_values)\n",
    "print(\"correlated: \", corr)\n",
    "print(\"not correlated: \", not_corr)\n",
    "print(np.mean(pearsons_values))\n",
    "\n"
   ]
  },
  {
   "cell_type": "code",
   "execution_count": null,
   "metadata": {},
   "outputs": [],
   "source": []
  },
  {
   "cell_type": "code",
   "execution_count": null,
   "metadata": {},
   "outputs": [],
   "source": []
  },
  {
   "cell_type": "code",
   "execution_count": null,
   "metadata": {},
   "outputs": [],
   "source": []
  }
 ],
 "metadata": {
  "kernelspec": {
   "display_name": "Python 3 (ipykernel)",
   "language": "python",
   "name": "python3"
  },
  "language_info": {
   "codemirror_mode": {
    "name": "ipython",
    "version": 3
   },
   "file_extension": ".py",
   "mimetype": "text/x-python",
   "name": "python",
   "nbconvert_exporter": "python",
   "pygments_lexer": "ipython3",
   "version": "3.9.10"
  }
 },
 "nbformat": 4,
 "nbformat_minor": 2
}
