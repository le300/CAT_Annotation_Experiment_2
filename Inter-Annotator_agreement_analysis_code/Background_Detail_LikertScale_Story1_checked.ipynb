{
 "cells": [
  {
   "cell_type": "markdown",
   "metadata": {},
   "source": [
    "# Background Detail Likert Scale - Story 1"
   ]
  },
  {
   "cell_type": "markdown",
   "metadata": {},
   "source": [
    "This notebook assesses inter-annotator agreement for the background detail/information amount score. \n",
    "It imports JSON files to perform a number of statistical tests to assess inter-annotator agreement. "
   ]
  },
  {
   "cell_type": "markdown",
   "metadata": {},
   "source": [
    "##### Imports and packages"
   ]
  },
  {
   "cell_type": "code",
   "execution_count": 1,
   "metadata": {},
   "outputs": [],
   "source": [
    "# Imports and Packages:\n",
    "\n",
    "import json # json library\n",
    "import os # for list directories \n",
    "\n",
    "from collections import Counter # counter library\n",
    "import re # regex\n",
    "\n",
    "import numpy as np \n",
    "import math\n",
    "import matplotlib.pyplot as plt\n",
    "\n",
    "import itertools\n",
    "from itertools import permutations # library to print permutations\n",
    "from itertools import combinations # library to print combinations\n",
    "\n",
    "import sklearn # sklearn for inter-annotation kappa scores\n",
    "from sklearn.metrics import cohen_kappa_score\n",
    "import statsmodels\n",
    "from statsmodels.stats.inter_rater import fleiss_kappa\n",
    "\n",
    "import krippendorff #import for (Fleiss) Kappa alpha - Krippendorff alpha - inter-annotator agreement for more than 2 annotators\n",
    "\n",
    "import scipy.stats\n",
    "from scipy.stats import mode \n",
    "from scipy.stats import zscore # normalise data\n",
    "from scipy.stats import mannwhitneyu # for Mann-Whitney U test\n",
    "from scipy.stats import ttest_ind # independent t-test\n",
    "from scipy.stats import spearmanr # spearmans rank\n",
    "from scipy.stats import pearsonr # pearson's r\n",
    "\n"
   ]
  },
  {
   "cell_type": "markdown",
   "metadata": {},
   "source": [
    "##### Import JSON data"
   ]
  },
  {
   "cell_type": "code",
   "execution_count": 2,
   "metadata": {},
   "outputs": [],
   "source": [
    "# Import JSON data from Prolific Study\n",
    "\n",
    "path_to_jsonFiles = \"Annotations_Prolific/Background_Detail_LikertScale_Story1/Processed_Data\" # This is the folder with the json data files\n",
    "corpus = {} # init a dict to hold each json data file\n",
    "participantNum = 1 # init a participant num counter\n",
    "\n",
    "for file in sorted(os.listdir(path_to_jsonFiles)):\n",
    "    if file.endswith('.json'): # check that the file has a json extension (to circumvent hidden .DS_store files)\n",
    "        full_file_name = \"%s/%s\" % (path_to_jsonFiles, file)\n",
    "        with open(full_file_name, 'r') as fi:\n",
    "            storyName = \"participant\" + str(participantNum)\n",
    "            story_data = json.load(fi)\n",
    "            corpus[storyName] = story_data\n",
    "        participantNum += 1\n",
    "    \n",
    "# all_stories holds all the json data files, with key \"storyN\" and value is the read in json file\n"
   ]
  },
  {
   "cell_type": "code",
   "execution_count": 3,
   "metadata": {},
   "outputs": [],
   "source": [
    "# check that the data was read in correctly\n",
    "# corpus['participant10']"
   ]
  },
  {
   "cell_type": "markdown",
   "metadata": {},
   "source": [
    "##### Get annotator pair combinations as pairs of names in a list"
   ]
  },
  {
   "cell_type": "code",
   "execution_count": 6,
   "metadata": {},
   "outputs": [],
   "source": [
    "# Combinations of annotators:\n",
    "# Function to get the combinations of all participants\n",
    "\n",
    "def get_combinations_of_annotators(all_annotation_data):\n",
    "    \"\"\"\n",
    "    Takes: a dict containing all annotation data - this is the input of reading in all json files,\n",
    "            as is done above.\n",
    "    Returns: a list of tuples containing pairs of strings that indicate annotators. In other words, a list of \n",
    "            annotator pairs.\n",
    "    \"\"\"\n",
    "    annotators = [] # init a list to store annotators\n",
    "    annotator_pairs = [] # init a list to store all combination pairs\n",
    "    \n",
    "    for annotator, annotation_data in all_annotation_data.items():\n",
    "        annotators.append(annotator)\n",
    "     \n",
    "    combs = itertools.combinations(annotators, 2) # get annotator combinations in sets of two\n",
    "    \n",
    "    for ann in list(combs):\n",
    "        annotator_pairs.append(ann)\n",
    "    \n",
    "    return annotator_pairs\n"
   ]
  },
  {
   "cell_type": "code",
   "execution_count": 7,
   "metadata": {},
   "outputs": [],
   "source": [
    "# Get all annotator combinations\n",
    "combinations_all_participants = get_combinations_of_annotators(corpus)\n"
   ]
  },
  {
   "cell_type": "code",
   "execution_count": null,
   "metadata": {},
   "outputs": [],
   "source": []
  },
  {
   "cell_type": "code",
   "execution_count": 8,
   "metadata": {},
   "outputs": [],
   "source": [
    "# get a list of all values per participant, put in a dict \"background_values\"\n",
    "\n",
    "background_values = {}\n",
    "\n",
    "for participant, story_info in corpus.items():\n",
    "    values = [] # init values list\n",
    "    for page, page_info in story_info.items():\n",
    "        for panel, panel_info in page_info.items():\n",
    "            background_info = panel_info[\"background/setting\"]\n",
    "            value = float(background_info[\"information_amount\"])\n",
    "            values.append(value)\n",
    "    \n",
    "    background_values[participant] = values\n",
    "    \n",
    "#background_values    \n",
    "    \n"
   ]
  },
  {
   "cell_type": "markdown",
   "metadata": {},
   "source": [
    "##### Store the annotation values per annotator in a dictionary and list of lists for easier analysis"
   ]
  },
  {
   "cell_type": "code",
   "execution_count": 9,
   "metadata": {},
   "outputs": [
    {
     "name": "stdout",
     "output_type": "stream",
     "text": [
      "10\n"
     ]
    }
   ],
   "source": [
    "# put all sets of background values into a list of lists\n",
    "\n",
    "list_of_lists_of_all_participant_values = []\n",
    "for participant, values_list in background_values.items():\n",
    "    #print(participant)\n",
    "    #print(values_list)\n",
    "    list_of_lists_of_all_participant_values.append(values_list)\n",
    "    \n",
    "print(len(list_of_lists_of_all_participant_values))\n"
   ]
  },
  {
   "cell_type": "markdown",
   "metadata": {},
   "source": [
    "### Krippendorff's Alpha"
   ]
  },
  {
   "cell_type": "markdown",
   "metadata": {},
   "source": [
    "##### Function to calculate Krippendorff's Alpha"
   ]
  },
  {
   "cell_type": "code",
   "execution_count": 10,
   "metadata": {},
   "outputs": [],
   "source": [
    "# Krippendorff's Alpha - Inter-rater agreement measure\n",
    "\n",
    "# Code from https://github.com/grrrr/krippendorff-alpha/blob/master/krippendorff_alpha.py\n",
    "# gotta reference this github\n",
    "\n",
    "def nominal_metric(a, b):\n",
    "    return a != b\n",
    "\n",
    "def interval_metric(a, b):\n",
    "    return (a-b)**2\n",
    "\n",
    "def ratio_metric(a, b):\n",
    "    return ((a-b)/(a+b))**2\n",
    "\n",
    "# def ordinal_metric(a, b):\n",
    "#     return ()\n",
    "\n",
    "def krippendorff_alpha(data, metric=interval_metric, force_vecmath=False, convert_items=float, missing_items=None):\n",
    "    '''\n",
    "    Python implementation of Krippendorff's alpha -- inter-rater reliability\n",
    "    (c)2011-17 Thomas Grill (http://grrrr.org)\n",
    "    Python version >= 2.4 required\n",
    "\n",
    "    Calculate Krippendorff's alpha (inter-rater reliability):\n",
    "    \n",
    "    data is in the format\n",
    "    [\n",
    "        {unit1:value, unit2:value, ...},  # coder 1\n",
    "        {unit1:value, unit3:value, ...},   # coder 2\n",
    "        ...                            # more coders\n",
    "    ]\n",
    "    or it is a sequence of (masked) sequences (list, numpy.array, numpy.ma.array, e.g.) with rows corresponding to \n",
    "    coders and columns to items\n",
    "    \n",
    "    metric: function calculating the pairwise distance\n",
    "    force_vecmath: force vector math for custom metrics (numpy required)\n",
    "    convert_items: function for the type conversion of items (default: float)\n",
    "    missing_items: indicator for missing items (default: None)\n",
    "    '''\n",
    "    \n",
    "    # number of coders\n",
    "    m = len(data)\n",
    "    \n",
    "    # set of constants identifying missing values\n",
    "    if missing_items is None:\n",
    "        maskitems = []\n",
    "    else:\n",
    "        maskitems = list(missing_items)\n",
    "    if np is not None:\n",
    "        maskitems.append(np.ma.masked_singleton)\n",
    "    \n",
    "    # convert input data to a dict of items\n",
    "    units = {}\n",
    "    for d in data:\n",
    "        try:\n",
    "            # try if d behaves as a dict\n",
    "            diter = d.items()\n",
    "        except AttributeError:\n",
    "            # sequence assumed for d\n",
    "            diter = enumerate(d)\n",
    "            \n",
    "        for it, g in diter:\n",
    "            if g not in maskitems:\n",
    "                try:\n",
    "                    its = units[it]\n",
    "                except KeyError:\n",
    "                    its = []\n",
    "                    units[it] = its\n",
    "                its.append(convert_items(g))\n",
    "\n",
    "\n",
    "    units = dict((it, d) for it, d in units.items() if len(d) > 1)  # units with pairable values\n",
    "    n = sum(len(pv) for pv in units.values())  # number of pairable values\n",
    "    \n",
    "    if n == 0:\n",
    "        raise ValueError(\"No items to compare.\")\n",
    "    \n",
    "    np_metric = (np is not None) and ((metric in (interval_metric, nominal_metric, ratio_metric)) or force_vecmath)\n",
    "    \n",
    "    Do = 0.\n",
    "    for grades in units.values():\n",
    "        if np_metric:\n",
    "            gr = np.asarray(grades)\n",
    "            Du = sum(np.sum(metric(gr, gri)) for gri in gr)\n",
    "        else:\n",
    "            Du = sum(metric(gi, gj) for gi in grades for gj in grades)\n",
    "        Do += Du/float(len(grades)-1)\n",
    "    Do /= float(n)\n",
    "\n",
    "    if Do == 0:\n",
    "        return 1.\n",
    "\n",
    "    De = 0.\n",
    "    for g1 in units.values():\n",
    "        if np_metric:\n",
    "            d1 = np.asarray(g1)\n",
    "            for g2 in units.values():\n",
    "                De += sum(np.sum(metric(d1, gj)) for gj in g2)\n",
    "        else:\n",
    "            for g2 in units.values():\n",
    "                De += sum(metric(gi, gj) for gi in g1 for gj in g2)\n",
    "    De /= float(n*(n-1))\n",
    "\n",
    "    return 1.-Do/De if (Do and De) else 1.\n"
   ]
  },
  {
   "cell_type": "code",
   "execution_count": 15,
   "metadata": {},
   "outputs": [],
   "source": [
    "# no ordinal metric available in this function\n",
    "# kalpha = krippendorff_alpha(list_of_lists_of_all_participant_values, ordinal_metric) # get the k alpha for each ind agent\n",
    "# print(kalpha)\n"
   ]
  },
  {
   "cell_type": "markdown",
   "metadata": {},
   "source": [
    "##### Krippendorff's Alpha result for all-against-all annotators, using the Krippendorff 0.7.0 Python package"
   ]
  },
  {
   "cell_type": "code",
   "execution_count": 18,
   "metadata": {},
   "outputs": [],
   "source": [
    "from krippendorff.krippendorff import alpha"
   ]
  },
  {
   "cell_type": "code",
   "execution_count": 19,
   "metadata": {},
   "outputs": [
    {
     "name": "stdout",
     "output_type": "stream",
     "text": [
      "0.563556013344396\n"
     ]
    }
   ],
   "source": [
    "print(krippendorff.alpha(list_of_lists_of_all_participant_values, level_of_measurement=\"ordinal\"))"
   ]
  },
  {
   "cell_type": "markdown",
   "metadata": {},
   "source": [
    "##### Krippendorff's Alpha results for all individual annotator pairs"
   ]
  },
  {
   "cell_type": "code",
   "execution_count": 20,
   "metadata": {},
   "outputs": [
    {
     "name": "stdout",
     "output_type": "stream",
     "text": [
      "Pairwise KA values: \n",
      "\n",
      "[0.5193834656702475, 0.8154296875, 0.7848882035466461, 0.6799999999999999, 0.6766679826292934, 0.625, 0.5423246999368287, 0.5219554670978978, 0.4081514669749964, 0.37131264393025554, 0.5947986577181208, 0.4102350738506345, 0.71875, 0.639821029082774, 0.736061875604254, 0.3332264271969211, 0.4194956353055286, 0.6469523234761617, 0.4968051118210862, 0.6114537444933921, 0.5218750000000001, 0.3853658536585365, 0.6474438015745044, 0.21505601507695526, 0.5244338498212158, 0.7630465444287728, 0.5648110524177163, 0.45712671281254413, 0.5480434782608695, 0.3046714579055442, 0.4874647185787814, 0.6085335542667771, 0.41271186440677965, 0.4298205246203406, 0.3977507029053421, 0.6461315455698496, 0.6513629842180775, 0.4327330508474576, 0.365625, 0.6185671039354188, 0.38052130482284996, 0.5118324607329843, 0.31466147101802233, 0.6756557979897033, 0.2083576855639977]\n",
      "\n",
      "\n",
      "mean:  0.5250292673615127\n",
      "std:  0.14766332537336205\n"
     ]
    }
   ],
   "source": [
    "KA_values = []\n",
    "for participant_pair in combinations_all_participants:\n",
    "    ann1 = participant_pair[0]\n",
    "    ann2 = participant_pair[1]\n",
    "    KA_value = krippendorff_alpha([background_values[ann1], background_values[ann2]])\n",
    "    KA_values.append(KA_value)\n",
    "    \n",
    "print(\"Pairwise KA values: \\n\")\n",
    "print(KA_values)\n",
    "print(\"\\n\")\n",
    "print(\"mean: \", np.mean(KA_values))\n",
    "print(\"std: \", np.std(KA_values))\n",
    "\n",
    "#print(background_values[ann1])"
   ]
  },
  {
   "cell_type": "code",
   "execution_count": null,
   "metadata": {},
   "outputs": [],
   "source": []
  },
  {
   "cell_type": "markdown",
   "metadata": {},
   "source": [
    "### Per-panel analysis of annotator agreement"
   ]
  },
  {
   "cell_type": "markdown",
   "metadata": {},
   "source": [
    "##### Get all annotators raw values and z-score normalised values per panel "
   ]
  },
  {
   "cell_type": "code",
   "execution_count": 22,
   "metadata": {},
   "outputs": [],
   "source": [
    "# Get each zscore value per panel \n",
    "\n",
    "raw_score_per_panel = {}\n",
    "\n",
    "for participant, values in background_values.items():\n",
    "    panelNum = 0\n",
    "    for val in values:\n",
    "        panelName = panelNum + 1\n",
    "        if raw_score_per_panel.get(panelName) == None:\n",
    "            raw_score_per_panel[panelName] = []\n",
    "        if raw_score_per_panel.get(panelName) != None:\n",
    "            raw_score_per_panel[panelName].append(val)\n",
    "        panelNum += 1\n",
    "    \n"
   ]
  },
  {
   "cell_type": "code",
   "execution_count": 23,
   "metadata": {},
   "outputs": [],
   "source": [
    "# Mean for the raw score of each panel\n",
    "\n",
    "mean_per_panel = {}\n",
    "\n",
    "for panelNum, scores in raw_score_per_panel.items():\n",
    "    mean_per_panel[panelNum] = np.mean(scores)\n"
   ]
  },
  {
   "cell_type": "code",
   "execution_count": 24,
   "metadata": {},
   "outputs": [
    {
     "data": {
      "text/plain": [
       "{1: 2.8,\n",
       " 2: 1.6,\n",
       " 3: 3.5,\n",
       " 4: 1.4,\n",
       " 5: 2.5,\n",
       " 6: 1.3,\n",
       " 7: 1.6,\n",
       " 8: 2.5,\n",
       " 9: 1.4,\n",
       " 10: 3.5,\n",
       " 11: 3.7,\n",
       " 12: 2.3,\n",
       " 13: 1.0,\n",
       " 14: 2.8,\n",
       " 15: 1.3,\n",
       " 16: 1.1,\n",
       " 17: 1.0,\n",
       " 18: 4.7,\n",
       " 19: 3.1,\n",
       " 20: 1.3,\n",
       " 21: 3.4,\n",
       " 22: 1.7,\n",
       " 23: 2.6,\n",
       " 24: 1.6,\n",
       " 25: 3.5,\n",
       " 26: 3.3,\n",
       " 27: 3.9,\n",
       " 28: 1.5,\n",
       " 29: 1.9,\n",
       " 30: 2.2,\n",
       " 31: 1.5,\n",
       " 32: 1.0}"
      ]
     },
     "execution_count": 24,
     "metadata": {},
     "output_type": "execute_result"
    }
   ],
   "source": [
    "mean_per_panel"
   ]
  },
  {
   "cell_type": "code",
   "execution_count": 25,
   "metadata": {},
   "outputs": [],
   "source": [
    "# Mean for the raw score of each panel\n",
    "\n",
    "mean_per_panel = {}\n",
    "\n",
    "for panelNum, scores in raw_score_per_panel.items():\n",
    "    mean_per_panel[panelNum] = np.mean(scores)\n"
   ]
  },
  {
   "cell_type": "code",
   "execution_count": 26,
   "metadata": {},
   "outputs": [],
   "source": [
    "# just means in a list without panel\n",
    "\n",
    "ordinal_story1_just_means = []\n",
    "\n",
    "for panel, mean in mean_per_panel.items():\n",
    "    ordinal_story1_just_means.append(mean)\n"
   ]
  },
  {
   "cell_type": "code",
   "execution_count": 27,
   "metadata": {},
   "outputs": [
    {
     "data": {
      "text/plain": [
       "[2.8,\n",
       " 1.6,\n",
       " 3.5,\n",
       " 1.4,\n",
       " 2.5,\n",
       " 1.3,\n",
       " 1.6,\n",
       " 2.5,\n",
       " 1.4,\n",
       " 3.5,\n",
       " 3.7,\n",
       " 2.3,\n",
       " 1.0,\n",
       " 2.8,\n",
       " 1.3,\n",
       " 1.1,\n",
       " 1.0,\n",
       " 4.7,\n",
       " 3.1,\n",
       " 1.3,\n",
       " 3.4,\n",
       " 1.7,\n",
       " 2.6,\n",
       " 1.6,\n",
       " 3.5,\n",
       " 3.3,\n",
       " 3.9,\n",
       " 1.5,\n",
       " 1.9,\n",
       " 2.2,\n",
       " 1.5,\n",
       " 1.0]"
      ]
     },
     "execution_count": 27,
     "metadata": {},
     "output_type": "execute_result"
    }
   ],
   "source": [
    "ordinal_story1_just_means"
   ]
  },
  {
   "cell_type": "code",
   "execution_count": null,
   "metadata": {},
   "outputs": [],
   "source": []
  },
  {
   "cell_type": "code",
   "execution_count": 28,
   "metadata": {},
   "outputs": [],
   "source": [
    "# z-score normalisation - normalise the raw background values for STUDY 2\n",
    "\n",
    "zscore_values = {}\n",
    "\n",
    "for participant, values in background_values.items():\n",
    "    int_values =  [float(i) for i in values]\n",
    "    normalised_values = zscore(int_values)\n",
    "    \n",
    "    zscore_values[participant] = list(normalised_values)\n",
    "    "
   ]
  },
  {
   "cell_type": "code",
   "execution_count": 29,
   "metadata": {},
   "outputs": [],
   "source": [
    "#zscore_values"
   ]
  },
  {
   "cell_type": "code",
   "execution_count": 30,
   "metadata": {},
   "outputs": [],
   "source": [
    "# Get each zscore value per panel \n",
    "\n",
    "zscores_per_panel = {}\n",
    "\n",
    "for participant, values in zscore_values.items():\n",
    "    panelNum = 0\n",
    "    for val in values:\n",
    "        panelName = panelNum + 1\n",
    "        if zscores_per_panel.get(panelName) == None:\n",
    "            zscores_per_panel[panelName] = []\n",
    "        if zscores_per_panel.get(panelName) != None:\n",
    "            zscores_per_panel[panelName].append(val)\n",
    "        panelNum += 1\n",
    "    \n"
   ]
  },
  {
   "cell_type": "code",
   "execution_count": 31,
   "metadata": {},
   "outputs": [],
   "source": [
    "# mean z_score per panel\n",
    "\n",
    "normalised_mean_per_panel = {}\n",
    "\n",
    "for panelNum, scores in zscores_per_panel.items():\n",
    "    normalised_mean_per_panel[panelNum] = np.mean(scores)\n"
   ]
  },
  {
   "cell_type": "code",
   "execution_count": 32,
   "metadata": {},
   "outputs": [
    {
     "data": {
      "text/plain": [
       "{1: 0.41265128052061756,\n",
       " 2: -0.5280125940073662,\n",
       " 3: 0.9724972879126035,\n",
       " 4: -0.6455689517204155,\n",
       " 5: 0.21254836658885976,\n",
       " 6: -0.7650986410312177,\n",
       " 7: -0.5707107701091843,\n",
       " 8: 0.20353896139172534,\n",
       " 9: -0.7347721078537373,\n",
       " 10: 0.9655541574325042,\n",
       " 11: 1.1282045271042969,\n",
       " 12: 0.008867772052005101,\n",
       " 13: -1.0205960802964447,\n",
       " 14: 0.34560383122861404,\n",
       " 15: -0.7651160463633587,\n",
       " 16: -0.9282200372261045,\n",
       " 17: -1.0205960802964447,\n",
       " 18: 2.0841518892781616,\n",
       " 19: 0.7386070702984376,\n",
       " 20: -0.7923600954944879,\n",
       " 21: 0.9805962139263474,\n",
       " 22: -0.3708445742224966,\n",
       " 23: 0.23033295406873613,\n",
       " 24: -0.5819512250335763,\n",
       " 25: 0.9355141548205097,\n",
       " 26: 0.7963345022228587,\n",
       " 27: 1.318562577369121,\n",
       " 28: -0.5588175487691327,\n",
       " 29: -0.26373806258846366,\n",
       " 30: -0.18785857444362072,\n",
       " 31: -0.578708076462903,\n",
       " 32: -1.0205960802964447}"
      ]
     },
     "execution_count": 32,
     "metadata": {},
     "output_type": "execute_result"
    }
   ],
   "source": [
    "normalised_mean_per_panel"
   ]
  },
  {
   "cell_type": "code",
   "execution_count": 33,
   "metadata": {},
   "outputs": [],
   "source": [
    "# just means in a list without panel\n",
    "ordinal_story1_just_means_normalised = []\n",
    "\n",
    "for panel, mean in normalised_mean_per_panel.items():\n",
    "    ordinal_story1_just_means_normalised.append(mean)\n",
    "    "
   ]
  },
  {
   "cell_type": "code",
   "execution_count": 34,
   "metadata": {},
   "outputs": [
    {
     "data": {
      "text/plain": [
       "[0.41265128052061756,\n",
       " -0.5280125940073662,\n",
       " 0.9724972879126035,\n",
       " -0.6455689517204155,\n",
       " 0.21254836658885976,\n",
       " -0.7650986410312177,\n",
       " -0.5707107701091843,\n",
       " 0.20353896139172534,\n",
       " -0.7347721078537373,\n",
       " 0.9655541574325042,\n",
       " 1.1282045271042969,\n",
       " 0.008867772052005101,\n",
       " -1.0205960802964447,\n",
       " 0.34560383122861404,\n",
       " -0.7651160463633587,\n",
       " -0.9282200372261045,\n",
       " -1.0205960802964447,\n",
       " 2.0841518892781616,\n",
       " 0.7386070702984376,\n",
       " -0.7923600954944879,\n",
       " 0.9805962139263474,\n",
       " -0.3708445742224966,\n",
       " 0.23033295406873613,\n",
       " -0.5819512250335763,\n",
       " 0.9355141548205097,\n",
       " 0.7963345022228587,\n",
       " 1.318562577369121,\n",
       " -0.5588175487691327,\n",
       " -0.26373806258846366,\n",
       " -0.18785857444362072,\n",
       " -0.578708076462903,\n",
       " -1.0205960802964447]"
      ]
     },
     "execution_count": 34,
     "metadata": {},
     "output_type": "execute_result"
    }
   ],
   "source": [
    "ordinal_story1_just_means_normalised"
   ]
  },
  {
   "cell_type": "code",
   "execution_count": null,
   "metadata": {},
   "outputs": [],
   "source": []
  },
  {
   "cell_type": "code",
   "execution_count": 35,
   "metadata": {},
   "outputs": [],
   "source": [
    "# STD for the z_score of each panel\n",
    "\n",
    "STD_per_panel = {}\n",
    "\n",
    "for panelNum, scores in zscores_per_panel.items():\n",
    "    STD_per_panel[panelNum] = np.std(scores)\n"
   ]
  },
  {
   "cell_type": "code",
   "execution_count": 36,
   "metadata": {},
   "outputs": [
    {
     "data": {
      "text/plain": [
       "{1: 0.8410287465318758,\n",
       " 2: 0.5179792027195849,\n",
       " 3: 0.8188950962841169,\n",
       " 4: 0.409194659393269,\n",
       " 5: 0.43644827121421437,\n",
       " 6: 0.32437564310451666,\n",
       " 7: 0.419625989500022,\n",
       " 8: 0.6266437720951176,\n",
       " 9: 0.4281408092130578,\n",
       " 10: 0.7770823275402636,\n",
       " 11: 0.5336607491632348,\n",
       " 12: 0.3437979294906818,\n",
       " 13: 0.20690550634596258,\n",
       " 14: 0.5942121978498527,\n",
       " 15: 0.43447442339283737,\n",
       " 16: 0.17559558697391908,\n",
       " 17: 0.20690550634596258,\n",
       " 18: 0.5918033463741874,\n",
       " 19: 0.8309238573949753,\n",
       " 20: 0.2588241657983888,\n",
       " 21: 1.0038230504880359,\n",
       " 22: 0.6528049587139978,\n",
       " 23: 0.374468381099904,\n",
       " 24: 0.8328307437665428,\n",
       " 25: 0.6233673911183462,\n",
       " 26: 0.43025766567544765,\n",
       " 27: 0.5902958139233513,\n",
       " 28: 0.6655190621608051,\n",
       " 29: 0.5394779924917859,\n",
       " 30: 0.9536948895389743,\n",
       " 31: 0.48591965718381264,\n",
       " 32: 0.20690550634596258}"
      ]
     },
     "execution_count": 36,
     "metadata": {},
     "output_type": "execute_result"
    }
   ],
   "source": [
    "STD_per_panel"
   ]
  },
  {
   "cell_type": "code",
   "execution_count": 37,
   "metadata": {},
   "outputs": [],
   "source": [
    "# just stds in a list without panel\n",
    "\n",
    "ordinal_story1_just_stds_normalised = []\n",
    "\n",
    "for panel, std in STD_per_panel.items():\n",
    "    ordinal_story1_just_stds_normalised.append(std)\n",
    "    "
   ]
  },
  {
   "cell_type": "code",
   "execution_count": 38,
   "metadata": {},
   "outputs": [
    {
     "data": {
      "text/plain": [
       "[0.8410287465318758,\n",
       " 0.5179792027195849,\n",
       " 0.8188950962841169,\n",
       " 0.409194659393269,\n",
       " 0.43644827121421437,\n",
       " 0.32437564310451666,\n",
       " 0.419625989500022,\n",
       " 0.6266437720951176,\n",
       " 0.4281408092130578,\n",
       " 0.7770823275402636,\n",
       " 0.5336607491632348,\n",
       " 0.3437979294906818,\n",
       " 0.20690550634596258,\n",
       " 0.5942121978498527,\n",
       " 0.43447442339283737,\n",
       " 0.17559558697391908,\n",
       " 0.20690550634596258,\n",
       " 0.5918033463741874,\n",
       " 0.8309238573949753,\n",
       " 0.2588241657983888,\n",
       " 1.0038230504880359,\n",
       " 0.6528049587139978,\n",
       " 0.374468381099904,\n",
       " 0.8328307437665428,\n",
       " 0.6233673911183462,\n",
       " 0.43025766567544765,\n",
       " 0.5902958139233513,\n",
       " 0.6655190621608051,\n",
       " 0.5394779924917859,\n",
       " 0.9536948895389743,\n",
       " 0.48591965718381264,\n",
       " 0.20690550634596258]"
      ]
     },
     "execution_count": 38,
     "metadata": {},
     "output_type": "execute_result"
    }
   ],
   "source": [
    "ordinal_story1_just_stds_normalised"
   ]
  },
  {
   "cell_type": "markdown",
   "metadata": {},
   "source": [
    "##### Sort by most agreed to least agreed panel"
   ]
  },
  {
   "cell_type": "code",
   "execution_count": 40,
   "metadata": {},
   "outputs": [
    {
     "name": "stdout",
     "output_type": "stream",
     "text": [
      "[(16, 0.17559558697391908), (13, 0.20690550634596258), (17, 0.20690550634596258), (32, 0.20690550634596258), (20, 0.2588241657983888), (6, 0.32437564310451666), (12, 0.3437979294906818), (23, 0.374468381099904), (4, 0.409194659393269), (7, 0.419625989500022), (9, 0.4281408092130578), (26, 0.43025766567544765), (15, 0.43447442339283737), (5, 0.43644827121421437), (31, 0.48591965718381264), (2, 0.5179792027195849), (11, 0.5336607491632348), (29, 0.5394779924917859), (27, 0.5902958139233513), (18, 0.5918033463741874), (14, 0.5942121978498527), (25, 0.6233673911183462), (8, 0.6266437720951176), (22, 0.6528049587139978), (28, 0.6655190621608051), (10, 0.7770823275402636), (3, 0.8188950962841169), (19, 0.8309238573949753), (24, 0.8328307437665428), (1, 0.8410287465318758), (30, 0.9536948895389743), (21, 1.0038230504880359)]\n"
     ]
    }
   ],
   "source": [
    "# get five highest and five lowest:\n",
    "        \n",
    "import operator\n",
    "sorted_STD_per_panel = sorted(STD_per_panel.items(), key=operator.itemgetter(1))\n",
    "\n",
    "print(sorted_STD_per_panel)\n"
   ]
  },
  {
   "cell_type": "code",
   "execution_count": null,
   "metadata": {},
   "outputs": [],
   "source": []
  },
  {
   "cell_type": "markdown",
   "metadata": {},
   "source": [
    "## Pearson's r and Spearman's rank between annotator pairs"
   ]
  },
  {
   "cell_type": "markdown",
   "metadata": {},
   "source": [
    "##### Calculate Spearman's rank between each annotator pair"
   ]
  },
  {
   "cell_type": "code",
   "execution_count": 41,
   "metadata": {},
   "outputs": [],
   "source": [
    "# Spearman's rank function \n",
    "\n",
    "def get_spearmans_rank(values_Ann1, values_Ann2):\n",
    "    \"\"\"\n",
    "    Takes: two lists of values\n",
    "    Returns: nothing, but prints the the p value and states whether the null hypothesis was rejected.\n",
    "    \"\"\"\n",
    "    # compare samples\n",
    "    coef, p = spearmanr(values_Ann1, values_Ann2)\n",
    "    print('%.3f' % coef)\n",
    "    # interpret the significance\n",
    "    alpha = 0.01\n",
    "    if p > alpha:\n",
    "        print('Samples are uncorrelated (fail to reject H0) p=%.3f' % p)\n",
    "    else:\n",
    "        print('Samples are correlated (reject H0) p=%.3f' % p)\n",
    "        \n",
    "    return coef, p\n"
   ]
  },
  {
   "cell_type": "code",
   "execution_count": null,
   "metadata": {},
   "outputs": [],
   "source": []
  },
  {
   "cell_type": "code",
   "execution_count": 42,
   "metadata": {},
   "outputs": [
    {
     "name": "stdout",
     "output_type": "stream",
     "text": [
      "participant1 and participant2:\n",
      "0.866\n",
      "Samples are correlated (reject H0) p=0.000\n",
      "participant1 and participant3:\n",
      "0.842\n",
      "Samples are correlated (reject H0) p=0.000\n",
      "participant1 and participant4:\n",
      "0.783\n",
      "Samples are correlated (reject H0) p=0.000\n",
      "participant1 and participant5:\n",
      "0.676\n",
      "Samples are correlated (reject H0) p=0.000\n",
      "participant1 and participant6:\n",
      "0.808\n",
      "Samples are correlated (reject H0) p=0.000\n",
      "participant1 and participant7:\n",
      "0.736\n",
      "Samples are correlated (reject H0) p=0.000\n",
      "participant1 and participant8:\n",
      "0.893\n",
      "Samples are correlated (reject H0) p=0.000\n",
      "participant1 and participant9:\n",
      "0.553\n",
      "Samples are correlated (reject H0) p=0.001\n",
      "participant1 and participant10:\n",
      "0.464\n",
      "Samples are correlated (reject H0) p=0.008\n",
      "participant2 and participant3:\n",
      "0.743\n",
      "Samples are correlated (reject H0) p=0.000\n",
      "participant2 and participant4:\n",
      "0.713\n",
      "Samples are correlated (reject H0) p=0.000\n",
      "participant2 and participant5:\n",
      "0.707\n",
      "Samples are correlated (reject H0) p=0.000\n",
      "participant2 and participant6:\n",
      "0.743\n",
      "Samples are correlated (reject H0) p=0.000\n",
      "participant2 and participant7:\n",
      "0.718\n",
      "Samples are correlated (reject H0) p=0.000\n",
      "participant2 and participant8:\n",
      "0.777\n",
      "Samples are correlated (reject H0) p=0.000\n",
      "participant2 and participant9:\n",
      "0.549\n",
      "Samples are correlated (reject H0) p=0.001\n",
      "participant2 and participant10:\n",
      "0.341\n",
      "Samples are uncorrelated (fail to reject H0) p=0.056\n",
      "participant3 and participant4:\n",
      "0.689\n",
      "Samples are correlated (reject H0) p=0.000\n",
      "participant3 and participant5:\n",
      "0.547\n",
      "Samples are correlated (reject H0) p=0.001\n",
      "participant3 and participant6:\n",
      "0.790\n",
      "Samples are correlated (reject H0) p=0.000\n",
      "participant3 and participant7:\n",
      "0.755\n",
      "Samples are correlated (reject H0) p=0.000\n",
      "participant3 and participant8:\n",
      "0.771\n",
      "Samples are correlated (reject H0) p=0.000\n",
      "participant3 and participant9:\n",
      "0.690\n",
      "Samples are correlated (reject H0) p=0.000\n",
      "participant3 and participant10:\n",
      "0.333\n",
      "Samples are uncorrelated (fail to reject H0) p=0.063\n",
      "participant4 and participant5:\n",
      "0.464\n",
      "Samples are correlated (reject H0) p=0.007\n",
      "participant4 and participant6:\n",
      "0.707\n",
      "Samples are correlated (reject H0) p=0.000\n",
      "participant4 and participant7:\n",
      "0.504\n",
      "Samples are correlated (reject H0) p=0.003\n",
      "participant4 and participant8:\n",
      "0.674\n",
      "Samples are correlated (reject H0) p=0.000\n",
      "participant4 and participant9:\n",
      "0.602\n",
      "Samples are correlated (reject H0) p=0.000\n",
      "participant4 and participant10:\n",
      "0.369\n",
      "Samples are uncorrelated (fail to reject H0) p=0.037\n",
      "participant5 and participant6:\n",
      "0.556\n",
      "Samples are correlated (reject H0) p=0.001\n",
      "participant5 and participant7:\n",
      "0.647\n",
      "Samples are correlated (reject H0) p=0.000\n",
      "participant5 and participant8:\n",
      "0.741\n",
      "Samples are correlated (reject H0) p=0.000\n",
      "participant5 and participant9:\n",
      "0.468\n",
      "Samples are correlated (reject H0) p=0.007\n",
      "participant5 and participant10:\n",
      "0.487\n",
      "Samples are correlated (reject H0) p=0.005\n",
      "participant6 and participant7:\n",
      "0.636\n",
      "Samples are correlated (reject H0) p=0.000\n",
      "participant6 and participant8:\n",
      "0.791\n",
      "Samples are correlated (reject H0) p=0.000\n",
      "participant6 and participant9:\n",
      "0.508\n",
      "Samples are correlated (reject H0) p=0.003\n",
      "participant6 and participant10:\n",
      "0.292\n",
      "Samples are uncorrelated (fail to reject H0) p=0.105\n",
      "participant7 and participant8:\n",
      "0.722\n",
      "Samples are correlated (reject H0) p=0.000\n",
      "participant7 and participant9:\n",
      "0.457\n",
      "Samples are correlated (reject H0) p=0.009\n",
      "participant7 and participant10:\n",
      "0.497\n",
      "Samples are correlated (reject H0) p=0.004\n",
      "participant8 and participant9:\n",
      "0.528\n",
      "Samples are correlated (reject H0) p=0.002\n",
      "participant8 and participant10:\n",
      "0.564\n",
      "Samples are correlated (reject H0) p=0.001\n",
      "participant9 and participant10:\n",
      "0.230\n",
      "Samples are uncorrelated (fail to reject H0) p=0.206\n",
      "********************\n",
      "[0.8655428507950114, 0.842410327437858, 0.7825430370008304, 0.6763785644776165, 0.8081391555606604, 0.7357947654532552, 0.89325228447757, 0.553295688903586, 0.4637826879315205, 0.7434107693586854, 0.7132120867197742, 0.7070286051660836, 0.7430655044677007, 0.7181563586907449, 0.7769340740273911, 0.5488017611585786, 0.341173789943624, 0.6890655920353024, 0.5471857908995319, 0.7900770697120083, 0.7548806839318993, 0.7709942386083025, 0.6896066045415471, 0.33263399745250427, 0.46400392813888397, 0.7068739176229257, 0.5039610367776655, 0.673676589153209, 0.6018381859601624, 0.36944118974608037, 0.5562520066002425, 0.6473007987785941, 0.7414796376898063, 0.46829474946093314, 0.486891833552197, 0.6357570725708646, 0.7909133487102364, 0.5079773978602772, 0.29166384151439756, 0.7215423072867281, 0.45662572337381296, 0.4974801572804818, 0.5282576724376131, 0.5637321910996287, 0.22990240655115193]\n",
      "correlated:  40\n",
      "not correlated:  5\n",
      "mean:  0.6206940506870551\n",
      "std:  0.1605552770985298\n"
     ]
    }
   ],
   "source": [
    "# Calculate Spearman's r between all combinations of annotators\n",
    "\n",
    "corr = 0\n",
    "not_corr = 0\n",
    "\n",
    "spearmans_values = []\n",
    "for participant_pair in combinations_all_participants:\n",
    "    ann1 = participant_pair[0]\n",
    "    ann2 = participant_pair[1]\n",
    "    print(ann1 + \" and \" + ann2 + \":\")\n",
    "    spearmans_value, p = get_spearmans_rank(background_values[ann1], background_values[ann2])\n",
    "    if p > 0.01:\n",
    "        not_corr +=1\n",
    "    if p < 0.01:\n",
    "        corr +=1\n",
    "    spearmans_values.append(spearmans_value)\n",
    "print(\"********************\")\n",
    "print(spearmans_values)\n",
    "print(\"correlated: \", corr)\n",
    "print(\"not correlated: \", not_corr)\n",
    "print(\"mean: \", np.mean(spearmans_values))\n",
    "print(\"std: \", np.std(spearmans_values))\n",
    "\n"
   ]
  },
  {
   "cell_type": "code",
   "execution_count": null,
   "metadata": {},
   "outputs": [],
   "source": []
  },
  {
   "cell_type": "markdown",
   "metadata": {},
   "source": [
    "##### Calculate Pearson's r scores between each annotator pair"
   ]
  },
  {
   "cell_type": "code",
   "execution_count": 43,
   "metadata": {},
   "outputs": [],
   "source": [
    "# Pearson's r function \n",
    "\n",
    "def get_pearsonsr(values_Ann1, values_Ann2):\n",
    "    \"\"\"\n",
    "    Takes: two lists of values\n",
    "    Returns: nothing, but prints the the p value and states whether the null hypothesis was rejected.\n",
    "    \"\"\"\n",
    "    \n",
    "    # compare samples\n",
    "    coef, p = pearsonr(values_Ann1, values_Ann2)\n",
    "    print('Pearsons correlation coefficient: %.3f' % coef)\n",
    "    # interpret the significance\n",
    "    alpha = 0.01\n",
    "    if p > alpha:\n",
    "        print('Samples are uncorrelated (fail to reject H0) p=%.3f' % p)\n",
    "    else:\n",
    "        print('Samples are correlated (reject H0) p=%.3f' % p)\n",
    "    \n",
    "    return coef, p\n"
   ]
  },
  {
   "cell_type": "code",
   "execution_count": 45,
   "metadata": {},
   "outputs": [
    {
     "name": "stdout",
     "output_type": "stream",
     "text": [
      "Pearsons correlation coefficient: 0.860\n",
      "Samples are correlated (reject H0) p=0.000\n",
      "Pearsons correlation coefficient: 0.839\n",
      "Samples are correlated (reject H0) p=0.000\n",
      "Pearsons correlation coefficient: 0.805\n",
      "Samples are correlated (reject H0) p=0.000\n",
      "Pearsons correlation coefficient: 0.696\n",
      "Samples are correlated (reject H0) p=0.000\n",
      "Pearsons correlation coefficient: 0.778\n",
      "Samples are correlated (reject H0) p=0.000\n",
      "Pearsons correlation coefficient: 0.713\n",
      "Samples are correlated (reject H0) p=0.000\n",
      "Pearsons correlation coefficient: 0.876\n",
      "Samples are correlated (reject H0) p=0.000\n",
      "Pearsons correlation coefficient: 0.524\n",
      "Samples are correlated (reject H0) p=0.002\n",
      "Pearsons correlation coefficient: 0.527\n",
      "Samples are correlated (reject H0) p=0.002\n",
      "Pearsons correlation coefficient: 0.718\n",
      "Samples are correlated (reject H0) p=0.000\n",
      "Pearsons correlation coefficient: 0.830\n",
      "Samples are correlated (reject H0) p=0.000\n",
      "Pearsons correlation coefficient: 0.714\n",
      "Samples are correlated (reject H0) p=0.000\n",
      "Pearsons correlation coefficient: 0.801\n",
      "Samples are correlated (reject H0) p=0.000\n",
      "Pearsons correlation coefficient: 0.742\n",
      "Samples are correlated (reject H0) p=0.000\n",
      "Pearsons correlation coefficient: 0.732\n",
      "Samples are correlated (reject H0) p=0.000\n",
      "Pearsons correlation coefficient: 0.511\n",
      "Samples are correlated (reject H0) p=0.003\n",
      "Pearsons correlation coefficient: 0.444\n",
      "Samples are uncorrelated (fail to reject H0) p=0.011\n",
      "Pearsons correlation coefficient: 0.669\n",
      "Samples are correlated (reject H0) p=0.000\n",
      "Pearsons correlation coefficient: 0.554\n",
      "Samples are correlated (reject H0) p=0.001\n",
      "Pearsons correlation coefficient: 0.749\n",
      "Samples are correlated (reject H0) p=0.000\n",
      "Pearsons correlation coefficient: 0.666\n",
      "Samples are correlated (reject H0) p=0.000\n",
      "Pearsons correlation coefficient: 0.729\n",
      "Samples are correlated (reject H0) p=0.000\n",
      "Pearsons correlation coefficient: 0.677\n",
      "Samples are correlated (reject H0) p=0.000\n",
      "Pearsons correlation coefficient: 0.335\n",
      "Samples are uncorrelated (fail to reject H0) p=0.061\n",
      "Pearsons correlation coefficient: 0.565\n",
      "Samples are correlated (reject H0) p=0.001\n",
      "Pearsons correlation coefficient: 0.809\n",
      "Samples are correlated (reject H0) p=0.000\n",
      "Pearsons correlation coefficient: 0.618\n",
      "Samples are correlated (reject H0) p=0.000\n",
      "Pearsons correlation coefficient: 0.646\n",
      "Samples are correlated (reject H0) p=0.000\n",
      "Pearsons correlation coefficient: 0.545\n",
      "Samples are correlated (reject H0) p=0.001\n",
      "Pearsons correlation coefficient: 0.348\n",
      "Samples are uncorrelated (fail to reject H0) p=0.051\n",
      "Pearsons correlation coefficient: 0.580\n",
      "Samples are correlated (reject H0) p=0.000\n",
      "Pearsons correlation coefficient: 0.671\n",
      "Samples are correlated (reject H0) p=0.000\n",
      "Pearsons correlation coefficient: 0.700\n",
      "Samples are correlated (reject H0) p=0.000\n",
      "Pearsons correlation coefficient: 0.442\n",
      "Samples are uncorrelated (fail to reject H0) p=0.011\n",
      "Pearsons correlation coefficient: 0.513\n",
      "Samples are correlated (reject H0) p=0.003\n",
      "Pearsons correlation coefficient: 0.660\n",
      "Samples are correlated (reject H0) p=0.000\n",
      "Pearsons correlation coefficient: 0.722\n",
      "Samples are correlated (reject H0) p=0.000\n",
      "Pearsons correlation coefficient: 0.465\n",
      "Samples are correlated (reject H0) p=0.007\n",
      "Pearsons correlation coefficient: 0.360\n",
      "Samples are uncorrelated (fail to reject H0) p=0.043\n",
      "Pearsons correlation coefficient: 0.709\n",
      "Samples are correlated (reject H0) p=0.000\n",
      "Pearsons correlation coefficient: 0.406\n",
      "Samples are uncorrelated (fail to reject H0) p=0.021\n",
      "Pearsons correlation coefficient: 0.520\n",
      "Samples are correlated (reject H0) p=0.002\n",
      "Pearsons correlation coefficient: 0.479\n",
      "Samples are correlated (reject H0) p=0.006\n",
      "Pearsons correlation coefficient: 0.711\n",
      "Samples are correlated (reject H0) p=0.000\n",
      "Pearsons correlation coefficient: 0.250\n",
      "Samples are uncorrelated (fail to reject H0) p=0.168\n",
      "[0.8599023967772679, 0.8394309949227334, 0.8047717689829654, 0.6959155306039644, 0.7775740769386211, 0.7134920957416846, 0.8764349727531132, 0.523815429595121, 0.5274048442850576, 0.7179254102810678, 0.8299690579930551, 0.7138954112139994, 0.800830707565158, 0.7424145798033666, 0.7324649450317047, 0.511051277566245, 0.44427350330683774, 0.6694791343142869, 0.554261732639026, 0.7492285838672592, 0.666275730570642, 0.7287515373587194, 0.676637383418704, 0.3352916708378789, 0.5646912941393094, 0.8094031000719498, 0.6175617544782182, 0.6458513789245137, 0.5448227083605532, 0.34817945738769984, 0.5804147301209237, 0.6705620959256751, 0.7000000000000001, 0.44152627172570674, 0.5133762744270656, 0.6596763717492622, 0.7219444303228237, 0.46464555664252116, 0.35971384846507526, 0.7085836580657907, 0.40623501338246015, 0.5204788029460892, 0.4785328089512717, 0.711205985273164, 0.24973576782053125]\n",
      "correlated:  38\n",
      "not correlated:  7\n",
      "mean:  0.6268585352344241\n",
      "std:  0.15300979967794412\n"
     ]
    }
   ],
   "source": [
    "\n",
    "corr = 0\n",
    "not_corr = 0\n",
    "\n",
    "pearsons_values = []\n",
    "for participant_pair in combinations_all_participants:\n",
    "    ann1 = participant_pair[0]\n",
    "    ann2 = participant_pair[1]\n",
    "    pearsons_value, p = get_pearsonsr(background_values[ann1], background_values[ann2])\n",
    "    if p > 0.01:\n",
    "        not_corr +=1\n",
    "    if p < 0.01:\n",
    "        corr +=1\n",
    "    pearsons_values.append(pearsons_value)\n",
    "    \n",
    "print(pearsons_values)\n",
    "print(\"correlated: \", corr)\n",
    "print(\"not correlated: \", not_corr)\n",
    "print(\"mean: \", np.mean(pearsons_values))\n",
    "print(\"std: \", np.std(pearsons_values))\n"
   ]
  },
  {
   "cell_type": "code",
   "execution_count": null,
   "metadata": {},
   "outputs": [],
   "source": []
  },
  {
   "cell_type": "code",
   "execution_count": null,
   "metadata": {},
   "outputs": [],
   "source": []
  },
  {
   "cell_type": "code",
   "execution_count": 46,
   "metadata": {},
   "outputs": [],
   "source": [
    "# get all the values per panel/segmentation\n",
    "def get_values_per_panel(corpus_dict, scores):\n",
    "    \"\"\"\n",
    "    Takes: a corpus dict\n",
    "    Returns: a dict with a list of values of all annotators per panel in the story, setup as a \n",
    "        dict of pages, with the values panels, with the values of lists of floats. \n",
    "    \"\"\"\n",
    "    \n",
    "    all_values_per_panel = {} # init dict\n",
    "    \n",
    "    #print(zscores)\n",
    "\n",
    "    for participant, story_info in corpus_dict.items():\n",
    "        value_index = 0 # init an index to get the correct zscore from the array\n",
    "        for page, page_info in story_info.items():\n",
    "            if all_values_per_panel.get(page) == None: # if this page has not been initialized in the final dict,\n",
    "                all_values_per_panel[page] = {} # create it here\n",
    "            for panel, panel_info in page_info.items():\n",
    "                if all_values_per_panel[page].get(panel) == None: # if this panel has not been initialized, \n",
    "                    all_values_per_panel[page][panel] = [] # create it here\n",
    "                background_detail = float(panel_info[\"background/setting\"][\"information_amount\"]) # get value\n",
    "                score_value = scores[participant][value_index]\n",
    "                all_values_per_panel[page][panel].append(score_value)\n",
    "                value_index += 1\n",
    "                \n",
    "    #print(all_values_per_panel)\n",
    "                \n",
    "    return all_values_per_panel\n",
    "    \n",
    "      "
   ]
  },
  {
   "cell_type": "code",
   "execution_count": 47,
   "metadata": {},
   "outputs": [],
   "source": [
    "values_per_panel = get_values_per_panel(corpus, background_values)"
   ]
  },
  {
   "cell_type": "code",
   "execution_count": 48,
   "metadata": {},
   "outputs": [
    {
     "data": {
      "text/plain": [
       "{'page1': {'panel1': [3.0, 2.0, 5.0, 1.0, 4.0, 2.0, 3.0, 2.0, 5.0, 1.0],\n",
       "  'panel2': [2.0, 1.0, 2.0, 1.0, 2.0, 2.0, 3.0, 1.0, 1.0, 1.0],\n",
       "  'panel3': [4.0, 3.0, 5.0, 5.0, 3.0, 5.0, 4.0, 2.0, 2.0, 2.0]},\n",
       " 'page2': {'panel1': [2.0, 2.0, 1.0, 1.0, 2.0, 1.0, 2.0, 1.0, 1.0, 1.0],\n",
       "  'panel2': [3.0, 2.0, 4.0, 1.0, 3.0, 2.0, 3.0, 2.0, 3.0, 2.0],\n",
       "  'panel3': [2.0, 1.0, 1.0, 1.0, 2.0, 1.0, 1.0, 1.0, 1.0, 2.0],\n",
       "  'panel4': [2.0, 1.0, 2.0, 2.0, 1.0, 1.0, 2.0, 1.0, 2.0, 2.0],\n",
       "  'panel5': [4.0, 2.0, 4.0, 2.0, 4.0, 2.0, 2.0, 2.0, 1.0, 2.0],\n",
       "  'panel6': [2.0, 1.0, 1.0, 2.0, 1.0, 2.0, 1.0, 1.0, 2.0, 1.0],\n",
       "  'panel7': [5.0, 3.0, 5.0, 5.0, 3.0, 4.0, 3.0, 3.0, 3.0, 1.0]},\n",
       " 'page3': {'panel1': [4.0, 2.0, 5.0, 5.0, 4.0, 4.0, 4.0, 3.0, 4.0, 2.0],\n",
       "  'panel2': [3.0, 1.0, 3.0, 2.0, 3.0, 2.0, 2.0, 2.0, 3.0, 2.0],\n",
       "  'panel3': [1.0, 1.0, 1.0, 1.0, 1.0, 1.0, 1.0, 1.0, 1.0, 1.0],\n",
       "  'panel4': [4.0, 2.0, 5.0, 4.0, 3.0, 2.0, 2.0, 2.0, 3.0, 1.0],\n",
       "  'panel5': [1.0, 1.0, 1.0, 1.0, 3.0, 1.0, 1.0, 1.0, 2.0, 1.0],\n",
       "  'panel6': [1.0, 1.0, 1.0, 1.0, 2.0, 1.0, 1.0, 1.0, 1.0, 1.0],\n",
       "  'panel7': [1.0, 1.0, 1.0, 1.0, 1.0, 1.0, 1.0, 1.0, 1.0, 1.0]},\n",
       " 'page4': {'panel1': [5.0, 4.0, 5.0, 5.0, 5.0, 5.0, 5.0, 4.0, 4.0, 5.0],\n",
       "  'panel2': [4.0, 3.0, 2.0, 5.0, 4.0, 1.0, 4.0, 2.0, 3.0, 3.0],\n",
       "  'panel3': [2.0, 1.0, 1.0, 2.0, 2.0, 1.0, 1.0, 1.0, 1.0, 1.0],\n",
       "  'panel4': [5.0, 2.0, 5.0, 2.0, 3.0, 2.0, 3.0, 4.0, 3.0, 5.0],\n",
       "  'panel5': [2.0, 1.0, 1.0, 1.0, 3.0, 1.0, 2.0, 2.0, 1.0, 3.0],\n",
       "  'panel6': [3.0, 2.0, 4.0, 3.0, 2.0, 3.0, 2.0, 2.0, 3.0, 2.0],\n",
       "  'panel7': [1.0, 1.0, 1.0, 2.0, 2.0, 1.0, 1.0, 1.0, 5.0, 1.0]},\n",
       " 'page5': {'panel1': [4.0, 3.0, 5.0, 5.0, 4.0, 4.0, 2.0, 2.0, 4.0, 2.0],\n",
       "  'panel2': [4.0, 3.0, 5.0, 4.0, 3.0, 3.0, 3.0, 2.0, 4.0, 2.0],\n",
       "  'panel3': [5.0, 3.0, 4.0, 5.0, 4.0, 4.0, 2.0, 3.0, 5.0, 4.0],\n",
       "  'panel4': [1.0, 1.0, 1.0, 1.0, 3.0, 1.0, 2.0, 1.0, 1.0, 3.0],\n",
       "  'panel5': [2.0, 1.0, 2.0, 2.0, 2.0, 2.0, 2.0, 2.0, 1.0, 3.0],\n",
       "  'panel6': [2.0, 1.0, 5.0, 2.0, 1.0, 1.0, 2.0, 1.0, 5.0, 2.0],\n",
       "  'panel7': [1.0, 1.0, 1.0, 1.0, 3.0, 1.0, 2.0, 1.0, 2.0, 2.0],\n",
       "  'panel8': [1.0, 1.0, 1.0, 1.0, 1.0, 1.0, 1.0, 1.0, 1.0, 1.0]}}"
      ]
     },
     "execution_count": 48,
     "metadata": {},
     "output_type": "execute_result"
    }
   ],
   "source": [
    "values_per_panel"
   ]
  },
  {
   "cell_type": "code",
   "execution_count": null,
   "metadata": {},
   "outputs": [],
   "source": []
  },
  {
   "cell_type": "code",
   "execution_count": 49,
   "metadata": {},
   "outputs": [],
   "source": [
    "# Visualise the results of each panel \n",
    "\n",
    "def boxplot_results_per_panel(results_per_panel):\n",
    "    \"\"\"\n",
    "    Takes:\n",
    "    Returns:\n",
    "    \"\"\"\n",
    "    \n",
    "    for page, panels in results_per_panel.items():\n",
    "        #print(panels)\n",
    "        for panel, values in panels.items():\n",
    "            #print(values)\n",
    "            \n",
    "            fig1, ax1 = plt.subplots()\n",
    "            ax1.set_title(page + panel)\n",
    "            plt.ylim(0,5)\n",
    "            ax1.boxplot(values)\n",
    "         "
   ]
  },
  {
   "cell_type": "code",
   "execution_count": 50,
   "metadata": {},
   "outputs": [
    {
     "name": "stderr",
     "output_type": "stream",
     "text": [
      "/var/folders/rd/ytgbsj2n3czfz5nsrrgbfjsh0000gn/T/ipykernel_94025/3083735708.py:14: RuntimeWarning: More than 20 figures have been opened. Figures created through the pyplot interface (`matplotlib.pyplot.figure`) are retained until explicitly closed and may consume too much memory. (To control this warning, see the rcParam `figure.max_open_warning`).\n",
      "  fig1, ax1 = plt.subplots()\n"
     ]
    },
    {
     "data": {
      "image/png": "[encoded data removed]",
      "text/plain": [
       "<Figure size 432x288 with 1 Axes>"
      ]
     },
     "metadata": {
      "needs_background": "light"
     },
     "output_type": "display_data"
    },
    {
     "data": {
      "image/png": "[encoded data removed]",
      "text/plain": [
       "<Figure size 432x288 with 1 Axes>"
      ]
     },
     "metadata": {
      "needs_background": "light"
     },
     "output_type": "display_data"
    },
    {
     "data": {
      "image/png": "[encoded data removed]",
      "text/plain": [
       "<Figure size 432x288 with 1 Axes>"
      ]
     },
     "metadata": {
      "needs_background": "light"
     },
     "output_type": "display_data"
    },
    {
     "data": {
      "image/png": "[encoded data removed]",
      "text/plain": [
       "<Figure size 432x288 with 1 Axes>"
      ]
     },
     "metadata": {
      "needs_background": "light"
     },
     "output_type": "display_data"
    },
    {
     "data": {
      "image/png": "[encoded data removed]",
      "text/plain": [
       "<Figure size 432x288 with 1 Axes>"
      ]
     },
     "metadata": {
      "needs_background": "light"
     },
     "output_type": "display_data"
    },
    {
     "data": {
      "image/png": "[encoded data removed]",
      "text/plain": [
       "<Figure size 432x288 with 1 Axes>"
      ]
     },
     "metadata": {
      "needs_background": "light"
     },
     "output_type": "display_data"
    },
    {
     "data": {
      "image/png": "[encoded data removed]",
      "text/plain": [
       "<Figure size 432x288 with 1 Axes>"
      ]
     },
     "metadata": {
      "needs_background": "light"
     },
     "output_type": "display_data"
    },
    {
     "data": {
      "image/png": "[encoded data removed]",
      "text/plain": [
       "<Figure size 432x288 with 1 Axes>"
      ]
     },
     "metadata": {
      "needs_background": "light"
     },
     "output_type": "display_data"
    },
    {
     "data": {
      "image/png": "[encoded data removed]",
      "text/plain": [
       "<Figure size 432x288 with 1 Axes>"
      ]
     },
     "metadata": {
      "needs_background": "light"
     },
     "output_type": "display_data"
    },
    {
     "data": {
      "image/png": "[encoded data removed]",
      "text/plain": [
       "<Figure size 432x288 with 1 Axes>"
      ]
     },
     "metadata": {
      "needs_background": "light"
     },
     "output_type": "display_data"
    },
    {
     "data": {
      "image/png": "[encoded data removed]",
      "text/plain": [
       "<Figure size 432x288 with 1 Axes>"
      ]
     },
     "metadata": {
      "needs_background": "light"
     },
     "output_type": "display_data"
    },
    {
     "data": {
      "image/png": "[encoded data removed]",
      "text/plain": [
       "<Figure size 432x288 with 1 Axes>"
      ]
     },
     "metadata": {
      "needs_background": "light"
     },
     "output_type": "display_data"
    },
    {
     "data": {
      "image/png": "[encoded data removed]",
      "text/plain": [
       "<Figure size 432x288 with 1 Axes>"
      ]
     },
     "metadata": {
      "needs_background": "light"
     },
     "output_type": "display_data"
    },
    {
     "data": {
      "image/png": "[encoded data removed]",
      "text/plain": [
       "<Figure size 432x288 with 1 Axes>"
      ]
     },
     "metadata": {
      "needs_background": "light"
     },
     "output_type": "display_data"
    },
    {
     "data": {
      "image/png": "[encoded data removed]",
      "text/plain": [
       "<Figure size 432x288 with 1 Axes>"
      ]
     },
     "metadata": {
      "needs_background": "light"
     },
     "output_type": "display_data"
    },
    {
     "data": {
      "image/png": "[encoded data removed]",
      "text/plain": [
       "<Figure size 432x288 with 1 Axes>"
      ]
     },
     "metadata": {
      "needs_background": "light"
     },
     "output_type": "display_data"
    },
    {
     "data": {
      "image/png": "[encoded data removed]",
      "text/plain": [
       "<Figure size 432x288 with 1 Axes>"
      ]
     },
     "metadata": {
      "needs_background": "light"
     },
     "output_type": "display_data"
    },
    {
     "data": {
      "image/png": "[encoded data removed]",
      "text/plain": [
       "<Figure size 432x288 with 1 Axes>"
      ]
     },
     "metadata": {
      "needs_background": "light"
     },
     "output_type": "display_data"
    },
    {
     "data": {
      "image/png": "[encoded data removed]",
      "text/plain": [
       "<Figure size 432x288 with 1 Axes>"
      ]
     },
     "metadata": {
      "needs_background": "light"
     },
     "output_type": "display_data"
    },
    {
     "data": {
      "image/png": "[encoded data removed]",
      "text/plain": [
       "<Figure size 432x288 with 1 Axes>"
      ]
     },
     "metadata": {
      "needs_background": "light"
     },
     "output_type": "display_data"
    },
    {
     "data": {
      "image/png": "[encoded data removed]",
      "text/plain": [
       "<Figure size 432x288 with 1 Axes>"
      ]
     },
     "metadata": {
      "needs_background": "light"
     },
     "output_type": "display_data"
    },
    {
     "data": {
      "image/png": "[encoded data removed]",
      "text/plain": [
       "<Figure size 432x288 with 1 Axes>"
      ]
     },
     "metadata": {
      "needs_background": "light"
     },
     "output_type": "display_data"
    },
    {
     "data": {
      "image/png": "[encoded data removed]",
      "text/plain": [
       "<Figure size 432x288 with 1 Axes>"
      ]
     },
     "metadata": {
      "needs_background": "light"
     },
     "output_type": "display_data"
    },
    {
     "data": {
      "image/png": "[encoded data removed]",
      "text/plain": [
       "<Figure size 432x288 with 1 Axes>"
      ]
     },
     "metadata": {
      "needs_background": "light"
     },
     "output_type": "display_data"
    },
    {
     "data": {
      "image/png": "[encoded data removed]",
      "text/plain": [
       "<Figure size 432x288 with 1 Axes>"
      ]
     },
     "metadata": {
      "needs_background": "light"
     },
     "output_type": "display_data"
    },
    {
     "data": {
      "image/png": "[encoded data removed]",
      "text/plain": [
       "<Figure size 432x288 with 1 Axes>"
      ]
     },
     "metadata": {
      "needs_background": "light"
     },
     "output_type": "display_data"
    },
    {
     "data": {
      "image/png": "[encoded data removed]",
      "text/plain": [
       "<Figure size 432x288 with 1 Axes>"
      ]
     },
     "metadata": {
      "needs_background": "light"
     },
     "output_type": "display_data"
    },
    {
     "data": {
      "image/png": "[encoded data removed]",
      "text/plain": [
       "<Figure size 432x288 with 1 Axes>"
      ]
     },
     "metadata": {
      "needs_background": "light"
     },
     "output_type": "display_data"
    },
    {
     "data": {
      "image/png": "[encoded data removed]",
      "text/plain": [
       "<Figure size 432x288 with 1 Axes>"
      ]
     },
     "metadata": {
      "needs_background": "light"
     },
     "output_type": "display_data"
    },
    {
     "data": {
      "image/png": "[encoded data removed]",
      "text/plain": [
       "<Figure size 432x288 with 1 Axes>"
      ]
     },
     "metadata": {
      "needs_background": "light"
     },
     "output_type": "display_data"
    },
    {
     "data": {
      "image/png": "[encoded data removed]",
      "text/plain": [
       "<Figure size 432x288 with 1 Axes>"
      ]
     },
     "metadata": {
      "needs_background": "light"
     },
     "output_type": "display_data"
    },
    {
     "data": {
      "image/png": "[encoded data removed]",
      "text/plain": [
       "<Figure size 432x288 with 1 Axes>"
      ]
     },
     "metadata": {
      "needs_background": "light"
     },
     "output_type": "display_data"
    }
   ],
   "source": [
    "boxplot_results_per_panel(values_per_panel)"
   ]
  },
  {
   "cell_type": "code",
   "execution_count": null,
   "metadata": {},
   "outputs": [],
   "source": []
  },
  {
   "cell_type": "markdown",
   "metadata": {},
   "source": [
    "## Heatmaps: Annotator agreement and reliability"
   ]
  },
  {
   "cell_type": "code",
   "execution_count": null,
   "metadata": {},
   "outputs": [],
   "source": [
    "# Functions to create heatmap of annotator agreement:"
   ]
  },
  {
   "cell_type": "code",
   "execution_count": 51,
   "metadata": {},
   "outputs": [],
   "source": [
    "# Additional utilities for plotting images\n",
    "# from: https://shravan-kuchkula.github.io/nlp/document_similarity/#plot-a-heatmap-of-cosine-similarity-values\n",
    "\n",
    "##############################\n",
    "#  Module: utils.py\n",
    "#  Author: Shravan Kuchkula\n",
    "#  Date: 07/19/2019\n",
    "##############################\n",
    "\n",
    "from sklearn.feature_extraction.text import CountVectorizer, TfidfVectorizer\n",
    "import numpy as np\n",
    "import seaborn as sns\n",
    "import matplotlib.pyplot as plt\n",
    "import pandas as pd\n",
    "\n",
    "\n",
    "def plot_heatmap(df_hm, xlabels, ylabels, title):\n",
    "    \"\"\"\n",
    "    Given a dataframe containing similarity grid, plot the heatmap\n",
    "    \"\"\"\n",
    "    sns.set(style=\"white\")\n",
    "\n",
    "    # Set up the matplotlib figure\n",
    "    # (to enlarge the cells, increase the figure size)\n",
    "    fig, ax = plt.subplots(figsize=(10, 10)) \n",
    "\n",
    "    # Generate a custom diverging colormap\n",
    "    #sns.diverging_palette(\"coolwarm\", as_cmap=True)\n",
    "\n",
    "    #cmap = sns.color_palette(\"viridis\", as_cmap=True)\n",
    "    #sns.diverging_palette(\"coolwarm\", as_cmap=True)\n",
    "    #cmap = sns.diverging_palette(\"coolwarm\")\n",
    "    cmap = sns.diverging_palette(260, 10, as_cmap=True)\n",
    "\n",
    "    # Generate a mask for the upper triangle\n",
    "    mask = np.zeros_like(df_hm, dtype = bool)\n",
    "    mask[np.triu_indices_from(mask)] = True\n",
    "\n",
    "    # Draw the heatmap with the mask and correct aspect ratio\n",
    "    sns.heatmap(df_hm, mask=mask, cmap=cmap, center=0.5, xticklabels=xlabels,\n",
    "                yticklabels=ylabels,\n",
    "                square=True, linewidths=.5, fmt='.2f',\n",
    "                annot=True, vmin=0, vmax=1, cbar_kws={\"shrink\": 0.75},\n",
    "                cbar=True)  \n",
    "    # NOTE: center is the center color value\n",
    "    # NOTE: vmin and vmax are the color map interval\n",
    "    \n",
    "#     b, t = plt.ylim() # discover the values for bottom and top\n",
    "#     b += 0.5 # Add 0.5 to the bottom\n",
    "#     t -= 0.5 # Subtract 0.5 from the top\n",
    "#     plt.ylim(b, t) # update the ylim(bottom, top) values\n",
    "\n",
    "    # create xtick locations\n",
    "    xtick_locations = []\n",
    "    for i in range(len(xlabels)):\n",
    "        xtick_locations.append(i+0.5)\n",
    "    #print(xtick_locations)\n",
    "    \n",
    "\n",
    "    ax.set_title(title).set_fontsize(15) # change the title to reflect the type of score\n",
    "    ax.set_xlabel(\"\")\n",
    "    ax.set_ylabel(\"\")\n",
    "    #ax.set_xticks(xtick_locations)\n",
    "    #ax.set_xticklabels(xlabels)\n",
    "    plt.xticks(rotation=45)\n",
    "    plt.yticks(rotation=0)\n",
    "    \n",
    "    plt.show()\n",
    "    \n",
    "\n"
   ]
  },
  {
   "cell_type": "code",
   "execution_count": 52,
   "metadata": {},
   "outputs": [],
   "source": [
    "# Heat Map of Similarity between Annotators\n",
    "# code from: https://shravan-kuchkula.github.io/nlp/document_similarity/#\n",
    "\n",
    "def create_heatmap_between_annotators_for_one_story(story_combinations, \n",
    "                                                    similarity_scores, \n",
    "                                                    annotators_list,\n",
    "                                                    title):\n",
    "    \n",
    "\n",
    "    # create dict with annotator name as the key and annotator index number from list as the value \n",
    "    annotator_to_idx = {annotator_name: i for i, annotator_name in enumerate(annotators_list)}\n",
    "    #print(annotator_to_idx)\n",
    "    \n",
    "    # create a dataframe\n",
    "    df = pd.DataFrame({'pairs': story_combinations, 'similarity': similarity_scores})\n",
    "    #display(df.head())\n",
    "    #display(df.tail())\n",
    "\n",
    "    # initialize an empty dataframe grid\n",
    "    df_hm = pd.DataFrame({'ind': range(len(annotators_list)), 'cols': range(len(annotators_list)), 'vals': pd.Series(np.zeros(len(annotators_list)))})\n",
    "\n",
    "    # convert to a matrix\n",
    "    df_hm = df_hm.pivot(index='ind', columns='cols')#.fillna(0)\n",
    "\n",
    "    #print(df_hm)\n",
    "\n",
    "    # make a copy\n",
    "    df_temp = df.copy()\n",
    "\n",
    "    # convert list of tuples into 2 lists\n",
    "    list1 = []\n",
    "    list2 = []\n",
    "    for item1, item2 in df_temp.pairs:\n",
    "        list1.append(item1)\n",
    "        list2.append(item2)\n",
    "\n",
    "    #print(list1)\n",
    "    #print(list2)\n",
    "\n",
    "    # add two columns to df_temp\n",
    "    df_temp['col1'] = list1\n",
    "    df_temp['col2'] = list2\n",
    "\n",
    "    # drop the pair as it not needed\n",
    "    df_temp.drop('pairs', axis=1, inplace=True)\n",
    "\n",
    "    # extract annotator index so that you can construct annotator pairs \n",
    "    df_temp['col1'] = df_temp['col1'].apply(lambda x: annotator_to_idx[x])\n",
    "    df_temp['col2'] = df_temp['col2'].apply(lambda x: annotator_to_idx[x])\n",
    "\n",
    "    # create tuples (0, 1, similarity)\n",
    "    df_temp['pairs'] = list(zip(df_temp.col1, df_temp.col2, round(df_temp.similarity, 2)))\n",
    "\n",
    "    #display(df_temp)\n",
    "\n",
    "    # to get lower diagonal, swap the rows and cols.\n",
    "    for row, col, similarity in df_temp.pairs:\n",
    "        df_hm.iloc[col, row] = similarity\n",
    "    \n",
    "    plot_heatmap(df_hm, annotators_list, annotators_list, title)\n",
    "\n",
    "\n",
    "    "
   ]
  },
  {
   "cell_type": "code",
   "execution_count": 53,
   "metadata": {},
   "outputs": [
    {
     "data": {
      "image/png": "[encoded data removed]",
      "text/plain": [
       "<Figure size 720x720 with 2 Axes>"
      ]
     },
     "metadata": {},
     "output_type": "display_data"
    }
   ],
   "source": [
    "annotators = [\"participant1\",\n",
    "              \"participant2\",\n",
    "              \"participant3\",\n",
    "              \"participant4\",\n",
    "              \"participant5\",\n",
    "              \"participant6\",\n",
    "              \"participant7\",\n",
    "              \"participant8\",\n",
    "              \"participant9\",\n",
    "              \"participant10\"]\n",
    "\n",
    "heatmap_panelIOU_pilot = create_heatmap_between_annotators_for_one_story(combinations_all_participants, \n",
    "                                                          pearsons_values,\n",
    "                                                          annotators,\n",
    "                                                          \"Heatmap of Pearson's r scores between \\n annotator pairs using an ordinal scale, Story 1 \")\n",
    "\n"
   ]
  },
  {
   "cell_type": "code",
   "execution_count": null,
   "metadata": {},
   "outputs": [],
   "source": []
  },
  {
   "cell_type": "code",
   "execution_count": null,
   "metadata": {},
   "outputs": [],
   "source": []
  },
  {
   "cell_type": "code",
   "execution_count": null,
   "metadata": {},
   "outputs": [],
   "source": []
  }
 ],
 "metadata": {
  "kernelspec": {
   "display_name": "Python 3 (ipykernel)",
   "language": "python",
   "name": "python3"
  },
  "language_info": {
   "codemirror_mode": {
    "name": "ipython",
    "version": 3
   },
   "file_extension": ".py",
   "mimetype": "text/x-python",
   "name": "python",
   "nbconvert_exporter": "python",
   "pygments_lexer": "ipython3",
   "version": "3.9.10"
  }
 },
 "nbformat": 4,
 "nbformat_minor": 2
}
