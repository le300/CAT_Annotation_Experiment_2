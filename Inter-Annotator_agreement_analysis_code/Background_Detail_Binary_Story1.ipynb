{
 "cells": [
  {
   "cell_type": "markdown",
   "metadata": {},
   "source": [
    "# Background Detail Binary - Story 1"
   ]
  },
  {
   "cell_type": "markdown",
   "metadata": {},
   "source": [
    "This notebook assesses inter-annotator agreement for the background detail/information amount score. \n",
    "It imports JSON files to perform a number of statistical tests to assess inter-annotator agreement. "
   ]
  },
  {
   "cell_type": "markdown",
   "metadata": {},
   "source": [
    "##### Imports and packages"
   ]
  },
  {
   "cell_type": "code",
   "execution_count": 2,
   "metadata": {},
   "outputs": [],
   "source": [
    "# Imports and Packages:\n",
    "\n",
    "import json # json library\n",
    "import os # for list directories \n",
    "\n",
    "from collections import Counter # counter library\n",
    "import re # regex\n",
    "\n",
    "import numpy as np \n",
    "import math\n",
    "import matplotlib.pyplot as plt\n",
    "\n",
    "import itertools\n",
    "from itertools import permutations # library to print permutations\n",
    "from itertools import combinations # library to print combinations\n",
    "\n",
    "import sklearn # sklearn for inter-annotation kappa scores\n",
    "from sklearn.metrics import cohen_kappa_score\n",
    "import statsmodels\n",
    "from statsmodels.stats.inter_rater import fleiss_kappa\n",
    "\n",
    "import krippendorff #import for Fleiss Kappa inter-annotator agreement for more than 2 annotators\n",
    "\n",
    "import scipy.stats\n",
    "from scipy.stats import mode \n",
    "from scipy.stats import zscore # normalise data\n",
    "from scipy.stats import mannwhitneyu # for Mann-Whitney U test\n",
    "from scipy.stats import ttest_ind # independent t-test\n",
    "from scipy.stats import spearmanr # spearmans rank\n",
    "from scipy.stats import pearsonr # pearson's r\n"
   ]
  },
  {
   "cell_type": "markdown",
   "metadata": {},
   "source": [
    "##### Import JSON data"
   ]
  },
  {
   "cell_type": "code",
   "execution_count": 3,
   "metadata": {},
   "outputs": [],
   "source": [
    "# Import JSON data from Prolific Study\n",
    "\n",
    "path_to_jsonFiles = \"Annotations_Prolific/Background_Detail_Binary_Story1/Processed_Data\" # This is the folder with the json data files\n",
    "corpus = {} # init a dict to hold each json data file\n",
    "participantNum = 1 # init a participant num counter\n",
    "\n",
    "for file in sorted(os.listdir(path_to_jsonFiles)):\n",
    "    if file.endswith('.json'): # check that the file has a json extension (to circumvent hidden .DS_store files)\n",
    "        full_file_name = \"%s/%s\" % (path_to_jsonFiles, file)\n",
    "        with open(full_file_name, 'r') as fi:\n",
    "            storyName = \"participant\" + str(participantNum)\n",
    "            story_data = json.load(fi)\n",
    "            corpus[storyName] = story_data\n",
    "        participantNum += 1\n",
    "    \n",
    "# all_stories holds all the json data files, with key \"storyN\" and value is the read in json file\n",
    "\n"
   ]
  },
  {
   "cell_type": "code",
   "execution_count": 4,
   "metadata": {},
   "outputs": [],
   "source": [
    "# check that the data was read in correctly\n",
    "#corpus['participant1']"
   ]
  },
  {
   "cell_type": "markdown",
   "metadata": {},
   "source": [
    "##### Get annotator pair combinations as pairs of names in a list"
   ]
  },
  {
   "cell_type": "code",
   "execution_count": 5,
   "metadata": {},
   "outputs": [],
   "source": [
    "# Combinations of annotators:\n",
    "# Function to get the combinations of all participants\n",
    "\n",
    "def get_combinations_of_annotators(all_annotation_data):\n",
    "    \"\"\"\n",
    "    Takes: a dict containing all annotation data - this is the input of reading in all json files,\n",
    "            as is done above.\n",
    "    Returns: a list of tuples containing pairs of strings that indicate annotators. In other words, a list of \n",
    "            annotator pairs.\n",
    "    \"\"\"\n",
    "    annotators = [] # init a list to store annotators\n",
    "    annotator_pairs = [] # init a list to store all combination pairs\n",
    "    \n",
    "    for annotator, annotation_data in all_annotation_data.items():\n",
    "        annotators.append(annotator)\n",
    "     \n",
    "    combs = itertools.combinations(annotators, 2) # get annotator combinations in sets of two\n",
    "    \n",
    "    for ann in list(combs):\n",
    "        annotator_pairs.append(ann)\n",
    "    \n",
    "    return annotator_pairs\n",
    "\n"
   ]
  },
  {
   "cell_type": "code",
   "execution_count": 6,
   "metadata": {},
   "outputs": [],
   "source": [
    "# Get all annotator combinations\n",
    "combinations_all_participants = get_combinations_of_annotators(corpus)\n"
   ]
  },
  {
   "cell_type": "markdown",
   "metadata": {},
   "source": [
    "##### Store the annotation values per annotator in a dictionary and list of lists for easier analysis"
   ]
  },
  {
   "cell_type": "code",
   "execution_count": 7,
   "metadata": {},
   "outputs": [],
   "source": [
    "# get a list of all values per participant, put in a dict \"background_values\"\n",
    "\n",
    "background_values = {}\n",
    "\n",
    "for participant, story_info in corpus.items():\n",
    "    values = [] # init values list\n",
    "    for page, page_info in story_info.items():\n",
    "        for panel, panel_info in page_info.items():\n",
    "            background_info = panel_info[\"background/setting\"]\n",
    "            value = float(background_info[\"information_amount\"])\n",
    "            values.append(value)\n",
    "    \n",
    "    background_values[participant] = values\n",
    "    \n",
    "#background_values  \n"
   ]
  },
  {
   "cell_type": "code",
   "execution_count": 8,
   "metadata": {},
   "outputs": [],
   "source": [
    "# background_values\n",
    "\n",
    "# put all sets of background values into a list of lists\n",
    "\n",
    "list_of_lists_of_all_participant_values = []\n",
    "for participant, values_list in background_values.items():\n",
    "    #print(participant)\n",
    "    #print(values_list)\n",
    "    list_of_lists_of_all_participant_values.append(values_list)\n",
    "    \n",
    "# print(len(list_of_lists_of_all_participant_values))\n"
   ]
  },
  {
   "cell_type": "markdown",
   "metadata": {},
   "source": [
    "### Krippendorff's Alpha"
   ]
  },
  {
   "cell_type": "markdown",
   "metadata": {},
   "source": [
    "##### Function to calculate Krippendorff's Alpha"
   ]
  },
  {
   "cell_type": "code",
   "execution_count": 41,
   "metadata": {},
   "outputs": [],
   "source": [
    "# Krippendorff's Alpha - Inter-rater agreement measure\n",
    "\n",
    "# Code from https://github.com/grrrr/krippendorff-alpha/blob/master/krippendorff_alpha.py\n",
    "\n",
    "def nominal_metric(a, b):\n",
    "    return a != b\n",
    "\n",
    "def interval_metric(a, b):\n",
    "    return (a-b)**2\n",
    "\n",
    "def ratio_metric(a, b):\n",
    "    return ((a-b)/(a+b))**2\n",
    "\n",
    "def krippendorff_alpha(data, metric=interval_metric, force_vecmath=False, convert_items=float, missing_items=None):\n",
    "    '''\n",
    "    Python implementation of Krippendorff's alpha -- inter-rater reliability\n",
    "    (c)2011-17 Thomas Grill (http://grrrr.org)\n",
    "    Python version >= 2.4 required\n",
    "\n",
    "    Calculate Krippendorff's alpha (inter-rater reliability):\n",
    "    \n",
    "    data is in the format\n",
    "    [\n",
    "        {unit1:value, unit2:value, ...},  # coder 1\n",
    "        {unit1:value, unit3:value, ...},   # coder 2\n",
    "        ...                            # more coders\n",
    "    ]\n",
    "    or it is a sequence of (masked) sequences (list, numpy.array, numpy.ma.array, e.g.) with rows corresponding to \n",
    "    coders and columns to items\n",
    "    \n",
    "    metric: function calculating the pairwise distance\n",
    "    force_vecmath: force vector math for custom metrics (numpy required)\n",
    "    convert_items: function for the type conversion of items (default: float)\n",
    "    missing_items: indicator for missing items (default: None)\n",
    "    '''\n",
    "    \n",
    "    # number of coders\n",
    "    m = len(data)\n",
    "    \n",
    "    # set of constants identifying missing values\n",
    "    if missing_items is None:\n",
    "        maskitems = []\n",
    "    else:\n",
    "        maskitems = list(missing_items)\n",
    "    if np is not None:\n",
    "        maskitems.append(np.ma.masked_singleton)\n",
    "    \n",
    "    # convert input data to a dict of items\n",
    "    units = {}\n",
    "    for d in data:\n",
    "        try:\n",
    "            # try if d behaves as a dict\n",
    "            diter = d.items()\n",
    "        except AttributeError:\n",
    "            # sequence assumed for d\n",
    "            diter = enumerate(d)\n",
    "            \n",
    "        for it, g in diter:\n",
    "            if g not in maskitems:\n",
    "                try:\n",
    "                    its = units[it]\n",
    "                except KeyError:\n",
    "                    its = []\n",
    "                    units[it] = its\n",
    "                its.append(convert_items(g))\n",
    "\n",
    "\n",
    "    units = dict((it, d) for it, d in units.items() if len(d) > 1)  # units with pairable values\n",
    "    n = sum(len(pv) for pv in units.values())  # number of pairable values\n",
    "    \n",
    "    if n == 0:\n",
    "        raise ValueError(\"No items to compare.\")\n",
    "    \n",
    "    np_metric = (np is not None) and ((metric in (interval_metric, nominal_metric, ratio_metric)) or force_vecmath)\n",
    "    \n",
    "    Do = 0.\n",
    "    for grades in units.values():\n",
    "        if np_metric:\n",
    "            gr = np.asarray(grades)\n",
    "            Du = sum(np.sum(metric(gr, gri)) for gri in gr)\n",
    "        else:\n",
    "            Du = sum(metric(gi, gj) for gi in grades for gj in grades)\n",
    "        Do += Du/float(len(grades)-1)\n",
    "    Do /= float(n)\n",
    "\n",
    "    if Do == 0:\n",
    "        return 1.\n",
    "\n",
    "    De = 0.\n",
    "    for g1 in units.values():\n",
    "        if np_metric:\n",
    "            d1 = np.asarray(g1)\n",
    "            for g2 in units.values():\n",
    "                De += sum(np.sum(metric(d1, gj)) for gj in g2)\n",
    "        else:\n",
    "            for g2 in units.values():\n",
    "                De += sum(metric(gi, gj) for gi in g1 for gj in g2)\n",
    "    De /= float(n*(n-1))\n",
    "\n",
    "    return 1.-Do/De if (Do and De) else 1.\n"
   ]
  },
  {
   "cell_type": "markdown",
   "metadata": {},
   "source": [
    "##### Krippendorff's Alpha result for all-against-all annotators, using the above function "
   ]
  },
  {
   "cell_type": "code",
   "execution_count": 43,
   "metadata": {},
   "outputs": [
    {
     "name": "stdout",
     "output_type": "stream",
     "text": [
      "0.2220271193054335\n"
     ]
    }
   ],
   "source": [
    "kalpha = krippendorff_alpha(list_of_lists_of_all_participant_values, nominal_metric) # get the k alpha for each ind agent\n",
    "print(kalpha)\n"
   ]
  },
  {
   "cell_type": "code",
   "execution_count": 336,
   "metadata": {},
   "outputs": [],
   "source": [
    "#print(list_of_lists_of_all_participant_values)"
   ]
  },
  {
   "cell_type": "markdown",
   "metadata": {},
   "source": [
    "##### Krippendorff's Alpha result for all-against-all annotators, using the Krippendorff 0.7.0 Python package"
   ]
  },
  {
   "cell_type": "code",
   "execution_count": 45,
   "metadata": {},
   "outputs": [
    {
     "name": "stdout",
     "output_type": "stream",
     "text": [
      "0.22202711930543362\n"
     ]
    }
   ],
   "source": [
    "# Another version \n",
    "\n",
    "import krippendorff #import for Fleiss Kappa inter-annotator agreement for more than 2 annotators\n",
    "\n",
    "print(krippendorff.alpha(list_of_lists_of_all_participant_values, level_of_measurement=\"nominal\"))\n"
   ]
  },
  {
   "cell_type": "markdown",
   "metadata": {},
   "source": [
    "##### Krippendorff's Alpha results for all individual annotator pairs"
   ]
  },
  {
   "cell_type": "code",
   "execution_count": 341,
   "metadata": {},
   "outputs": [
    {
     "name": "stdout",
     "output_type": "stream",
     "text": [
      "Pairwise KA values: \n",
      "\n",
      "[0.5434782608695652, 0.34375, 0.015625, 0.25, 0.5476923076923077, 0.28409090909090906, 0.28, 0.6174089068825911, 0.5, 0.3942307692307693, -0.125, -0.050000000000000044, 0.2325581395348838, 0.1796875, 0.5333333333333333, 0.3181818181818181, 0.34375, -0.5303643724696356, 0.18181818181818177, 0.18947368421052635, 0.28, 0.15625, -0.002272727272727204, 0.18181818181818177, -0.020242914979757165, 0.193103448275862, 0.0117647058823529, -0.18125000000000013, 0.125, -0.14777327935222684, 0.19941348973607032, 0.23481781376518218, -0.2886363636363636, 0.26171875, 0.2588235294117647, 0.2651113467656415, -0.0250312891113893, 0.5655172413793104, 0.4457478005865102, 0.1923076923076923, 0.2124999999999999, -0.14777327935222684, 0.08695652173913038, -0.002272727272727204, 0.630859375]\n",
      "\n",
      "\n",
      "mean:  0.18969270564590068\n",
      "std:  0.24576272195333793\n"
     ]
    }
   ],
   "source": [
    "KA_values = []\n",
    "for participant_pair in combinations_all_participants:\n",
    "    ann1 = participant_pair[0]\n",
    "    ann2 = participant_pair[1]\n",
    "    KA_value = krippendorff_alpha([background_values[ann1], background_values[ann2]])\n",
    "    KA_values.append(KA_value)\n",
    "    \n",
    "print(\"Pairwise KA values: \\n\")\n",
    "print(KA_values)\n",
    "print(\"\\n\")\n",
    "print(\"mean: \", np.mean(KA_values))\n",
    "print(\"std: \", np.std(KA_values))\n",
    "\n",
    "#print(background_values[ann1])"
   ]
  },
  {
   "cell_type": "code",
   "execution_count": null,
   "metadata": {},
   "outputs": [],
   "source": []
  },
  {
   "cell_type": "code",
   "execution_count": null,
   "metadata": {},
   "outputs": [],
   "source": []
  },
  {
   "cell_type": "markdown",
   "metadata": {},
   "source": [
    "### Per-panel analysis of annotator agreement"
   ]
  },
  {
   "cell_type": "markdown",
   "metadata": {},
   "source": [
    "##### Get all annotators raw values and z-score normalised values per panel "
   ]
  },
  {
   "cell_type": "code",
   "execution_count": 12,
   "metadata": {},
   "outputs": [],
   "source": [
    "# z-score normalisation - normalise the raw background values\n",
    "\n",
    "zscore_values = {}\n",
    "\n",
    "for participant, values in background_values.items():\n",
    "    int_values =  [float(i) for i in values]\n",
    "    normalised_values = zscore(int_values)\n",
    "    \n",
    "    zscore_values[participant] = list(normalised_values)\n",
    "    \n",
    "  "
   ]
  },
  {
   "cell_type": "code",
   "execution_count": 13,
   "metadata": {},
   "outputs": [],
   "source": [
    "# Get each zscore value per panel \n",
    "\n",
    "zscores_per_panel = {}\n",
    "\n",
    "for participant, values in zscore_values.items():\n",
    "    panelNum = 0\n",
    "    for val in values:\n",
    "        panelName = panelNum + 1\n",
    "        if zscores_per_panel.get(panelName) == None:\n",
    "            zscores_per_panel[panelName] = []\n",
    "        if zscores_per_panel.get(panelName) != None:\n",
    "            zscores_per_panel[panelName].append(val)\n",
    "        panelNum += 1\n"
   ]
  },
  {
   "cell_type": "code",
   "execution_count": 14,
   "metadata": {},
   "outputs": [],
   "source": [
    "\n",
    "# Get raw background values value per panel \n",
    "\n",
    "raw_value_per_panel = {}\n",
    "\n",
    "for participant, values in background_values.items():\n",
    "    panelNum = 0\n",
    "    for val in values:\n",
    "        panelName = panelNum + 1\n",
    "        if raw_value_per_panel.get(panelName) == None:\n",
    "            raw_value_per_panel[panelName] = []\n",
    "        if raw_value_per_panel.get(panelName) != None:\n",
    "            raw_value_per_panel[panelName].append(val)\n",
    "        panelNum += 1\n",
    "\n"
   ]
  },
  {
   "cell_type": "markdown",
   "metadata": {},
   "source": [
    "##### Calculate percentage of agreement between annotators, per panel "
   ]
  },
  {
   "cell_type": "code",
   "execution_count": 15,
   "metadata": {},
   "outputs": [],
   "source": [
    "# Get percentage agree from background_values\n",
    "\n",
    "percentage_agreement_per_panel = {}\n",
    "\n",
    "for panelNum, values in raw_value_per_panel.items():\n",
    "    Empty_counter = 0\n",
    "    Detail_counter = 0\n",
    "    for val in values:\n",
    "        if val == 1.0:\n",
    "            Empty_counter += 1\n",
    "        if val == 5.0:\n",
    "            Detail_counter += 1\n",
    "    #print(\"Empty: \", Empty_counter)\n",
    "    #print(\"Detail: \", Detail_counter)\n",
    "    if Empty_counter == 0:\n",
    "        percentage_agree = 1.0\n",
    "    if Detail_counter == 0:\n",
    "        percentage_agree = 1.0\n",
    "    else:\n",
    "        if Empty_counter > Detail_counter:\n",
    "            percentage_agree = abs(Empty_counter*.10)\n",
    "        else:\n",
    "            percentage_agree = abs(Detail_counter*.10)\n",
    "    #print(percentage_agree)\n",
    "    percentage_agreement_per_panel[panelNum] = {\"Empty\" : Empty_counter, \"Detail\" : Detail_counter, \"Agreement\" :percentage_agree}\n",
    "\n"
   ]
  },
  {
   "cell_type": "code",
   "execution_count": 16,
   "metadata": {},
   "outputs": [
    {
     "data": {
      "text/plain": [
       "{1: {'Empty': 6, 'Detail': 4, 'Agreement': 0.6000000000000001},\n",
       " 2: {'Empty': 5, 'Detail': 5, 'Agreement': 0.5},\n",
       " 3: {'Empty': 3, 'Detail': 7, 'Agreement': 0.7000000000000001},\n",
       " 4: {'Empty': 10, 'Detail': 0, 'Agreement': 1.0},\n",
       " 5: {'Empty': 7, 'Detail': 3, 'Agreement': 0.7000000000000001},\n",
       " 6: {'Empty': 8, 'Detail': 2, 'Agreement': 0.8},\n",
       " 7: {'Empty': 7, 'Detail': 3, 'Agreement': 0.7000000000000001},\n",
       " 8: {'Empty': 7, 'Detail': 3, 'Agreement': 0.7000000000000001},\n",
       " 9: {'Empty': 9, 'Detail': 1, 'Agreement': 0.9},\n",
       " 10: {'Empty': 2, 'Detail': 8, 'Agreement': 0.8},\n",
       " 11: {'Empty': 4, 'Detail': 6, 'Agreement': 0.6000000000000001},\n",
       " 12: {'Empty': 9, 'Detail': 1, 'Agreement': 0.9},\n",
       " 13: {'Empty': 10, 'Detail': 0, 'Agreement': 1.0},\n",
       " 14: {'Empty': 4, 'Detail': 6, 'Agreement': 0.6000000000000001},\n",
       " 15: {'Empty': 8, 'Detail': 2, 'Agreement': 0.8},\n",
       " 16: {'Empty': 9, 'Detail': 1, 'Agreement': 0.9},\n",
       " 17: {'Empty': 9, 'Detail': 1, 'Agreement': 0.9},\n",
       " 18: {'Empty': 0, 'Detail': 10, 'Agreement': 1.0},\n",
       " 19: {'Empty': 3, 'Detail': 7, 'Agreement': 0.7000000000000001},\n",
       " 20: {'Empty': 9, 'Detail': 1, 'Agreement': 0.9},\n",
       " 21: {'Empty': 4, 'Detail': 6, 'Agreement': 0.6000000000000001},\n",
       " 22: {'Empty': 5, 'Detail': 5, 'Agreement': 0.5},\n",
       " 23: {'Empty': 4, 'Detail': 6, 'Agreement': 0.6000000000000001},\n",
       " 24: {'Empty': 7, 'Detail': 3, 'Agreement': 0.7000000000000001},\n",
       " 25: {'Empty': 4, 'Detail': 6, 'Agreement': 0.6000000000000001},\n",
       " 26: {'Empty': 5, 'Detail': 5, 'Agreement': 0.5},\n",
       " 27: {'Empty': 3, 'Detail': 7, 'Agreement': 0.7000000000000001},\n",
       " 28: {'Empty': 7, 'Detail': 3, 'Agreement': 0.7000000000000001},\n",
       " 29: {'Empty': 7, 'Detail': 3, 'Agreement': 0.7000000000000001},\n",
       " 30: {'Empty': 10, 'Detail': 0, 'Agreement': 1.0},\n",
       " 31: {'Empty': 6, 'Detail': 4, 'Agreement': 0.6000000000000001},\n",
       " 32: {'Empty': 10, 'Detail': 0, 'Agreement': 1.0}}"
      ]
     },
     "execution_count": 16,
     "metadata": {},
     "output_type": "execute_result"
    }
   ],
   "source": [
    "percentage_agreement_per_panel\n"
   ]
  },
  {
   "cell_type": "code",
   "execution_count": 17,
   "metadata": {},
   "outputs": [],
   "source": [
    "\n",
    "panel_percentage_agreement = {}\n",
    "\n",
    "for panel, info in percentage_agreement_per_panel.items():\n",
    "    panel_percentage_agreement[panel] = info[\"Agreement\"]\n",
    "\n"
   ]
  },
  {
   "cell_type": "code",
   "execution_count": 18,
   "metadata": {},
   "outputs": [
    {
     "data": {
      "text/plain": [
       "{1: 0.6000000000000001,\n",
       " 2: 0.5,\n",
       " 3: 0.7000000000000001,\n",
       " 4: 1.0,\n",
       " 5: 0.7000000000000001,\n",
       " 6: 0.8,\n",
       " 7: 0.7000000000000001,\n",
       " 8: 0.7000000000000001,\n",
       " 9: 0.9,\n",
       " 10: 0.8,\n",
       " 11: 0.6000000000000001,\n",
       " 12: 0.9,\n",
       " 13: 1.0,\n",
       " 14: 0.6000000000000001,\n",
       " 15: 0.8,\n",
       " 16: 0.9,\n",
       " 17: 0.9,\n",
       " 18: 1.0,\n",
       " 19: 0.7000000000000001,\n",
       " 20: 0.9,\n",
       " 21: 0.6000000000000001,\n",
       " 22: 0.5,\n",
       " 23: 0.6000000000000001,\n",
       " 24: 0.7000000000000001,\n",
       " 25: 0.6000000000000001,\n",
       " 26: 0.5,\n",
       " 27: 0.7000000000000001,\n",
       " 28: 0.7000000000000001,\n",
       " 29: 0.7000000000000001,\n",
       " 30: 1.0,\n",
       " 31: 0.6000000000000001,\n",
       " 32: 1.0}"
      ]
     },
     "execution_count": 18,
     "metadata": {},
     "output_type": "execute_result"
    }
   ],
   "source": [
    "panel_percentage_agreement"
   ]
  },
  {
   "cell_type": "markdown",
   "metadata": {},
   "source": [
    "##### Sort by least agreed to most agreed panel"
   ]
  },
  {
   "cell_type": "code",
   "execution_count": 19,
   "metadata": {},
   "outputs": [
    {
     "name": "stdout",
     "output_type": "stream",
     "text": [
      "[(2, 0.5), (22, 0.5), (26, 0.5), (1, 0.6000000000000001), (11, 0.6000000000000001), (14, 0.6000000000000001), (21, 0.6000000000000001), (23, 0.6000000000000001), (25, 0.6000000000000001), (31, 0.6000000000000001), (3, 0.7000000000000001), (5, 0.7000000000000001), (7, 0.7000000000000001), (8, 0.7000000000000001), (19, 0.7000000000000001), (24, 0.7000000000000001), (27, 0.7000000000000001), (28, 0.7000000000000001), (29, 0.7000000000000001), (6, 0.8), (10, 0.8), (15, 0.8), (9, 0.9), (12, 0.9), (16, 0.9), (17, 0.9), (20, 0.9), (4, 1.0), (13, 1.0), (18, 1.0), (30, 1.0), (32, 1.0)]\n"
     ]
    }
   ],
   "source": [
    "import operator\n",
    "sorted_agreement_per_panel = sorted(panel_percentage_agreement.items(), key=operator.itemgetter(1))\n",
    "\n",
    "print(sorted_agreement_per_panel)\n",
    "\n"
   ]
  },
  {
   "cell_type": "markdown",
   "metadata": {},
   "source": [
    "##### List the means of all z-score normalised annotator scores per panel"
   ]
  },
  {
   "cell_type": "code",
   "execution_count": 20,
   "metadata": {},
   "outputs": [],
   "source": [
    "# just means in a list without panel - 1-5\n",
    "\n",
    "binary_story1_just_means_normalised = []\n",
    "\n",
    "for panel, values in zscores_per_panel.items():\n",
    "    mean_value = np.mean(values)\n",
    "    binary_story1_just_means_normalised.append(mean_value)\n"
   ]
  },
  {
   "cell_type": "code",
   "execution_count": 21,
   "metadata": {},
   "outputs": [
    {
     "data": {
      "text/plain": [
       "[0.08152471746731149,\n",
       " 0.2585543735167044,\n",
       " 0.6694906890510783,\n",
       " -0.7962520301624106,\n",
       " -0.1849239414807889,\n",
       " -0.3853157146280367,\n",
       " -0.1617110605094836,\n",
       " -0.1950767107206671,\n",
       " -0.5857074877752846,\n",
       " 1.034590302046138,\n",
       " 0.5339665225803429,\n",
       " -0.5958602570151628,\n",
       " -0.7962520301624106,\n",
       " 0.42759342632517294,\n",
       " -0.3853157146280367,\n",
       " -0.5857074877752846,\n",
       " -0.5857074877752846,\n",
       " 1.5103942242570243,\n",
       " 0.755192618450216,\n",
       " -0.5857074877752846,\n",
       " 0.44961702817213817,\n",
       " 0.23907248578501203,\n",
       " 0.42759342632517294,\n",
       " -0.1950767107206671,\n",
       " 0.610593874780337,\n",
       " 0.22720165317792507,\n",
       " 0.7148764079958985,\n",
       " -0.1629003396338236,\n",
       " -0.1629003396338236,\n",
       " -0.7962520301624106,\n",
       " 0.016657110790799002,\n",
       " -0.7962520301624106]"
      ]
     },
     "execution_count": 21,
     "metadata": {},
     "output_type": "execute_result"
    }
   ],
   "source": [
    "binary_story1_just_means_normalised"
   ]
  },
  {
   "cell_type": "code",
   "execution_count": 22,
   "metadata": {},
   "outputs": [],
   "source": [
    "# STD for the z_score of each panel\n",
    "\n",
    "STD_per_panel = {}\n",
    "\n",
    "for panelNum, scores in zscores_per_panel.items():\n",
    "    STD_per_panel[panelNum] = np.std(scores)\n",
    "\n",
    "    "
   ]
  },
  {
   "cell_type": "code",
   "execution_count": 23,
   "metadata": {},
   "outputs": [],
   "source": [
    "# just stds in a list without panel\n",
    "\n",
    "binary_story1_just_stds_normalised = []\n",
    "\n",
    "for panel, std in STD_per_panel.items():\n",
    "    binary_story1_just_stds_normalised.append(std)\n",
    "    "
   ]
  },
  {
   "cell_type": "markdown",
   "metadata": {},
   "source": [
    "##### List the standard deviations of all z-score normalised annotator scores per panel"
   ]
  },
  {
   "cell_type": "code",
   "execution_count": 24,
   "metadata": {},
   "outputs": [
    {
     "data": {
      "text/plain": [
       "[1.11686898829948,\n",
       " 0.9521142620942208,\n",
       " 0.7991146655732223,\n",
       " 0.31296368351888443,\n",
       " 0.7134721309533874,\n",
       " 0.6479731360606931,\n",
       " 0.9135117561842465,\n",
       " 0.8178084130517292,\n",
       " 0.5003820170382777,\n",
       " 1.1019391713889948,\n",
       " 1.198579728269121,\n",
       " 0.5931408581724975,\n",
       " 0.31296368351888443,\n",
       " 0.7581708488730837,\n",
       " 0.6479731360606931,\n",
       " 0.5003820170382777,\n",
       " 0.5003820170382777,\n",
       " 0.7069227398564856,\n",
       " 1.1585021495394443,\n",
       " 0.5003820170382777,\n",
       " 0.892763609408292,\n",
       " 0.8963808020693567,\n",
       " 0.7581708488730837,\n",
       " 0.8178084130517292,\n",
       " 1.282420905570211,\n",
       " 0.8550652737226191,\n",
       " 1.0597384754697179,\n",
       " 0.870761726947031,\n",
       " 0.870761726947031,\n",
       " 0.31296368351888443,\n",
       " 0.8024659591939612,\n",
       " 0.31296368351888443]"
      ]
     },
     "execution_count": 24,
     "metadata": {},
     "output_type": "execute_result"
    }
   ],
   "source": [
    "binary_story1_just_stds_normalised"
   ]
  },
  {
   "cell_type": "code",
   "execution_count": null,
   "metadata": {},
   "outputs": [],
   "source": []
  },
  {
   "cell_type": "markdown",
   "metadata": {},
   "source": [
    "##### Reformat binary scores into 0 and 1 (instead of the raw input of 1 and 5) and calculate percent disagreement between all annotators "
   ]
  },
  {
   "cell_type": "code",
   "execution_count": 25,
   "metadata": {},
   "outputs": [
    {
     "data": {
      "text/plain": [
       "{1: [0, 0, 1, 0, 1, 1, 0, 0, 0, 1],\n",
       " 2: [0, 1, 0, 1, 0, 1, 0, 0, 1, 1],\n",
       " 3: [1, 1, 0, 1, 1, 1, 0, 0, 1, 1],\n",
       " 4: [0, 0, 0, 0, 0, 0, 0, 0, 0, 0],\n",
       " 5: [0, 0, 0, 1, 1, 0, 0, 0, 0, 1],\n",
       " 6: [0, 0, 0, 1, 1, 0, 0, 0, 0, 0],\n",
       " 7: [0, 0, 0, 1, 0, 1, 1, 0, 0, 0],\n",
       " 8: [0, 0, 0, 0, 1, 0, 0, 0, 1, 1],\n",
       " 9: [0, 0, 0, 1, 0, 0, 0, 0, 0, 0],\n",
       " 10: [1, 1, 0, 1, 0, 1, 1, 1, 1, 1],\n",
       " 11: [1, 1, 1, 0, 1, 1, 0, 0, 0, 1],\n",
       " 12: [0, 0, 0, 0, 0, 0, 0, 0, 0, 1],\n",
       " 13: [0, 0, 0, 0, 0, 0, 0, 0, 0, 0],\n",
       " 14: [1, 0, 0, 1, 1, 1, 0, 0, 1, 1],\n",
       " 15: [0, 0, 0, 1, 1, 0, 0, 0, 0, 0],\n",
       " 16: [0, 0, 0, 1, 0, 0, 0, 0, 0, 0],\n",
       " 17: [0, 0, 0, 1, 0, 0, 0, 0, 0, 0],\n",
       " 18: [1, 1, 1, 1, 1, 1, 1, 1, 1, 1],\n",
       " 19: [1, 1, 1, 0, 1, 0, 1, 0, 1, 1],\n",
       " 20: [0, 0, 0, 1, 0, 0, 0, 0, 0, 0],\n",
       " 21: [1, 0, 0, 1, 1, 1, 1, 0, 1, 0],\n",
       " 22: [0, 0, 0, 1, 1, 1, 1, 0, 1, 0],\n",
       " 23: [1, 0, 0, 1, 1, 1, 0, 0, 1, 1],\n",
       " 24: [0, 0, 0, 0, 1, 0, 0, 0, 1, 1],\n",
       " 25: [1, 1, 0, 1, 0, 0, 0, 1, 1, 1],\n",
       " 26: [1, 0, 0, 1, 0, 1, 0, 0, 1, 1],\n",
       " 27: [1, 0, 1, 0, 1, 1, 1, 0, 1, 1],\n",
       " 28: [0, 0, 0, 1, 1, 0, 1, 0, 0, 0],\n",
       " 29: [0, 0, 0, 1, 1, 0, 1, 0, 0, 0],\n",
       " 30: [0, 0, 0, 0, 0, 0, 0, 0, 0, 0],\n",
       " 31: [0, 0, 0, 1, 0, 1, 0, 0, 1, 1],\n",
       " 32: [0, 0, 0, 0, 0, 0, 0, 0, 0, 0]}"
      ]
     },
     "execution_count": 25,
     "metadata": {},
     "output_type": "execute_result"
    }
   ],
   "source": [
    "# convert values from 1 -> 0 and 5 -> 1\n",
    "\n",
    "values_reformat = {}\n",
    "\n",
    "for panel, values in raw_value_per_panel.items():\n",
    "    reassigned_values = []\n",
    "    for val in values:\n",
    "        if val == 1.0:\n",
    "            reassigned_values.append(0)\n",
    "        if val == 5.0: \n",
    "            reassigned_values.append(1)\n",
    "    values_reformat[panel] = reassigned_values\n",
    "    \n",
    "values_reformat\n"
   ]
  },
  {
   "cell_type": "code",
   "execution_count": 26,
   "metadata": {},
   "outputs": [],
   "source": [
    "# just means in a list without panel\n",
    "\n",
    "binary_story1_just_means = []\n",
    "\n",
    "for panel, values in values_reformat.items():\n",
    "    mean_value = np.mean(values)\n",
    "    binary_story1_just_means.append(mean_value)\n"
   ]
  },
  {
   "cell_type": "code",
   "execution_count": 27,
   "metadata": {},
   "outputs": [
    {
     "data": {
      "text/plain": [
       "[0.4,\n",
       " 0.5,\n",
       " 0.7,\n",
       " 0.0,\n",
       " 0.3,\n",
       " 0.2,\n",
       " 0.3,\n",
       " 0.3,\n",
       " 0.1,\n",
       " 0.8,\n",
       " 0.6,\n",
       " 0.1,\n",
       " 0.0,\n",
       " 0.6,\n",
       " 0.2,\n",
       " 0.1,\n",
       " 0.1,\n",
       " 1.0,\n",
       " 0.7,\n",
       " 0.1,\n",
       " 0.6,\n",
       " 0.5,\n",
       " 0.6,\n",
       " 0.3,\n",
       " 0.6,\n",
       " 0.5,\n",
       " 0.7,\n",
       " 0.3,\n",
       " 0.3,\n",
       " 0.0,\n",
       " 0.4,\n",
       " 0.0]"
      ]
     },
     "execution_count": 27,
     "metadata": {},
     "output_type": "execute_result"
    }
   ],
   "source": [
    "binary_story1_just_means\n"
   ]
  },
  {
   "cell_type": "code",
   "execution_count": null,
   "metadata": {},
   "outputs": [],
   "source": []
  },
  {
   "cell_type": "code",
   "execution_count": null,
   "metadata": {},
   "outputs": [],
   "source": []
  },
  {
   "cell_type": "markdown",
   "metadata": {},
   "source": [
    "## Pearson's r and Spearman's rank between annotator pairs"
   ]
  },
  {
   "cell_type": "markdown",
   "metadata": {},
   "source": [
    "##### Calculate Pearson's r scores between each annotator pair"
   ]
  },
  {
   "cell_type": "code",
   "execution_count": 28,
   "metadata": {},
   "outputs": [],
   "source": [
    "\n",
    "# Pearson's r function \n",
    "\n",
    "def get_pearsonsr(values_Ann1, values_Ann2):\n",
    "    \"\"\"\n",
    "    Takes: two lists of values\n",
    "    Returns: nothing, but prints the the p value and states whether the null hypothesis was rejected.\n",
    "    \"\"\"\n",
    "    \n",
    "    # compare samples\n",
    "    coef, p = pearsonr(values_Ann1, values_Ann2)\n",
    "    print('Pearsons correlation coefficient: %.3f' % coef)\n",
    "    # interpret the significance\n",
    "    alpha = 0.01\n",
    "    if p > alpha:\n",
    "        print('Samples are uncorrelated (fail to reject H0) p=%.3f' % p)\n",
    "    else:\n",
    "        print('Samples are correlated (reject H0) p=%.3f' % p)\n",
    "    \n",
    "    return coef, p\n"
   ]
  },
  {
   "cell_type": "code",
   "execution_count": 56,
   "metadata": {},
   "outputs": [
    {
     "name": "stdout",
     "output_type": "stream",
     "text": [
      "Pearsons correlation coefficient: 0.572\n",
      "Samples are correlated (reject H0) p=0.001\n",
      "Pearsons correlation coefficient: 0.413\n",
      "Samples are uncorrelated (fail to reject H0) p=0.019\n",
      "Pearsons correlation coefficient: 0.108\n",
      "Samples are uncorrelated (fail to reject H0) p=0.555\n",
      "Pearsons correlation coefficient: 0.284\n",
      "Samples are uncorrelated (fail to reject H0) p=0.115\n",
      "Pearsons correlation coefficient: 0.555\n",
      "Samples are correlated (reject H0) p=0.001\n",
      "Pearsons correlation coefficient: 0.279\n",
      "Samples are uncorrelated (fail to reject H0) p=0.122\n",
      "Pearsons correlation coefficient: 0.444\n",
      "Samples are uncorrelated (fail to reject H0) p=0.011\n",
      "Pearsons correlation coefficient: 0.639\n",
      "Samples are correlated (reject H0) p=0.000\n",
      "Pearsons correlation coefficient: 0.548\n",
      "Samples are correlated (reject H0) p=0.001\n",
      "Pearsons correlation coefficient: 0.397\n",
      "Samples are uncorrelated (fail to reject H0) p=0.025\n",
      "Pearsons correlation coefficient: 0.065\n",
      "Samples are uncorrelated (fail to reject H0) p=0.725\n",
      "Pearsons correlation coefficient: 0.043\n",
      "Samples are uncorrelated (fail to reject H0) p=0.817\n",
      "Pearsons correlation coefficient: 0.295\n",
      "Samples are uncorrelated (fail to reject H0) p=0.101\n",
      "Pearsons correlation coefficient: 0.173\n",
      "Samples are uncorrelated (fail to reject H0) p=0.343\n",
      "Pearsons correlation coefficient: 0.608\n",
      "Samples are correlated (reject H0) p=0.000\n",
      "Pearsons correlation coefficient: 0.412\n",
      "Samples are uncorrelated (fail to reject H0) p=0.019\n",
      "Pearsons correlation coefficient: 0.497\n",
      "Samples are correlated (reject H0) p=0.004\n",
      "Pearsons correlation coefficient: -0.413\n",
      "Samples are uncorrelated (fail to reject H0) p=0.019\n",
      "Pearsons correlation coefficient: 0.404\n",
      "Samples are uncorrelated (fail to reject H0) p=0.022\n",
      "Pearsons correlation coefficient: 0.314\n",
      "Samples are uncorrelated (fail to reject H0) p=0.080\n",
      "Pearsons correlation coefficient: 0.305\n",
      "Samples are uncorrelated (fail to reject H0) p=0.090\n",
      "Pearsons correlation coefficient: 0.157\n",
      "Samples are uncorrelated (fail to reject H0) p=0.391\n",
      "Pearsons correlation coefficient: 0.113\n",
      "Samples are uncorrelated (fail to reject H0) p=0.537\n",
      "Pearsons correlation coefficient: 0.404\n",
      "Samples are uncorrelated (fail to reject H0) p=0.022\n",
      "Pearsons correlation coefficient: -0.021\n",
      "Samples are uncorrelated (fail to reject H0) p=0.911\n",
      "Pearsons correlation coefficient: 0.240\n",
      "Samples are uncorrelated (fail to reject H0) p=0.185\n",
      "Pearsons correlation coefficient: 0.160\n",
      "Samples are uncorrelated (fail to reject H0) p=0.382\n",
      "Pearsons correlation coefficient: 0.233\n",
      "Samples are uncorrelated (fail to reject H0) p=0.200\n",
      "Pearsons correlation coefficient: 0.152\n",
      "Samples are uncorrelated (fail to reject H0) p=0.405\n",
      "Pearsons correlation coefficient: -0.152\n",
      "Samples are uncorrelated (fail to reject H0) p=0.405\n",
      "Pearsons correlation coefficient: 0.197\n",
      "Samples are uncorrelated (fail to reject H0) p=0.279\n",
      "Pearsons correlation coefficient: 0.309\n",
      "Samples are uncorrelated (fail to reject H0) p=0.085\n",
      "Pearsons correlation coefficient: -0.128\n",
      "Samples are uncorrelated (fail to reject H0) p=0.487\n",
      "Pearsons correlation coefficient: 0.255\n",
      "Samples are uncorrelated (fail to reject H0) p=0.159\n",
      "Pearsons correlation coefficient: 0.247\n",
      "Samples are uncorrelated (fail to reject H0) p=0.173\n",
      "Pearsons correlation coefficient: 0.289\n",
      "Samples are uncorrelated (fail to reject H0) p=0.109\n",
      "Pearsons correlation coefficient: 0.149\n",
      "Samples are uncorrelated (fail to reject H0) p=0.417\n",
      "Pearsons correlation coefficient: 0.560\n",
      "Samples are correlated (reject H0) p=0.001\n",
      "Pearsons correlation coefficient: 0.450\n",
      "Samples are correlated (reject H0) p=0.010\n",
      "Pearsons correlation coefficient: 0.276\n",
      "Samples are uncorrelated (fail to reject H0) p=0.127\n",
      "Pearsons correlation coefficient: 0.248\n",
      "Samples are uncorrelated (fail to reject H0) p=0.171\n",
      "Pearsons correlation coefficient: -0.109\n",
      "Samples are uncorrelated (fail to reject H0) p=0.553\n",
      "Pearsons correlation coefficient: 0.342\n",
      "Samples are uncorrelated (fail to reject H0) p=0.055\n",
      "Pearsons correlation coefficient: 0.302\n",
      "Samples are uncorrelated (fail to reject H0) p=0.093\n",
      "Pearsons correlation coefficient: 0.631\n",
      "Samples are correlated (reject H0) p=0.000\n",
      "\n",
      "\n",
      "all pairwise Pearson's r scores: \n",
      "\n",
      "[0.5719694409972929, 0.4133804997216296, 0.10822510822510825, 0.28429748028367313, 0.5553906166205598, 0.2789579047098707, 0.4444009034750091, 0.6386392673039035, 0.5479936938801236, 0.39686602966573686, 0.0646574150692592, 0.04260429614980357, 0.2952380952380952, 0.17338428937260217, 0.6078306738548307, 0.41184152944810126, 0.49705012174770835, -0.4133804997216296, 0.40422604172722165, 0.31445669017230515, 0.3050830778329605, 0.15686368416817548, 0.11318329168362207, 0.4042260417272217, -0.020601266687222675, 0.24039295346263034, 0.16005781417779466, 0.23278142562976664, 0.1524493734854479, -0.1524493734854479, 0.1972421118046462, 0.30903173899329395, -0.12756275329753713, 0.2549019607843137, 0.24705882352941183, 0.28897381562100355, 0.1485808313867364, 0.5601675975251953, 0.4497120149145934, 0.2757127976394358, 0.2480959031354613, -0.1088139926032725, 0.34240528516707336, 0.3021223104415353, 0.6313725490196078]\n",
      "\n",
      "\n",
      "correlated:  9\n",
      "not correlated:  36\n",
      "mean:  0.27220039142217\n",
      "std:  0.22018087798220978\n"
     ]
    }
   ],
   "source": [
    "\n",
    "corr = 0\n",
    "not_corr = 0\n",
    "\n",
    "pearsons_values = []\n",
    "for participant_pair in combinations_all_participants:\n",
    "    ann1 = participant_pair[0]\n",
    "    ann2 = participant_pair[1]\n",
    "    pearsons_value, p = get_pearsonsr(background_values[ann1], background_values[ann2])\n",
    "    if p > 0.01:\n",
    "        not_corr +=1\n",
    "    if p < 0.01:\n",
    "        corr +=1\n",
    "    pearsons_values.append(pearsons_value)\n",
    "\n",
    "print(\"\\n\")    \n",
    "print(\"all pairwise Pearson's r scores: \\n\")\n",
    "print(pearsons_values)\n",
    "print(\"\\n\")  \n",
    "print(\"correlated: \", corr)\n",
    "print(\"not correlated: \", not_corr)\n",
    "print(\"mean: \", np.mean(pearsons_values))\n",
    "print(\"std: \", np.std(pearsons_values))\n",
    "\n"
   ]
  },
  {
   "cell_type": "code",
   "execution_count": null,
   "metadata": {},
   "outputs": [],
   "source": []
  },
  {
   "cell_type": "markdown",
   "metadata": {},
   "source": [
    "##### Calculate Spearman's rank between each annotator pair"
   ]
  },
  {
   "cell_type": "code",
   "execution_count": 63,
   "metadata": {},
   "outputs": [],
   "source": [
    "# Spearman's rank function \n",
    "\n",
    "def get_spearmans_rank(values_Ann1, values_Ann2):\n",
    "    \"\"\"\n",
    "    Takes: two lists of values\n",
    "    Returns: nothing, but prints the the p value and states whether the null hypothesis was rejected.\n",
    "    \"\"\"\n",
    "    # compare samples\n",
    "    coef, p = spearmanr(values_Ann1, values_Ann2)\n",
    "    print('%.3f' % coef)\n",
    "    # interpret the significance\n",
    "    alpha = 0.05\n",
    "    if p > alpha:\n",
    "        print('Samples are uncorrelated (fail to reject H0) p=%.3f' % p)\n",
    "    else:\n",
    "        print('Samples are correlated (reject H0) p=%.3f' % p)\n",
    "        \n",
    "    return coef, p\n",
    "\n"
   ]
  },
  {
   "cell_type": "code",
   "execution_count": 342,
   "metadata": {},
   "outputs": [
    {
     "name": "stdout",
     "output_type": "stream",
     "text": [
      "participant1 and participant2:\n",
      "0.572\n",
      "Samples are correlated (reject H0) p=0.001\n",
      "participant1 and participant3:\n",
      "0.413\n",
      "Samples are correlated (reject H0) p=0.019\n",
      "participant1 and participant4:\n",
      "0.108\n",
      "Samples are uncorrelated (fail to reject H0) p=0.555\n",
      "participant1 and participant5:\n",
      "0.284\n",
      "Samples are uncorrelated (fail to reject H0) p=0.115\n",
      "participant1 and participant6:\n",
      "0.555\n",
      "Samples are correlated (reject H0) p=0.001\n",
      "participant1 and participant7:\n",
      "0.279\n",
      "Samples are uncorrelated (fail to reject H0) p=0.122\n",
      "participant1 and participant8:\n",
      "0.444\n",
      "Samples are correlated (reject H0) p=0.011\n",
      "participant1 and participant9:\n",
      "0.639\n",
      "Samples are correlated (reject H0) p=0.000\n",
      "participant1 and participant10:\n",
      "0.548\n",
      "Samples are correlated (reject H0) p=0.001\n",
      "participant2 and participant3:\n",
      "0.397\n",
      "Samples are correlated (reject H0) p=0.025\n",
      "participant2 and participant4:\n",
      "0.065\n",
      "Samples are uncorrelated (fail to reject H0) p=0.725\n",
      "participant2 and participant5:\n",
      "0.043\n",
      "Samples are uncorrelated (fail to reject H0) p=0.817\n",
      "participant2 and participant6:\n",
      "0.295\n",
      "Samples are uncorrelated (fail to reject H0) p=0.101\n",
      "participant2 and participant7:\n",
      "0.173\n",
      "Samples are uncorrelated (fail to reject H0) p=0.343\n",
      "participant2 and participant8:\n",
      "0.608\n",
      "Samples are correlated (reject H0) p=0.000\n",
      "participant2 and participant9:\n",
      "0.412\n",
      "Samples are correlated (reject H0) p=0.019\n",
      "participant2 and participant10:\n",
      "0.497\n",
      "Samples are correlated (reject H0) p=0.004\n",
      "participant3 and participant4:\n",
      "-0.413\n",
      "Samples are correlated (reject H0) p=0.019\n",
      "participant3 and participant5:\n",
      "0.404\n",
      "Samples are correlated (reject H0) p=0.022\n",
      "participant3 and participant6:\n",
      "0.314\n",
      "Samples are uncorrelated (fail to reject H0) p=0.080\n",
      "participant3 and participant7:\n",
      "0.305\n",
      "Samples are uncorrelated (fail to reject H0) p=0.090\n",
      "participant3 and participant8:\n",
      "0.157\n",
      "Samples are uncorrelated (fail to reject H0) p=0.391\n",
      "participant3 and participant9:\n",
      "0.113\n",
      "Samples are uncorrelated (fail to reject H0) p=0.537\n",
      "participant3 and participant10:\n",
      "0.404\n",
      "Samples are correlated (reject H0) p=0.022\n",
      "participant4 and participant5:\n",
      "-0.021\n",
      "Samples are uncorrelated (fail to reject H0) p=0.911\n",
      "participant4 and participant6:\n",
      "0.240\n",
      "Samples are uncorrelated (fail to reject H0) p=0.185\n",
      "participant4 and participant7:\n",
      "0.160\n",
      "Samples are uncorrelated (fail to reject H0) p=0.382\n",
      "participant4 and participant8:\n",
      "0.233\n",
      "Samples are uncorrelated (fail to reject H0) p=0.200\n",
      "participant4 and participant9:\n",
      "0.152\n",
      "Samples are uncorrelated (fail to reject H0) p=0.405\n",
      "participant4 and participant10:\n",
      "-0.152\n",
      "Samples are uncorrelated (fail to reject H0) p=0.405\n",
      "participant5 and participant6:\n",
      "0.197\n",
      "Samples are uncorrelated (fail to reject H0) p=0.279\n",
      "participant5 and participant7:\n",
      "0.309\n",
      "Samples are uncorrelated (fail to reject H0) p=0.085\n",
      "participant5 and participant8:\n",
      "-0.128\n",
      "Samples are uncorrelated (fail to reject H0) p=0.487\n",
      "participant5 and participant9:\n",
      "0.255\n",
      "Samples are uncorrelated (fail to reject H0) p=0.159\n",
      "participant5 and participant10:\n",
      "0.247\n",
      "Samples are uncorrelated (fail to reject H0) p=0.173\n",
      "participant6 and participant7:\n",
      "0.289\n",
      "Samples are uncorrelated (fail to reject H0) p=0.109\n",
      "participant6 and participant8:\n",
      "0.149\n",
      "Samples are uncorrelated (fail to reject H0) p=0.417\n",
      "participant6 and participant9:\n",
      "0.560\n",
      "Samples are correlated (reject H0) p=0.001\n",
      "participant6 and participant10:\n",
      "0.450\n",
      "Samples are correlated (reject H0) p=0.010\n",
      "participant7 and participant8:\n",
      "0.276\n",
      "Samples are uncorrelated (fail to reject H0) p=0.127\n",
      "participant7 and participant9:\n",
      "0.248\n",
      "Samples are uncorrelated (fail to reject H0) p=0.171\n",
      "participant7 and participant10:\n",
      "-0.109\n",
      "Samples are uncorrelated (fail to reject H0) p=0.553\n",
      "participant8 and participant9:\n",
      "0.342\n",
      "Samples are uncorrelated (fail to reject H0) p=0.055\n",
      "participant8 and participant10:\n",
      "0.302\n",
      "Samples are uncorrelated (fail to reject H0) p=0.093\n",
      "participant9 and participant10:\n",
      "0.631\n",
      "Samples are correlated (reject H0) p=0.000\n",
      "********************\n",
      "\n",
      "\n",
      "all pairwise Spearman's rank scores: \n",
      "\n",
      "[0.571969440997293, 0.41338049972162966, 0.10822510822510822, 0.28429748028367324, 0.5553906166205598, 0.2789579047098707, 0.4444009034750092, 0.6386392673039036, 0.5479936938801238, 0.3968660296657368, 0.06465741506925919, 0.042604296149803586, 0.2952380952380952, 0.17338428937260217, 0.6078306738548309, 0.4118415294481013, 0.4970501217477086, -0.41338049972162966, 0.40422604172722165, 0.3144566901723051, 0.30508307783296046, 0.1568636841681755, 0.11318329168362207, 0.40422604172722165, -0.0206012666872227, 0.24039295346263034, 0.1600578141777947, 0.23278142562976673, 0.15244937348544796, -0.15244937348544796, 0.1972421118046462, 0.3090317389932939, -0.12756275329753716, 0.2549019607843138, 0.24705882352941183, 0.28897381562100355, 0.14858083138673642, 0.5601675975251952, 0.44971201491459334, 0.2757127976394359, 0.2480959031354613, -0.1088139926032725, 0.3424052851670734, 0.30212231044153537, 0.631372549019608]\n",
      "\n",
      "\n",
      "correlated:  9\n",
      "not correlated:  36\n",
      "mean:  0.27220039142217006\n",
      "std:  0.22018087798220978\n"
     ]
    }
   ],
   "source": [
    "\n",
    "corr = 0\n",
    "not_corr = 0\n",
    "\n",
    "spearmans_values = []\n",
    "for participant_pair in combinations_all_participants:\n",
    "    ann1 = participant_pair[0]\n",
    "    ann2 = participant_pair[1]\n",
    "    print(ann1 + \" and \" + ann2 + \":\")\n",
    "    spearmans_value, p = get_spearmans_rank(background_values[ann1], background_values[ann2])\n",
    "    if p > 0.01:\n",
    "        not_corr +=1\n",
    "    if p < 0.01:\n",
    "        corr +=1\n",
    "    spearmans_values.append(spearmans_value)\n",
    "print(\"********************\")\n",
    "\n",
    "print(\"\\n\")    \n",
    "print(\"all pairwise Spearman's rank scores: \\n\")\n",
    "\n",
    "print(spearmans_values)\n",
    "print(\"\\n\")  \n",
    "print(\"correlated: \", corr)\n",
    "print(\"not correlated: \", not_corr)\n",
    "print(\"mean: \", np.mean(spearmans_values))\n",
    "print(\"std: \", np.std(spearmans_values))\n"
   ]
  },
  {
   "cell_type": "code",
   "execution_count": null,
   "metadata": {},
   "outputs": [],
   "source": []
  },
  {
   "cell_type": "markdown",
   "metadata": {},
   "source": [
    "##### Calculate Cohen's Kappa between each annotator pair"
   ]
  },
  {
   "cell_type": "code",
   "execution_count": 65,
   "metadata": {},
   "outputs": [
    {
     "name": "stdout",
     "output_type": "stream",
     "text": [
      "Pairwise Cohen's kappa values: \n",
      "\n",
      "[0.5450236966824644, 0.36318407960199006, 0.08896797153024916, 0.26436781609195403, 0.5447154471544715, 0.27601809954751133, 0.32984293193717273, 0.6175298804780877, 0.5095785440613028, 0.3885350318471338, 0.04318936877076407, 0.03396226415094339, 0.26050420168067223, 0.17098445595854928, 0.539568345323741, 0.3522267206477733, 0.39622641509433965, -0.234726688102894, 0.2808988764044944, 0.24786324786324787, 0.2849162011173184, 0.1504424778761062, 0.08571428571428574, 0.2808988764044944, -0.019920318725099584, 0.21804511278195493, 0.1202749140893471, 0.10280373831775702, 0.14176245210727967, -0.14741035856573714, 0.1937984496124031, 0.26996197718631176, -0.07063197026022294, 0.2529182879377432, 0.24705882352941178, 0.2727272727272727, 0.09565217391304348, 0.5590551181102362, 0.4418604651162791, 0.22424242424242424, 0.22891566265060237, -0.09505703422053235, 0.2098765432098766, 0.16728624535315983, 0.6264591439688716]\n",
      "\n",
      "\n",
      "mean:  0.2413358149093012\n"
     ]
    }
   ],
   "source": [
    "# Cohens Kappa\n",
    "CKappa_values = []\n",
    "for participant_pair in combinations_all_participants:\n",
    "    ann1 = participant_pair[0]\n",
    "    ann2 = participant_pair[1]\n",
    "    CKappa_value = cohen_kappa_score(background_values[ann1], background_values[ann2])\n",
    "    CKappa_values.append(CKappa_value)\n",
    "    \n",
    "print(\"Pairwise Cohen's kappa values: \\n\")\n",
    "print(CKappa_values)\n",
    "print(\"\\n\")\n",
    "print(\"mean: \", np.mean(CKappa_values))\n"
   ]
  },
  {
   "cell_type": "code",
   "execution_count": null,
   "metadata": {},
   "outputs": [],
   "source": []
  },
  {
   "cell_type": "code",
   "execution_count": 33,
   "metadata": {},
   "outputs": [
    {
     "data": {
      "text/plain": [
       "[0.5719694409972929,\n",
       " 0.4133804997216296,\n",
       " 0.10822510822510825,\n",
       " 0.28429748028367313,\n",
       " 0.5553906166205598,\n",
       " 0.2789579047098707,\n",
       " 0.4444009034750091,\n",
       " 0.6386392673039035,\n",
       " 0.5479936938801236,\n",
       " 0.39686602966573686,\n",
       " 0.0646574150692592,\n",
       " 0.04260429614980357,\n",
       " 0.2952380952380952,\n",
       " 0.17338428937260217,\n",
       " 0.6078306738548307,\n",
       " 0.41184152944810126,\n",
       " 0.49705012174770835,\n",
       " -0.4133804997216296,\n",
       " 0.40422604172722165,\n",
       " 0.31445669017230515,\n",
       " 0.3050830778329605,\n",
       " 0.15686368416817548,\n",
       " 0.11318329168362207,\n",
       " 0.4042260417272217,\n",
       " -0.020601266687222675,\n",
       " 0.24039295346263034,\n",
       " 0.16005781417779466,\n",
       " 0.23278142562976664,\n",
       " 0.1524493734854479,\n",
       " -0.1524493734854479,\n",
       " 0.1972421118046462,\n",
       " 0.30903173899329395,\n",
       " -0.12756275329753713,\n",
       " 0.2549019607843137,\n",
       " 0.24705882352941183,\n",
       " 0.28897381562100355,\n",
       " 0.1485808313867364,\n",
       " 0.5601675975251953,\n",
       " 0.4497120149145934,\n",
       " 0.2757127976394358,\n",
       " 0.2480959031354613,\n",
       " -0.1088139926032725,\n",
       " 0.34240528516707336,\n",
       " 0.3021223104415353,\n",
       " 0.6313725490196078]"
      ]
     },
     "execution_count": 33,
     "metadata": {},
     "output_type": "execute_result"
    }
   ],
   "source": [
    "pearsons_values"
   ]
  },
  {
   "cell_type": "markdown",
   "metadata": {},
   "source": [
    "## Heatmaps: Annotator agreement and reliability"
   ]
  },
  {
   "cell_type": "code",
   "execution_count": 329,
   "metadata": {},
   "outputs": [],
   "source": [
    "# Additional utilities for plotting images\n",
    "# from: https://shravan-kuchkula.github.io/nlp/document_similarity/#plot-a-heatmap-of-cosine-similarity-values\n",
    "\n",
    "##############################\n",
    "#  Module: utils.py\n",
    "#  Author: Shravan Kuchkula\n",
    "#  Date: 07/19/2019\n",
    "##############################\n",
    "\n",
    "from sklearn.feature_extraction.text import CountVectorizer, TfidfVectorizer\n",
    "import numpy as np\n",
    "import seaborn as sns\n",
    "import matplotlib.pyplot as plt\n",
    "import pandas as pd\n",
    "\n",
    "\n",
    "def plot_heatmap(df_hm, xlabels, ylabels, title):\n",
    "    \"\"\"\n",
    "    Given a dataframe containing similarity grid, plot the heatmap\n",
    "    \"\"\"\n",
    "    sns.set(style=\"white\")\n",
    "\n",
    "    # Set up the matplotlib figure\n",
    "    # (to enlarge the cells, increase the figure size)\n",
    "    fig, ax = plt.subplots(figsize=(10, 10)) \n",
    "\n",
    "    # Generate a custom diverging colormap\n",
    "    #sns.diverging_palette(\"coolwarm\", as_cmap=True)\n",
    "\n",
    "    #cmap = sns.color_palette(\"viridis\", as_cmap=True)\n",
    "    #sns.diverging_palette(\"coolwarm\", as_cmap=True)\n",
    "    #cmap = sns.diverging_palette(\"coolwarm\")\n",
    "    cmap = sns.diverging_palette(260, 10, as_cmap=True)\n",
    "\n",
    "    # Generate a mask for the upper triangle\n",
    "    mask = np.zeros_like(df_hm, dtype = bool)\n",
    "    mask[np.triu_indices_from(mask)] = True\n",
    "\n",
    "    # Draw the heatmap with the mask and correct aspect ratio\n",
    "    sns.heatmap(df_hm, mask=mask, cmap=cmap, center=0.5, xticklabels=xlabels,\n",
    "                yticklabels=ylabels,\n",
    "                square=True, linewidths=.5, fmt='.2f',\n",
    "                annot=True, vmin=0, vmax=1, cbar_kws={\"shrink\": 0.75},\n",
    "                cbar=True)  \n",
    "    # NOTE: center is the center color value\n",
    "    # NOTE: vmin and vmax are the color map interval\n",
    "    \n",
    "#     b, t = plt.ylim() # discover the values for bottom and top\n",
    "#     b += 0.5 # Add 0.5 to the bottom\n",
    "#     t -= 0.5 # Subtract 0.5 from the top\n",
    "#     plt.ylim(b, t) # update the ylim(bottom, top) values\n",
    "\n",
    "    # create xtick locations\n",
    "    xtick_locations = []\n",
    "    for i in range(len(xlabels)):\n",
    "        xtick_locations.append(i+0.5)\n",
    "    #print(xtick_locations)\n",
    "    \n",
    "\n",
    "    ax.set_title(title).set_fontsize(15) # change the title to reflect the type of score\n",
    "    ax.set_xlabel(\"\")\n",
    "    ax.set_ylabel(\"\")\n",
    "    #ax.set_xticks(xtick_locations)\n",
    "    #ax.set_xticklabels(xlabels)\n",
    "    plt.xticks(rotation=45)\n",
    "    plt.yticks(rotation=0)\n",
    "    \n",
    "    plt.show()\n",
    "    \n",
    "\n"
   ]
  },
  {
   "cell_type": "code",
   "execution_count": 330,
   "metadata": {},
   "outputs": [],
   "source": [
    "# Heat Map of Similarity between Annotators\n",
    "# code from: https://shravan-kuchkula.github.io/nlp/document_similarity/#\n",
    "\n",
    "def create_heatmap_between_annotators_for_one_story(story_combinations, \n",
    "                                                    similarity_scores, \n",
    "                                                    annotators_list,\n",
    "                                                    title):\n",
    "    \n",
    "\n",
    "    # create dict with annotator name as the key and annotator index number from list as the value \n",
    "    annotator_to_idx = {annotator_name: i for i, annotator_name in enumerate(annotators_list)}\n",
    "    #print(annotator_to_idx)\n",
    "    \n",
    "    # create a dataframe\n",
    "    df = pd.DataFrame({'pairs': story_combinations, 'similarity': similarity_scores})\n",
    "    #display(df.head())\n",
    "    #display(df.tail())\n",
    "\n",
    "    # initialize an empty dataframe grid\n",
    "    df_hm = pd.DataFrame({'ind': range(len(annotators_list)), 'cols': range(len(annotators_list)), 'vals': pd.Series(np.zeros(len(annotators_list)))})\n",
    "\n",
    "    # convert to a matrix\n",
    "    df_hm = df_hm.pivot(index='ind', columns='cols')#.fillna(0)\n",
    "\n",
    "    #print(df_hm)\n",
    "\n",
    "    # make a copy\n",
    "    df_temp = df.copy()\n",
    "\n",
    "    # convert list of tuples into 2 lists\n",
    "    list1 = []\n",
    "    list2 = []\n",
    "    for item1, item2 in df_temp.pairs:\n",
    "        list1.append(item1)\n",
    "        list2.append(item2)\n",
    "\n",
    "    #print(list1)\n",
    "    #print(list2)\n",
    "\n",
    "    # add two columns to df_temp\n",
    "    df_temp['col1'] = list1\n",
    "    df_temp['col2'] = list2\n",
    "\n",
    "    # drop the pair as it not needed\n",
    "    df_temp.drop('pairs', axis=1, inplace=True)\n",
    "\n",
    "    # extract annotator index so that you can construct annotator pairs \n",
    "    df_temp['col1'] = df_temp['col1'].apply(lambda x: annotator_to_idx[x])\n",
    "    df_temp['col2'] = df_temp['col2'].apply(lambda x: annotator_to_idx[x])\n",
    "\n",
    "    # create tuples (0, 1, similarity)\n",
    "    df_temp['pairs'] = list(zip(df_temp.col1, df_temp.col2, round(df_temp.similarity, 2)))\n",
    "\n",
    "    #display(df_temp)\n",
    "\n",
    "    # to get lower diagonal, swap the rows and cols.\n",
    "    for row, col, similarity in df_temp.pairs:\n",
    "        df_hm.iloc[col, row] = similarity\n",
    "    \n",
    "    plot_heatmap(df_hm, annotators_list, annotators_list, title)\n",
    "\n",
    "\n",
    "    \n",
    "    "
   ]
  },
  {
   "cell_type": "code",
   "execution_count": 343,
   "metadata": {},
   "outputs": [
    {
     "data": {
      "image/png": "[encoded data removed]",
      "text/plain": [
       "<Figure size 720x720 with 2 Axes>"
      ]
     },
     "metadata": {},
     "output_type": "display_data"
    }
   ],
   "source": [
    "annotators = [\"participant1\",\n",
    "              \"participant2\",\n",
    "              \"participant3\",\n",
    "              \"participant4\",\n",
    "              \"participant5\",\n",
    "              \"participant6\",\n",
    "              \"participant7\",\n",
    "              \"participant8\",\n",
    "              \"participant9\",\n",
    "              \"participant10\"]\n",
    "\n",
    "heatmap = create_heatmap_between_annotators_for_one_story(combinations_all_participants, \n",
    "                                                          pearsons_values,\n",
    "                                                          annotators,\n",
    "                                                          \"Heatmap of Pearson's r scores between \\n annotator pairs using a binary scale, Story 1 \")\n",
    "\n"
   ]
  },
  {
   "cell_type": "code",
   "execution_count": 344,
   "metadata": {},
   "outputs": [
    {
     "data": {
      "image/png": "[encoded data removed]",
      "text/plain": [
       "<Figure size 720x720 with 2 Axes>"
      ]
     },
     "metadata": {},
     "output_type": "display_data"
    }
   ],
   "source": [
    "annotators = [\"participant1\",\n",
    "              \"participant2\",\n",
    "              \"participant3\",\n",
    "              \"participant4\",\n",
    "              \"participant5\",\n",
    "              \"participant6\",\n",
    "              \"participant7\",\n",
    "              \"participant8\",\n",
    "              \"participant9\",\n",
    "              \"participant10\"]\n",
    "\n",
    "heatmap = create_heatmap_between_annotators_for_one_story(combinations_all_participants, \n",
    "                                                          CKappa_values,\n",
    "                                                          annotators,\n",
    "                                                          \"Heatmap of Cohen's Kappa scores between \\n annotator pairs using a binary scale, Story 1\")\n",
    "\n"
   ]
  },
  {
   "cell_type": "code",
   "execution_count": 345,
   "metadata": {},
   "outputs": [
    {
     "data": {
      "image/png": "[encoded data removed]",
      "text/plain": [
       "<Figure size 720x720 with 2 Axes>"
      ]
     },
     "metadata": {},
     "output_type": "display_data"
    }
   ],
   "source": [
    "annotators = [\"participant1\",\n",
    "              \"participant2\",\n",
    "              \"participant3\",\n",
    "              \"participant4\",\n",
    "              \"participant5\",\n",
    "              \"participant6\",\n",
    "              \"participant7\",\n",
    "              \"participant8\",\n",
    "              \"participant9\",\n",
    "              \"participant10\"]\n",
    "\n",
    "heatmap = create_heatmap_between_annotators_for_one_story(combinations_all_participants, \n",
    "                                                          KA_values,\n",
    "                                                          annotators,\n",
    "                                                          \"Heatmap of Krippendorff's alpha scores between \\n annotator pairs using a binary scale, Story 1\")\n",
    "\n"
   ]
  },
  {
   "cell_type": "code",
   "execution_count": null,
   "metadata": {},
   "outputs": [],
   "source": []
  }
 ],
 "metadata": {
  "kernelspec": {
   "display_name": "Python 3 (ipykernel)",
   "language": "python",
   "name": "python3"
  },
  "language_info": {
   "codemirror_mode": {
    "name": "ipython",
    "version": 3
   },
   "file_extension": ".py",
   "mimetype": "text/x-python",
   "name": "python",
   "nbconvert_exporter": "python",
   "pygments_lexer": "ipython3",
   "version": "3.9.10"
  }
 },
 "nbformat": 4,
 "nbformat_minor": 2
}
