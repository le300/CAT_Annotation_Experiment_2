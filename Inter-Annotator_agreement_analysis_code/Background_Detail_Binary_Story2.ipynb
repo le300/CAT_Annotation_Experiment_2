{
 "cells": [
  {
   "cell_type": "markdown",
   "metadata": {},
   "source": [
    "# Background Detail Binary - Story 2"
   ]
  },
  {
   "cell_type": "markdown",
   "metadata": {},
   "source": [
    "This notebook assesses inter-annotator agreement for the background detail/information amount score. \n",
    "It imports pre-processed JSON files to perform a number of statistical tests to assess IAA. \n"
   ]
  },
  {
   "cell_type": "markdown",
   "metadata": {},
   "source": [
    "##### Imports and packages"
   ]
  },
  {
   "cell_type": "code",
   "execution_count": 12,
   "metadata": {},
   "outputs": [],
   "source": [
    "# Imports and Packages:\n",
    "\n",
    "import json # json library\n",
    "import os # for list directories \n",
    "\n",
    "from collections import Counter # counter library\n",
    "import re # regex\n",
    "\n",
    "import numpy as np \n",
    "import math\n",
    "import matplotlib.pyplot as plt\n",
    "\n",
    "import itertools\n",
    "from itertools import permutations # library to print permutations\n",
    "from itertools import combinations # library to print combinations\n",
    "\n",
    "import sklearn # sklearn for inter-annotation kappa scores\n",
    "from sklearn.metrics import cohen_kappa_score\n",
    "import statsmodels\n",
    "from statsmodels.stats.inter_rater import fleiss_kappa\n",
    "\n",
    "import krippendorff #import for Fleiss Kappa inter-annotator agreement for more than 2 annotators\n",
    "\n",
    "import scipy.stats\n",
    "from scipy.stats import mode \n",
    "from scipy.stats import zscore # normalise data\n",
    "from scipy.stats import mannwhitneyu # for Mann-Whitney U test\n",
    "from scipy.stats import ttest_ind # independent t-test\n",
    "from scipy.stats import spearmanr # spearmans rank\n",
    "from scipy.stats import pearsonr # pearson's r\n"
   ]
  },
  {
   "cell_type": "markdown",
   "metadata": {},
   "source": [
    "##### Import JSON data"
   ]
  },
  {
   "cell_type": "code",
   "execution_count": 2,
   "metadata": {},
   "outputs": [],
   "source": [
    "# Import JSON data from Prolific Study\n",
    "\n",
    "path_to_jsonFiles = \"Annotations_Prolific/Background_Detail_Binary_Story2/Processed_Data\" # This is the folder with the json data files\n",
    "corpus = {} # init a dict to hold each json data file\n",
    "participantNum = 1 # init a participant num counter\n",
    "\n",
    "for file in sorted(os.listdir(path_to_jsonFiles)):\n",
    "    if file.endswith('.json'): # check that the file has a json extension (to circumvent hidden .DS_store files)\n",
    "        full_file_name = \"%s/%s\" % (path_to_jsonFiles, file)\n",
    "        with open(full_file_name, 'r') as fi:\n",
    "            storyName = \"participant\" + str(participantNum)\n",
    "            story_data = json.load(fi)\n",
    "            corpus[storyName] = story_data\n",
    "        participantNum += 1\n",
    "    \n",
    "# all_stories holds all the json data files, with key \"storyN\" and value is the read in json file\n"
   ]
  },
  {
   "cell_type": "code",
   "execution_count": 3,
   "metadata": {},
   "outputs": [],
   "source": [
    "# check that the data was read in correctly\n",
    "#corpus['participant10']\n"
   ]
  },
  {
   "cell_type": "markdown",
   "metadata": {},
   "source": [
    "##### Get annotator pair combinations as pairs of names in a list"
   ]
  },
  {
   "cell_type": "code",
   "execution_count": 4,
   "metadata": {},
   "outputs": [],
   "source": [
    "# Combinations of annotators:\n",
    "# Function to get the combinations of all participants\n",
    "\n",
    "def get_combinations_of_annotators(all_annotation_data):\n",
    "    \"\"\"\n",
    "    Takes: a dict containing all annotation data - this is the input of reading in all json files,\n",
    "            as is done above.\n",
    "    Returns: a list of tuples containing pairs of strings that indicate annotators. In other words, a list of \n",
    "            annotator pairs.\n",
    "    \"\"\"\n",
    "    annotators = [] # init a list to store annotators\n",
    "    annotator_pairs = [] # init a list to store all combination pairs\n",
    "    \n",
    "    for annotator, annotation_data in all_annotation_data.items():\n",
    "        annotators.append(annotator)\n",
    "     \n",
    "    combs = itertools.combinations(annotators, 2) # get annotator combinations in sets of two\n",
    "    \n",
    "    for ann in list(combs):\n",
    "        annotator_pairs.append(ann)\n",
    "    \n",
    "    return annotator_pairs\n",
    "\n"
   ]
  },
  {
   "cell_type": "code",
   "execution_count": 5,
   "metadata": {},
   "outputs": [],
   "source": [
    "# Get all annotator combinations\n",
    "combinations_all_participants = get_combinations_of_annotators(corpus)\n"
   ]
  },
  {
   "cell_type": "code",
   "execution_count": 6,
   "metadata": {},
   "outputs": [],
   "source": [
    "#print(combinations_all_participants)"
   ]
  },
  {
   "cell_type": "markdown",
   "metadata": {},
   "source": [
    "##### Store the annotation values per annotator in a dictionary and list of lists for easier analysis"
   ]
  },
  {
   "cell_type": "code",
   "execution_count": 13,
   "metadata": {},
   "outputs": [],
   "source": [
    "# get a list of all values per participant, put in a dict \"background_values\"\n",
    "\n",
    "background_values = {}\n",
    "\n",
    "for participant, story_info in corpus.items():\n",
    "    values = [] # init values list\n",
    "    for page, page_info in story_info.items():\n",
    "        for panel, panel_info in page_info.items():\n",
    "            background_info = panel_info[\"background/setting\"]\n",
    "            value = float(background_info[\"information_amount\"])\n",
    "            values.append(value)\n",
    "    \n",
    "    background_values[participant] = values\n",
    "    \n",
    "#background_values  \n"
   ]
  },
  {
   "cell_type": "code",
   "execution_count": 14,
   "metadata": {},
   "outputs": [
    {
     "name": "stdout",
     "output_type": "stream",
     "text": [
      "10\n"
     ]
    }
   ],
   "source": [
    "#background_values\n",
    "\n",
    "# put all sets of background values into a list of lists\n",
    "\n",
    "list_of_lists_of_all_participant_values = []\n",
    "for participant, values_list in background_values.items():\n",
    "    #print(participant)\n",
    "    #print(values_list)\n",
    "    list_of_lists_of_all_participant_values.append(values_list)\n",
    "    \n",
    "print(len(list_of_lists_of_all_participant_values))\n"
   ]
  },
  {
   "cell_type": "code",
   "execution_count": null,
   "metadata": {},
   "outputs": [],
   "source": []
  },
  {
   "cell_type": "markdown",
   "metadata": {},
   "source": [
    "### Krippendorff's Alpha"
   ]
  },
  {
   "cell_type": "markdown",
   "metadata": {},
   "source": [
    "##### Function to calculate Krippendorff's Alpha"
   ]
  },
  {
   "cell_type": "code",
   "execution_count": 16,
   "metadata": {},
   "outputs": [],
   "source": [
    "# Krippendorff's Alpha - Inter-rater agreement measure\n",
    "\n",
    "# Code from https://github.com/grrrr/krippendorff-alpha/blob/master/krippendorff_alpha.py\n",
    "\n",
    "def nominal_metric(a, b):\n",
    "    return a != b\n",
    "\n",
    "def interval_metric(a, b):\n",
    "    return (a-b)**2\n",
    "\n",
    "def ratio_metric(a, b):\n",
    "    return ((a-b)/(a+b))**2\n",
    "\n",
    "def krippendorff_alpha(data, metric=interval_metric, force_vecmath=False, convert_items=float, missing_items=None):\n",
    "    '''\n",
    "    Python implementation of Krippendorff's alpha -- inter-rater reliability\n",
    "    (c)2011-17 Thomas Grill (http://grrrr.org)\n",
    "    Python version >= 2.4 required\n",
    "\n",
    "    Calculate Krippendorff's alpha (inter-rater reliability):\n",
    "    \n",
    "    data is in the format\n",
    "    [\n",
    "        {unit1:value, unit2:value, ...},  # coder 1\n",
    "        {unit1:value, unit3:value, ...},   # coder 2\n",
    "        ...                            # more coders\n",
    "    ]\n",
    "    or it is a sequence of (masked) sequences (list, numpy.array, numpy.ma.array, e.g.) with rows corresponding to \n",
    "    coders and columns to items\n",
    "    \n",
    "    metric: function calculating the pairwise distance\n",
    "    force_vecmath: force vector math for custom metrics (numpy required)\n",
    "    convert_items: function for the type conversion of items (default: float)\n",
    "    missing_items: indicator for missing items (default: None)\n",
    "    '''\n",
    "    \n",
    "    # number of coders\n",
    "    m = len(data)\n",
    "    \n",
    "    # set of constants identifying missing values\n",
    "    if missing_items is None:\n",
    "        maskitems = []\n",
    "    else:\n",
    "        maskitems = list(missing_items)\n",
    "    if np is not None:\n",
    "        maskitems.append(np.ma.masked_singleton)\n",
    "    \n",
    "    # convert input data to a dict of items\n",
    "    units = {}\n",
    "    for d in data:\n",
    "        try:\n",
    "            # try if d behaves as a dict\n",
    "            diter = d.items()\n",
    "        except AttributeError:\n",
    "            # sequence assumed for d\n",
    "            diter = enumerate(d)\n",
    "            \n",
    "        for it, g in diter:\n",
    "            if g not in maskitems:\n",
    "                try:\n",
    "                    its = units[it]\n",
    "                except KeyError:\n",
    "                    its = []\n",
    "                    units[it] = its\n",
    "                its.append(convert_items(g))\n",
    "\n",
    "\n",
    "    units = dict((it, d) for it, d in units.items() if len(d) > 1)  # units with pairable values\n",
    "    n = sum(len(pv) for pv in units.values())  # number of pairable values\n",
    "    \n",
    "    if n == 0:\n",
    "        raise ValueError(\"No items to compare.\")\n",
    "    \n",
    "    np_metric = (np is not None) and ((metric in (interval_metric, nominal_metric, ratio_metric)) or force_vecmath)\n",
    "    \n",
    "    Do = 0.\n",
    "    for grades in units.values():\n",
    "        if np_metric:\n",
    "            gr = np.asarray(grades)\n",
    "            Du = sum(np.sum(metric(gr, gri)) for gri in gr)\n",
    "        else:\n",
    "            Du = sum(metric(gi, gj) for gi in grades for gj in grades)\n",
    "        Do += Du/float(len(grades)-1)\n",
    "    Do /= float(n)\n",
    "\n",
    "    if Do == 0:\n",
    "        return 1.\n",
    "\n",
    "    De = 0.\n",
    "    for g1 in units.values():\n",
    "        if np_metric:\n",
    "            d1 = np.asarray(g1)\n",
    "            for g2 in units.values():\n",
    "                De += sum(np.sum(metric(d1, gj)) for gj in g2)\n",
    "        else:\n",
    "            for g2 in units.values():\n",
    "                De += sum(metric(gi, gj) for gi in g1 for gj in g2)\n",
    "    De /= float(n*(n-1))\n",
    "\n",
    "    return 1.-Do/De if (Do and De) else 1.\n"
   ]
  },
  {
   "cell_type": "markdown",
   "metadata": {},
   "source": [
    "##### Krippendorff's Alpha result for all-against-all annotators, using the above function "
   ]
  },
  {
   "cell_type": "code",
   "execution_count": 10,
   "metadata": {},
   "outputs": [
    {
     "name": "stdout",
     "output_type": "stream",
     "text": [
      "0.5234097014190681\n"
     ]
    }
   ],
   "source": [
    "kalpha = krippendorff_alpha(list_of_lists_of_all_participant_values, nominal_metric) # get the k alpha for each ind agent\n",
    "print(kalpha)\n",
    "\n"
   ]
  },
  {
   "cell_type": "markdown",
   "metadata": {},
   "source": [
    "##### Krippendorff's Alpha result for all-against-all annotators, using the Krippendorff 0.7.0 Python package"
   ]
  },
  {
   "cell_type": "code",
   "execution_count": 11,
   "metadata": {},
   "outputs": [
    {
     "name": "stdout",
     "output_type": "stream",
     "text": [
      "0.5234097014190682\n"
     ]
    }
   ],
   "source": [
    "from krippendorff.krippendorff import alpha\n",
    "print(krippendorff.alpha(list_of_lists_of_all_participant_values, level_of_measurement=\"nominal\"))\n"
   ]
  },
  {
   "cell_type": "markdown",
   "metadata": {},
   "source": [
    "##### Krippendorff's Alpha results for all individual annotator pairs"
   ]
  },
  {
   "cell_type": "code",
   "execution_count": 17,
   "metadata": {},
   "outputs": [
    {
     "name": "stdout",
     "output_type": "stream",
     "text": [
      "Pairwise KA values: \n",
      "\n",
      "[0.7393162393162394, 0.6187500000000001, 0.419047619047619, 0.5986842105263157, 0.5481481481481482, 0.4263322884012538, 0.4916666666666667, 0.6702702702702703, 0.5383783783783784, 0.6187500000000001, 0.6702702702702703, 0.44545454545454544, 0.8021621621621622, 0.3017689906347555, 0.615546218487395, 0.9319955406911928, 0.7959866220735786, 0.42872008324661803, 0.35924369747899154, 0.5556711758584807, 0.5383783783783784, 0.7436974789915967, 0.5538140020898641, 0.5538140020898641, 0.38795986622073575, 0.608974358974359, -0.016666666666666607, 0.5538140020898641, 0.7324561403508771, 0.5986842105263157, 0.5239687848383501, 0.17136886102403337, 0.3482905982905983, 0.5040650406504066, 0.362369337979094, 0.23750000000000016, 0.6812957157784744, 0.7324561403508771, 0.5986842105263157, 0.28994708994708995, 0.23750000000000016, 0.23750000000000016, 0.5481481481481482, 0.5481481481481482, 0.7227272727272727]\n",
      "\n",
      "\n",
      "mean:  0.5238901833014862\n",
      "std:  0.1867542064766771\n"
     ]
    }
   ],
   "source": [
    "KA_values = []\n",
    "for participant_pair in combinations_all_participants:\n",
    "    ann1 = participant_pair[0]\n",
    "    ann2 = participant_pair[1]\n",
    "    KA_value = krippendorff_alpha([background_values[ann1], background_values[ann2]])\n",
    "    KA_values.append(KA_value)\n",
    "    \n",
    "print(\"Pairwise KA values: \\n\")\n",
    "print(KA_values)\n",
    "print(\"\\n\")\n",
    "print(\"mean: \", np.mean(KA_values))\n",
    "print(\"std: \", np.std(KA_values))\n",
    "\n",
    "#print(background_values[ann1])"
   ]
  },
  {
   "cell_type": "code",
   "execution_count": null,
   "metadata": {},
   "outputs": [],
   "source": []
  },
  {
   "cell_type": "markdown",
   "metadata": {},
   "source": [
    "### Per-panel analysis of annotator agreement"
   ]
  },
  {
   "cell_type": "markdown",
   "metadata": {},
   "source": [
    "##### Get all annotators raw values and z-score normalised values per panel "
   ]
  },
  {
   "cell_type": "code",
   "execution_count": 24,
   "metadata": {},
   "outputs": [],
   "source": [
    "# z-score normalisation - normalise the raw background values\n",
    "\n",
    "zscore_values = {}\n",
    "\n",
    "for participant, values in background_values.items():\n",
    "    int_values =  [float(i) for i in values]\n",
    "    normalised_values = zscore(int_values)\n",
    "    \n",
    "    zscore_values[participant] = list(normalised_values)\n",
    "    "
   ]
  },
  {
   "cell_type": "code",
   "execution_count": 25,
   "metadata": {},
   "outputs": [],
   "source": [
    "#zscore_values['participant10']"
   ]
  },
  {
   "cell_type": "code",
   "execution_count": 26,
   "metadata": {},
   "outputs": [],
   "source": [
    "# Get each zscore value per panel \n",
    "\n",
    "zscores_per_panel = {}\n",
    "\n",
    "for participant, values in zscore_values.items():\n",
    "    panelNum = 0\n",
    "    for val in values:\n",
    "        panelName = panelNum + 1\n",
    "        if zscores_per_panel.get(panelName) == None:\n",
    "            zscores_per_panel[panelName] = []\n",
    "        if zscores_per_panel.get(panelName) != None:\n",
    "            zscores_per_panel[panelName].append(val)\n",
    "        panelNum += 1\n"
   ]
  },
  {
   "cell_type": "code",
   "execution_count": 27,
   "metadata": {},
   "outputs": [],
   "source": [
    "#zscores_per_panel[1]"
   ]
  },
  {
   "cell_type": "code",
   "execution_count": 28,
   "metadata": {},
   "outputs": [],
   "source": [
    "# just means in a list without panel - 1-5\n",
    "\n",
    "binary_story2_just_means_normalised = []\n",
    "\n",
    "for panel, values in zscores_per_panel.items():\n",
    "    mean_value = np.mean(values)\n",
    "    binary_story2_just_means_normalised.append(mean_value)\n"
   ]
  },
  {
   "cell_type": "code",
   "execution_count": 29,
   "metadata": {},
   "outputs": [
    {
     "data": {
      "text/plain": [
       "[0.11862535581915479,\n",
       " 0.9419359498319452,\n",
       " -0.9042981164200679,\n",
       " -0.08496697418430788,\n",
       " 0.7243161844172918,\n",
       " -0.698995601074986,\n",
       " -0.9042981164200679,\n",
       " -0.698995601074986,\n",
       " -0.09358478223535593,\n",
       " 0.5216628447745018,\n",
       " -0.08723616451454101,\n",
       " -0.29888729758043775,\n",
       " -0.08147878373489509,\n",
       " 1.1472384651770269,\n",
       " 0.7306648021381068,\n",
       " -0.7016447767772778,\n",
       " 0.7280156264358153,\n",
       " 1.1472384651770269,\n",
       " 0.9471343256229771,\n",
       " -0.4980524467738151,\n",
       " 1.1472384651770269,\n",
       " 0.732374987479726,\n",
       " -0.4963422614321959,\n",
       " -0.698995601074986,\n",
       " 1.1472384651770269,\n",
       " 0.7355831681706316,\n",
       " -0.9042981164200679,\n",
       " -0.9042981164200679,\n",
       " -0.9042981164200679,\n",
       " -0.9042981164200679,\n",
       " -0.9042981164200679]"
      ]
     },
     "execution_count": 29,
     "metadata": {},
     "output_type": "execute_result"
    }
   ],
   "source": [
    "binary_story2_just_means_normalised"
   ]
  },
  {
   "cell_type": "code",
   "execution_count": 30,
   "metadata": {},
   "outputs": [],
   "source": [
    "# STD for the z_score of each panel\n",
    "\n",
    "STD_per_panel = {}\n",
    "\n",
    "for panelNum, scores in zscores_per_panel.items():\n",
    "    STD_per_panel[panelNum] = np.std(scores)\n"
   ]
  },
  {
   "cell_type": "code",
   "execution_count": 31,
   "metadata": {},
   "outputs": [],
   "source": [
    "# STD for the z_score of each panel\n",
    "\n",
    "STD_per_panel = {}\n",
    "\n",
    "for panelNum, scores in zscores_per_panel.items():\n",
    "    STD_per_panel[panelNum] = np.std(scores)\n"
   ]
  },
  {
   "cell_type": "code",
   "execution_count": 32,
   "metadata": {},
   "outputs": [],
   "source": [
    "#STD_per_panel"
   ]
  },
  {
   "cell_type": "code",
   "execution_count": 33,
   "metadata": {},
   "outputs": [],
   "source": [
    "# just stds in a list without panel\n",
    "\n",
    "binary_story2_just_stds_normalised = []\n",
    "\n",
    "for panel, std in STD_per_panel.items():\n",
    "    binary_story2_just_stds_normalised.append(std)\n",
    "    "
   ]
  },
  {
   "cell_type": "code",
   "execution_count": 34,
   "metadata": {},
   "outputs": [
    {
     "data": {
      "text/plain": [
       "[0.9295639044873146,\n",
       " 0.7532486755986314,\n",
       " 0.1824302142668824,\n",
       " 1.0610180950055585,\n",
       " 0.7386598629088025,\n",
       " 0.5169773472016651,\n",
       " 0.1824302142668824,\n",
       " 0.5169773472016651,\n",
       " 0.8568463396135542,\n",
       " 0.8555003730120362,\n",
       " 0.8921392707166538,\n",
       " 0.8653239758129548,\n",
       " 0.9404461186249168,\n",
       " 0.2080753860952063,\n",
       " 0.7726319567404795,\n",
       " 0.6518970700185909,\n",
       " 0.8730631112131676,\n",
       " 0.2080753860952063,\n",
       " 0.6894234534549756,\n",
       " 0.7395132306839202,\n",
       " 0.2080753860952063,\n",
       " 0.7884299318020768,\n",
       " 0.6657818494964468,\n",
       " 0.5169773472016651,\n",
       " 0.2080753860952063,\n",
       " 0.7907663162571908,\n",
       " 0.1824302142668824,\n",
       " 0.1824302142668824,\n",
       " 0.1824302142668824,\n",
       " 0.1824302142668824,\n",
       " 0.1824302142668824]"
      ]
     },
     "execution_count": 34,
     "metadata": {},
     "output_type": "execute_result"
    }
   ],
   "source": [
    "binary_story2_just_stds_normalised"
   ]
  },
  {
   "cell_type": "code",
   "execution_count": null,
   "metadata": {},
   "outputs": [],
   "source": []
  },
  {
   "cell_type": "code",
   "execution_count": 35,
   "metadata": {},
   "outputs": [],
   "source": [
    "\n",
    "# Get raw background values value per panel \n",
    "\n",
    "raw_value_per_panel = {}\n",
    "\n",
    "for participant, values in background_values.items():\n",
    "    panelNum = 0\n",
    "    for val in values:\n",
    "        panelName = panelNum + 1\n",
    "        if raw_value_per_panel.get(panelName) == None:\n",
    "            raw_value_per_panel[panelName] = []\n",
    "        if raw_value_per_panel.get(panelName) != None:\n",
    "            raw_value_per_panel[panelName].append(val)\n",
    "        panelNum += 1\n",
    "\n"
   ]
  },
  {
   "cell_type": "code",
   "execution_count": 36,
   "metadata": {},
   "outputs": [],
   "source": [
    "#raw_value_per_panel"
   ]
  },
  {
   "cell_type": "code",
   "execution_count": 37,
   "metadata": {},
   "outputs": [],
   "source": [
    "# just means in a list without panel - 1-5\n",
    "\n",
    "binary_story2_just_means_normalised = []\n",
    "\n",
    "for panel, values in raw_value_per_panel.items():\n",
    "    mean_value = np.mean(values)\n",
    "    binary_story2_just_means_normalised.append(mean_value)\n"
   ]
  },
  {
   "cell_type": "code",
   "execution_count": 38,
   "metadata": {},
   "outputs": [
    {
     "data": {
      "text/plain": [
       "[3.0,\n",
       " 4.6,\n",
       " 1.0,\n",
       " 2.6,\n",
       " 4.2,\n",
       " 1.4,\n",
       " 1.0,\n",
       " 1.4,\n",
       " 2.6,\n",
       " 3.8,\n",
       " 2.6,\n",
       " 2.2,\n",
       " 2.6,\n",
       " 5.0,\n",
       " 4.2,\n",
       " 1.4,\n",
       " 4.2,\n",
       " 5.0,\n",
       " 4.6,\n",
       " 1.8,\n",
       " 5.0,\n",
       " 4.2,\n",
       " 1.8,\n",
       " 1.4,\n",
       " 5.0,\n",
       " 4.2,\n",
       " 1.0,\n",
       " 1.0,\n",
       " 1.0,\n",
       " 1.0,\n",
       " 1.0]"
      ]
     },
     "execution_count": 38,
     "metadata": {},
     "output_type": "execute_result"
    }
   ],
   "source": [
    "binary_story2_just_means_normalised"
   ]
  },
  {
   "cell_type": "code",
   "execution_count": null,
   "metadata": {},
   "outputs": [],
   "source": []
  },
  {
   "cell_type": "code",
   "execution_count": null,
   "metadata": {},
   "outputs": [],
   "source": []
  },
  {
   "cell_type": "markdown",
   "metadata": {},
   "source": [
    "##### Calculate percentage of agreement between annotators, per panel "
   ]
  },
  {
   "cell_type": "code",
   "execution_count": 39,
   "metadata": {},
   "outputs": [],
   "source": [
    "# Get percentage agree from background_values\n",
    "\n",
    "percentage_agreement_per_panel = {}\n",
    "\n",
    "for panelNum, values in raw_value_per_panel.items():\n",
    "    Empty_counter = 0\n",
    "    Detail_counter = 0\n",
    "    for val in values:\n",
    "        if val == 1.0:\n",
    "            Empty_counter += 1\n",
    "        if val == 5.0:\n",
    "            Detail_counter += 1\n",
    "    #print(\"Empty: \", Empty_counter)\n",
    "    #print(\"Detail: \", Detail_counter)\n",
    "    if Empty_counter == 0:\n",
    "        percentage_agree = 1.0\n",
    "    if Detail_counter == 0:\n",
    "        percentage_agree = 1.0\n",
    "    else:\n",
    "        if Empty_counter > Detail_counter:\n",
    "            percentage_agree = abs(Empty_counter*.10)\n",
    "        else:\n",
    "            percentage_agree = abs(Detail_counter*.10)\n",
    "    #print(percentage_agree)\n",
    "    percentage_agreement_per_panel[panelNum] = {\"Empty\" : Empty_counter, \"Detail\" : Detail_counter, \"Agreement\" :percentage_agree}\n",
    "\n"
   ]
  },
  {
   "cell_type": "code",
   "execution_count": 40,
   "metadata": {},
   "outputs": [
    {
     "data": {
      "text/plain": [
       "{1: {'Empty': 5, 'Detail': 5, 'Agreement': 0.5},\n",
       " 2: {'Empty': 1, 'Detail': 9, 'Agreement': 0.9},\n",
       " 3: {'Empty': 10, 'Detail': 0, 'Agreement': 1.0},\n",
       " 4: {'Empty': 6, 'Detail': 4, 'Agreement': 0.6000000000000001},\n",
       " 5: {'Empty': 2, 'Detail': 8, 'Agreement': 0.8},\n",
       " 6: {'Empty': 9, 'Detail': 1, 'Agreement': 0.9},\n",
       " 7: {'Empty': 10, 'Detail': 0, 'Agreement': 1.0},\n",
       " 8: {'Empty': 9, 'Detail': 1, 'Agreement': 0.9},\n",
       " 9: {'Empty': 6, 'Detail': 4, 'Agreement': 0.6000000000000001},\n",
       " 10: {'Empty': 3, 'Detail': 7, 'Agreement': 0.7000000000000001},\n",
       " 11: {'Empty': 6, 'Detail': 4, 'Agreement': 0.6000000000000001},\n",
       " 12: {'Empty': 7, 'Detail': 3, 'Agreement': 0.7000000000000001},\n",
       " 13: {'Empty': 6, 'Detail': 4, 'Agreement': 0.6000000000000001},\n",
       " 14: {'Empty': 0, 'Detail': 10, 'Agreement': 1.0},\n",
       " 15: {'Empty': 2, 'Detail': 8, 'Agreement': 0.8},\n",
       " 16: {'Empty': 9, 'Detail': 1, 'Agreement': 0.9},\n",
       " 17: {'Empty': 2, 'Detail': 8, 'Agreement': 0.8},\n",
       " 18: {'Empty': 0, 'Detail': 10, 'Agreement': 1.0},\n",
       " 19: {'Empty': 1, 'Detail': 9, 'Agreement': 0.9},\n",
       " 20: {'Empty': 8, 'Detail': 2, 'Agreement': 0.8},\n",
       " 21: {'Empty': 0, 'Detail': 10, 'Agreement': 1.0},\n",
       " 22: {'Empty': 2, 'Detail': 8, 'Agreement': 0.8},\n",
       " 23: {'Empty': 8, 'Detail': 2, 'Agreement': 0.8},\n",
       " 24: {'Empty': 9, 'Detail': 1, 'Agreement': 0.9},\n",
       " 25: {'Empty': 0, 'Detail': 10, 'Agreement': 1.0},\n",
       " 26: {'Empty': 2, 'Detail': 8, 'Agreement': 0.8},\n",
       " 27: {'Empty': 10, 'Detail': 0, 'Agreement': 1.0},\n",
       " 28: {'Empty': 10, 'Detail': 0, 'Agreement': 1.0},\n",
       " 29: {'Empty': 10, 'Detail': 0, 'Agreement': 1.0},\n",
       " 30: {'Empty': 10, 'Detail': 0, 'Agreement': 1.0},\n",
       " 31: {'Empty': 10, 'Detail': 0, 'Agreement': 1.0}}"
      ]
     },
     "execution_count": 40,
     "metadata": {},
     "output_type": "execute_result"
    }
   ],
   "source": [
    "percentage_agreement_per_panel\n"
   ]
  },
  {
   "cell_type": "code",
   "execution_count": 41,
   "metadata": {},
   "outputs": [],
   "source": [
    "\n",
    "panel_percentage_agreement = {}\n",
    "\n",
    "for panel, info in percentage_agreement_per_panel.items():\n",
    "    panel_percentage_agreement[panel] = info[\"Agreement\"]\n",
    "\n"
   ]
  },
  {
   "cell_type": "code",
   "execution_count": 42,
   "metadata": {},
   "outputs": [
    {
     "data": {
      "text/plain": [
       "{1: 0.5,\n",
       " 2: 0.9,\n",
       " 3: 1.0,\n",
       " 4: 0.6000000000000001,\n",
       " 5: 0.8,\n",
       " 6: 0.9,\n",
       " 7: 1.0,\n",
       " 8: 0.9,\n",
       " 9: 0.6000000000000001,\n",
       " 10: 0.7000000000000001,\n",
       " 11: 0.6000000000000001,\n",
       " 12: 0.7000000000000001,\n",
       " 13: 0.6000000000000001,\n",
       " 14: 1.0,\n",
       " 15: 0.8,\n",
       " 16: 0.9,\n",
       " 17: 0.8,\n",
       " 18: 1.0,\n",
       " 19: 0.9,\n",
       " 20: 0.8,\n",
       " 21: 1.0,\n",
       " 22: 0.8,\n",
       " 23: 0.8,\n",
       " 24: 0.9,\n",
       " 25: 1.0,\n",
       " 26: 0.8,\n",
       " 27: 1.0,\n",
       " 28: 1.0,\n",
       " 29: 1.0,\n",
       " 30: 1.0,\n",
       " 31: 1.0}"
      ]
     },
     "execution_count": 42,
     "metadata": {},
     "output_type": "execute_result"
    }
   ],
   "source": [
    "panel_percentage_agreement"
   ]
  },
  {
   "cell_type": "markdown",
   "metadata": {},
   "source": [
    "##### Sort by least agreed to most agreed panel"
   ]
  },
  {
   "cell_type": "code",
   "execution_count": 43,
   "metadata": {},
   "outputs": [
    {
     "name": "stdout",
     "output_type": "stream",
     "text": [
      "[(1, 0.5), (4, 0.6000000000000001), (9, 0.6000000000000001), (11, 0.6000000000000001), (13, 0.6000000000000001), (10, 0.7000000000000001), (12, 0.7000000000000001), (5, 0.8), (15, 0.8), (17, 0.8), (20, 0.8), (22, 0.8), (23, 0.8), (26, 0.8), (2, 0.9), (6, 0.9), (8, 0.9), (16, 0.9), (19, 0.9), (24, 0.9), (3, 1.0), (7, 1.0), (14, 1.0), (18, 1.0), (21, 1.0), (25, 1.0), (27, 1.0), (28, 1.0), (29, 1.0), (30, 1.0), (31, 1.0)]\n"
     ]
    }
   ],
   "source": [
    "import operator\n",
    "sorted_agreement_per_panel = sorted(panel_percentage_agreement.items(), key=operator.itemgetter(1))\n",
    "\n",
    "print(sorted_agreement_per_panel)\n",
    "\n"
   ]
  },
  {
   "cell_type": "code",
   "execution_count": null,
   "metadata": {},
   "outputs": [],
   "source": []
  },
  {
   "cell_type": "code",
   "execution_count": null,
   "metadata": {},
   "outputs": [],
   "source": []
  },
  {
   "cell_type": "markdown",
   "metadata": {},
   "source": [
    "## Pearson's r and Spearman's rank between annotator pairs"
   ]
  },
  {
   "cell_type": "markdown",
   "metadata": {},
   "source": [
    "##### Calculate Pearson's r scores between each annotator pair"
   ]
  },
  {
   "cell_type": "code",
   "execution_count": 44,
   "metadata": {},
   "outputs": [],
   "source": [
    "# Pearson's r function \n",
    "\n",
    "def get_pearsonsr(values_Ann1, values_Ann2):\n",
    "    \"\"\"\n",
    "    Takes: two lists of values\n",
    "    Returns: nothing, but prints the the p value and states whether the null hypothesis was rejected.\n",
    "    \"\"\"\n",
    "    \n",
    "    # compare samples\n",
    "    coef, p = pearsonr(values_Ann1, values_Ann2)\n",
    "    print('Pearsons correlation coefficient: %.3f' % coef)\n",
    "    # interpret the significance\n",
    "    alpha = 0.01\n",
    "    if p > alpha:\n",
    "        print('Samples are uncorrelated (fail to reject H0) p=%.3f' % p)\n",
    "    else:\n",
    "        print('Samples are correlated (reject H0) p=%.3f' % p)\n",
    "    \n",
    "    return coef, p\n"
   ]
  },
  {
   "cell_type": "code",
   "execution_count": 45,
   "metadata": {},
   "outputs": [
    {
     "name": "stdout",
     "output_type": "stream",
     "text": [
      "Pearsons correlation coefficient: 0.743\n",
      "Samples are correlated (reject H0) p=0.000\n",
      "Pearsons correlation coefficient: 0.640\n",
      "Samples are correlated (reject H0) p=0.000\n",
      "Pearsons correlation coefficient: 0.411\n",
      "Samples are uncorrelated (fail to reject H0) p=0.022\n",
      "Pearsons correlation coefficient: 0.622\n",
      "Samples are correlated (reject H0) p=0.000\n",
      "Pearsons correlation coefficient: 0.542\n",
      "Samples are correlated (reject H0) p=0.002\n",
      "Pearsons correlation coefficient: 0.455\n",
      "Samples are uncorrelated (fail to reject H0) p=0.010\n",
      "Pearsons correlation coefficient: 0.490\n",
      "Samples are correlated (reject H0) p=0.005\n",
      "Pearsons correlation coefficient: 0.682\n",
      "Samples are correlated (reject H0) p=0.000\n",
      "Pearsons correlation coefficient: 0.546\n",
      "Samples are correlated (reject H0) p=0.001\n",
      "Pearsons correlation coefficient: 0.675\n",
      "Samples are correlated (reject H0) p=0.000\n",
      "Pearsons correlation coefficient: 0.667\n",
      "Samples are correlated (reject H0) p=0.000\n",
      "Pearsons correlation coefficient: 0.443\n",
      "Samples are uncorrelated (fail to reject H0) p=0.012\n",
      "Pearsons correlation coefficient: 0.801\n",
      "Samples are correlated (reject H0) p=0.000\n",
      "Pearsons correlation coefficient: 0.360\n",
      "Samples are uncorrelated (fail to reject H0) p=0.047\n",
      "Pearsons correlation coefficient: 0.637\n",
      "Samples are correlated (reject H0) p=0.000\n",
      "Pearsons correlation coefficient: 0.933\n",
      "Samples are correlated (reject H0) p=0.000\n",
      "Pearsons correlation coefficient: 0.795\n",
      "Samples are correlated (reject H0) p=0.000\n",
      "Pearsons correlation coefficient: 0.457\n",
      "Samples are correlated (reject H0) p=0.010\n",
      "Pearsons correlation coefficient: 0.447\n",
      "Samples are uncorrelated (fail to reject H0) p=0.012\n",
      "Pearsons correlation coefficient: 0.590\n",
      "Samples are correlated (reject H0) p=0.000\n",
      "Pearsons correlation coefficient: 0.533\n",
      "Samples are correlated (reject H0) p=0.002\n",
      "Pearsons correlation coefficient: 0.747\n",
      "Samples are correlated (reject H0) p=0.000\n",
      "Pearsons correlation coefficient: 0.630\n",
      "Samples are correlated (reject H0) p=0.000\n",
      "Pearsons correlation coefficient: 0.630\n",
      "Samples are correlated (reject H0) p=0.000\n",
      "Pearsons correlation coefficient: 0.392\n",
      "Samples are uncorrelated (fail to reject H0) p=0.029\n",
      "Pearsons correlation coefficient: 0.603\n",
      "Samples are correlated (reject H0) p=0.000\n",
      "Pearsons correlation coefficient: 0.004\n",
      "Samples are uncorrelated (fail to reject H0) p=0.982\n",
      "Pearsons correlation coefficient: 0.561\n",
      "Samples are correlated (reject H0) p=0.001\n",
      "Pearsons correlation coefficient: 0.736\n",
      "Samples are correlated (reject H0) p=0.000\n",
      "Pearsons correlation coefficient: 0.599\n",
      "Samples are correlated (reject H0) p=0.000\n",
      "Pearsons correlation coefficient: 0.532\n",
      "Samples are correlated (reject H0) p=0.002\n",
      "Pearsons correlation coefficient: 0.265\n",
      "Samples are uncorrelated (fail to reject H0) p=0.150\n",
      "Pearsons correlation coefficient: 0.392\n",
      "Samples are uncorrelated (fail to reject H0) p=0.029\n",
      "Pearsons correlation coefficient: 0.498\n",
      "Samples are correlated (reject H0) p=0.004\n",
      "Pearsons correlation coefficient: 0.354\n",
      "Samples are uncorrelated (fail to reject H0) p=0.051\n",
      "Pearsons correlation coefficient: 0.273\n",
      "Samples are uncorrelated (fail to reject H0) p=0.138\n",
      "Pearsons correlation coefficient: 0.692\n",
      "Samples are correlated (reject H0) p=0.000\n",
      "Pearsons correlation coefficient: 0.736\n",
      "Samples are correlated (reject H0) p=0.000\n",
      "Pearsons correlation coefficient: 0.599\n",
      "Samples are correlated (reject H0) p=0.000\n",
      "Pearsons correlation coefficient: 0.291\n",
      "Samples are uncorrelated (fail to reject H0) p=0.113\n",
      "Pearsons correlation coefficient: 0.313\n",
      "Samples are uncorrelated (fail to reject H0) p=0.087\n",
      "Pearsons correlation coefficient: 0.313\n",
      "Samples are uncorrelated (fail to reject H0) p=0.087\n",
      "Pearsons correlation coefficient: 0.583\n",
      "Samples are correlated (reject H0) p=0.001\n",
      "Pearsons correlation coefficient: 0.583\n",
      "Samples are correlated (reject H0) p=0.001\n",
      "Pearsons correlation coefficient: 0.718\n",
      "Samples are correlated (reject H0) p=0.000\n",
      "[0.7426602870298765, 0.6398534855276592, 0.411031709246245, 0.6217512604345414, 0.542392358592983, 0.4550404070818898, 0.489544034122098, 0.6817494235765675, 0.5462735765837881, 0.6753816335059707, 0.6667228946148681, 0.4432968684948909, 0.8009333474269519, 0.35964912280701755, 0.6369615602528664, 0.933184511944628, 0.7947695843356162, 0.4572649572649572, 0.4465988686176326, 0.5897435897435895, 0.5325124418027843, 0.746895283224204, 0.6302556800396347, 0.6302556800396346, 0.39246567242155594, 0.6025641025641023, 0.00432936944555104, 0.5612263992588653, 0.7360328571092234, 0.5994040033943376, 0.5323097625947539, 0.26506410693508947, 0.3919831548048892, 0.49780905256318175, 0.35358399995141876, 0.2727502750697188, 0.6920385675071723, 0.7360328571092234, 0.5994040033943377, 0.290693866424127, 0.3125498365364782, 0.3125498365364782, 0.583160147451588, 0.5831601474515878, 0.7181818181818178]\n",
      "correlated:  14\n",
      "not correlated:  31\n",
      "mean:  0.5447114756225866\n",
      "std:  0.17514591334154536\n"
     ]
    }
   ],
   "source": [
    "corr = 0\n",
    "not_corr = 0\n",
    "\n",
    "pearsons_values = []\n",
    "for participant_pair in combinations_all_participants:\n",
    "    ann1 = participant_pair[0]\n",
    "    ann2 = participant_pair[1]\n",
    "    pearsons_value, p = get_pearsonsr(background_values[ann1], background_values[ann2])\n",
    "    if p > 0.01:\n",
    "        corr +=1\n",
    "    if p < 0.01:\n",
    "        not_corr +=1\n",
    "    pearsons_values.append(pearsons_value)\n",
    "    \n",
    "print(pearsons_values)\n",
    "print(\"correlated: \", corr)\n",
    "print(\"not correlated: \", not_corr)\n",
    "print(\"mean: \", np.mean(pearsons_values))\n",
    "print(\"std: \", np.std(pearsons_values))\n"
   ]
  },
  {
   "cell_type": "code",
   "execution_count": null,
   "metadata": {},
   "outputs": [],
   "source": []
  },
  {
   "cell_type": "markdown",
   "metadata": {},
   "source": [
    "##### Calculate Spearman's rank between each annotator pair"
   ]
  },
  {
   "cell_type": "code",
   "execution_count": 47,
   "metadata": {},
   "outputs": [],
   "source": [
    "# Spearman's rank function \n",
    "\n",
    "def get_spearmans_rank(values_Ann1, values_Ann2):\n",
    "    \"\"\"\n",
    "    Takes: two lists of values\n",
    "    Returns: nothing, but prints the the p value and states whether the null hypothesis was rejected.\n",
    "    \"\"\"\n",
    "    # compare samples\n",
    "    coef, p = spearmanr(values_Ann1, values_Ann2)\n",
    "    print('%.3f' % coef)\n",
    "    # interpret the significance\n",
    "    alpha = 0.05\n",
    "    if p > alpha:\n",
    "        print('Samples are uncorrelated (fail to reject H0) p=%.3f' % p)\n",
    "    else:\n",
    "        print('Samples are correlated (reject H0) p=%.3f' % p)\n",
    "        \n",
    "    return coef\n",
    "\n"
   ]
  },
  {
   "cell_type": "code",
   "execution_count": 50,
   "metadata": {},
   "outputs": [
    {
     "name": "stdout",
     "output_type": "stream",
     "text": [
      "participant1 and participant2:\n",
      "0.743\n",
      "Samples are correlated (reject H0) p=0.000\n",
      "participant1 and participant3:\n",
      "0.640\n",
      "Samples are correlated (reject H0) p=0.000\n",
      "participant1 and participant4:\n",
      "0.411\n",
      "Samples are correlated (reject H0) p=0.022\n",
      "participant1 and participant5:\n",
      "0.622\n",
      "Samples are correlated (reject H0) p=0.000\n",
      "participant1 and participant6:\n",
      "0.542\n",
      "Samples are correlated (reject H0) p=0.002\n",
      "participant1 and participant7:\n",
      "0.455\n",
      "Samples are correlated (reject H0) p=0.010\n",
      "participant1 and participant8:\n",
      "0.490\n",
      "Samples are correlated (reject H0) p=0.005\n",
      "participant1 and participant9:\n",
      "0.682\n",
      "Samples are correlated (reject H0) p=0.000\n",
      "participant1 and participant10:\n",
      "0.546\n",
      "Samples are correlated (reject H0) p=0.001\n",
      "participant2 and participant3:\n",
      "0.675\n",
      "Samples are correlated (reject H0) p=0.000\n",
      "participant2 and participant4:\n",
      "0.667\n",
      "Samples are correlated (reject H0) p=0.000\n",
      "participant2 and participant5:\n",
      "0.443\n",
      "Samples are correlated (reject H0) p=0.012\n",
      "participant2 and participant6:\n",
      "0.801\n",
      "Samples are correlated (reject H0) p=0.000\n",
      "participant2 and participant7:\n",
      "0.360\n",
      "Samples are correlated (reject H0) p=0.047\n",
      "participant2 and participant8:\n",
      "0.637\n",
      "Samples are correlated (reject H0) p=0.000\n",
      "participant2 and participant9:\n",
      "0.933\n",
      "Samples are correlated (reject H0) p=0.000\n",
      "participant2 and participant10:\n",
      "0.795\n",
      "Samples are correlated (reject H0) p=0.000\n",
      "participant3 and participant4:\n",
      "0.457\n",
      "Samples are correlated (reject H0) p=0.010\n",
      "participant3 and participant5:\n",
      "0.447\n",
      "Samples are correlated (reject H0) p=0.012\n",
      "participant3 and participant6:\n",
      "0.590\n",
      "Samples are correlated (reject H0) p=0.000\n",
      "participant3 and participant7:\n",
      "0.533\n",
      "Samples are correlated (reject H0) p=0.002\n",
      "participant3 and participant8:\n",
      "0.747\n",
      "Samples are correlated (reject H0) p=0.000\n",
      "participant3 and participant9:\n",
      "0.630\n",
      "Samples are correlated (reject H0) p=0.000\n",
      "participant3 and participant10:\n",
      "0.630\n",
      "Samples are correlated (reject H0) p=0.000\n",
      "participant4 and participant5:\n",
      "0.392\n",
      "Samples are correlated (reject H0) p=0.029\n",
      "participant4 and participant6:\n",
      "0.603\n",
      "Samples are correlated (reject H0) p=0.000\n",
      "participant4 and participant7:\n",
      "0.004\n",
      "Samples are uncorrelated (fail to reject H0) p=0.982\n",
      "participant4 and participant8:\n",
      "0.561\n",
      "Samples are correlated (reject H0) p=0.001\n",
      "participant4 and participant9:\n",
      "0.736\n",
      "Samples are correlated (reject H0) p=0.000\n",
      "participant4 and participant10:\n",
      "0.599\n",
      "Samples are correlated (reject H0) p=0.000\n",
      "participant5 and participant6:\n",
      "0.532\n",
      "Samples are correlated (reject H0) p=0.002\n",
      "participant5 and participant7:\n",
      "0.265\n",
      "Samples are uncorrelated (fail to reject H0) p=0.150\n",
      "participant5 and participant8:\n",
      "0.392\n",
      "Samples are correlated (reject H0) p=0.029\n",
      "participant5 and participant9:\n",
      "0.498\n",
      "Samples are correlated (reject H0) p=0.004\n",
      "participant5 and participant10:\n",
      "0.354\n",
      "Samples are uncorrelated (fail to reject H0) p=0.051\n",
      "participant6 and participant7:\n",
      "0.273\n",
      "Samples are uncorrelated (fail to reject H0) p=0.138\n",
      "participant6 and participant8:\n",
      "0.692\n",
      "Samples are correlated (reject H0) p=0.000\n",
      "participant6 and participant9:\n",
      "0.736\n",
      "Samples are correlated (reject H0) p=0.000\n",
      "participant6 and participant10:\n",
      "0.599\n",
      "Samples are correlated (reject H0) p=0.000\n",
      "participant7 and participant8:\n",
      "0.291\n",
      "Samples are uncorrelated (fail to reject H0) p=0.113\n",
      "participant7 and participant9:\n",
      "0.313\n",
      "Samples are uncorrelated (fail to reject H0) p=0.087\n",
      "participant7 and participant10:\n",
      "0.313\n",
      "Samples are uncorrelated (fail to reject H0) p=0.087\n",
      "participant8 and participant9:\n",
      "0.583\n",
      "Samples are correlated (reject H0) p=0.001\n",
      "participant8 and participant10:\n",
      "0.583\n",
      "Samples are correlated (reject H0) p=0.001\n",
      "participant9 and participant10:\n",
      "0.718\n",
      "Samples are correlated (reject H0) p=0.000\n",
      "********************\n",
      "[0.7426602870298766, 0.6398534855276595, 0.4110317092462449, 0.6217512604345412, 0.5423923585929828, 0.45504040708188975, 0.48954403412209796, 0.6817494235765678, 0.5462735765837882, 0.6753816335059705, 0.6667228946148682, 0.44329686849489114, 0.8009333474269522, 0.3596491228070176, 0.6369615602528665, 0.9331845119446278, 0.7947695843356161, 0.45726495726495736, 0.4465988686176326, 0.5897435897435899, 0.5325124418027845, 0.7468952832242043, 0.6302556800396345, 0.6302556800396345, 0.39246567242155594, 0.6025641025641026, 0.004329369445551093, 0.5612263992588653, 0.7360328571092236, 0.5994040033943377, 0.532309762594754, 0.2650641069350895, 0.3919831548048891, 0.49780905256318186, 0.3535839999514189, 0.27275027506971883, 0.6920385675071723, 0.7360328571092236, 0.5994040033943377, 0.29069386642412703, 0.3125498365364782, 0.3125498365364782, 0.5831601474515877, 0.5831601474515877, 0.718181818181818]\n",
      "********************\n",
      "\n",
      "\n",
      "all pairwise Spearman's rank scores: \n",
      "\n",
      "[0.7426602870298766, 0.6398534855276595, 0.4110317092462449, 0.6217512604345412, 0.5423923585929828, 0.45504040708188975, 0.48954403412209796, 0.6817494235765678, 0.5462735765837882, 0.6753816335059705, 0.6667228946148682, 0.44329686849489114, 0.8009333474269522, 0.3596491228070176, 0.6369615602528665, 0.9331845119446278, 0.7947695843356161, 0.45726495726495736, 0.4465988686176326, 0.5897435897435899, 0.5325124418027845, 0.7468952832242043, 0.6302556800396345, 0.6302556800396345, 0.39246567242155594, 0.6025641025641026, 0.004329369445551093, 0.5612263992588653, 0.7360328571092236, 0.5994040033943377, 0.532309762594754, 0.2650641069350895, 0.3919831548048891, 0.49780905256318186, 0.3535839999514189, 0.27275027506971883, 0.6920385675071723, 0.7360328571092236, 0.5994040033943377, 0.29069386642412703, 0.3125498365364782, 0.3125498365364782, 0.5831601474515877, 0.5831601474515877, 0.718181818181818]\n",
      "\n",
      "\n",
      "correlated:  14\n",
      "not correlated:  31\n",
      "mean:  0.5447114756225866\n",
      "std:  0.17514591334154536\n"
     ]
    }
   ],
   "source": [
    "# Calculate Spearman's r between all combinations of annotators\n",
    "\n",
    "spearmans_values = []\n",
    "for participant_pair in combinations_all_participants:\n",
    "    ann1 = participant_pair[0]\n",
    "    ann2 = participant_pair[1]\n",
    "    print(ann1 + \" and \" + ann2 + \":\")\n",
    "    spearmans_value = get_spearmans_rank(background_values[ann1], background_values[ann2])\n",
    "    spearmans_values.append(spearmans_value)\n",
    "print(\"********************\")\n",
    "print(spearmans_values)\n",
    "\n",
    "print(\"********************\")\n",
    "\n",
    "print(\"\\n\")    \n",
    "print(\"all pairwise Spearman's rank scores: \\n\")\n",
    "\n",
    "print(spearmans_values)\n",
    "print(\"\\n\")  \n",
    "print(\"correlated: \", corr)\n",
    "print(\"not correlated: \", not_corr)\n",
    "print(\"mean: \", np.mean(spearmans_values))\n",
    "print(\"std: \", np.std(spearmans_values))\n"
   ]
  },
  {
   "cell_type": "code",
   "execution_count": null,
   "metadata": {},
   "outputs": [],
   "source": []
  },
  {
   "cell_type": "markdown",
   "metadata": {},
   "source": [
    "##### Calculate Cohen's Kappa between each annotator pair"
   ]
  },
  {
   "cell_type": "code",
   "execution_count": 52,
   "metadata": {},
   "outputs": [
    {
     "name": "stdout",
     "output_type": "stream",
     "text": [
      "Pairwise Cohen's kappa values: \n",
      "\n",
      "[0.7361702127659575, 0.6188524590163935, 0.41014799154334036, 0.5991379310344828, 0.5412262156448202, 0.43177189409368644, 0.48547717842323646, 0.6680942184154176, 0.5353319057815846, 0.6265060240963856, 0.6652267818574514, 0.43891402714932126, 0.7991360691144709, 0.3247524752475247, 0.615702479338843, 0.9309576837416481, 0.7928730512249443, 0.43407707910750504, 0.38976377952755903, 0.5598377281947262, 0.531317494600432, 0.7405857740585774, 0.5685884691848907, 0.5685884691848907, 0.3841059602649006, 0.6025641025641026, 0.004016064257028273, 0.5507246376811594, 0.7292576419213974, 0.5938864628820961, 0.5209713024282561, 0.22350674373795765, 0.36213991769547316, 0.49651972157772617, 0.35266821345707655, 0.2530120481927711, 0.679089026915114, 0.7292576419213974, 0.5938864628820961, 0.2851153039832285, 0.2734375, 0.2734375, 0.5525773195876289, 0.5525773195876289, 0.7181818181818183]\n",
      "\n",
      "\n",
      "mean:  0.5276437800459323\n"
     ]
    }
   ],
   "source": [
    "# Cohens Kappa\n",
    "CKappa_values = []\n",
    "for participant_pair in combinations_all_participants:\n",
    "    ann1 = participant_pair[0]\n",
    "    ann2 = participant_pair[1]\n",
    "    CKappa_value = cohen_kappa_score(background_values[ann1], background_values[ann2])\n",
    "    CKappa_values.append(CKappa_value)\n",
    "    \n",
    "print(\"Pairwise Cohen's kappa values: \\n\")\n",
    "print(CKappa_values)\n",
    "print(\"\\n\")\n",
    "print(\"mean: \", np.mean(CKappa_values))\n"
   ]
  },
  {
   "cell_type": "code",
   "execution_count": null,
   "metadata": {},
   "outputs": [],
   "source": []
  },
  {
   "cell_type": "markdown",
   "metadata": {},
   "source": [
    "## Heatmaps: Annotator agreement and reliability"
   ]
  },
  {
   "cell_type": "code",
   "execution_count": 54,
   "metadata": {},
   "outputs": [],
   "source": [
    "# Additional utilities for plotting images\n",
    "# from: https://shravan-kuchkula.github.io/nlp/document_similarity/#plot-a-heatmap-of-cosine-similarity-values\n",
    "\n",
    "##############################\n",
    "#  Module: utils.py\n",
    "#  Author: Shravan Kuchkula\n",
    "#  Date: 07/19/2019\n",
    "##############################\n",
    "\n",
    "from sklearn.feature_extraction.text import CountVectorizer, TfidfVectorizer\n",
    "import numpy as np\n",
    "import seaborn as sns\n",
    "import matplotlib.pyplot as plt\n",
    "import pandas as pd\n",
    "\n",
    "\n",
    "def plot_heatmap(df_hm, xlabels, ylabels, title):\n",
    "    \"\"\"\n",
    "    Given a dataframe containing similarity grid, plot the heatmap\n",
    "    \"\"\"\n",
    "    sns.set(style=\"white\")\n",
    "\n",
    "    # Set up the matplotlib figure\n",
    "    # (to enlarge the cells, increase the figure size)\n",
    "    fig, ax = plt.subplots(figsize=(10, 10)) \n",
    "\n",
    "    # Generate a custom diverging colormap\n",
    "    #sns.diverging_palette(\"coolwarm\", as_cmap=True)\n",
    "\n",
    "    #cmap = sns.color_palette(\"viridis\", as_cmap=True)\n",
    "    #sns.diverging_palette(\"coolwarm\", as_cmap=True)\n",
    "    #cmap = sns.diverging_palette(\"coolwarm\")\n",
    "    cmap = sns.diverging_palette(260, 10, as_cmap=True)\n",
    "\n",
    "    # Generate a mask for the upper triangle\n",
    "    mask = np.zeros_like(df_hm, dtype = bool)\n",
    "    mask[np.triu_indices_from(mask)] = True\n",
    "\n",
    "    # Draw the heatmap with the mask and correct aspect ratio\n",
    "    sns.heatmap(df_hm, mask=mask, cmap=cmap, center=0.5, xticklabels=xlabels,\n",
    "                yticklabels=ylabels,\n",
    "                square=True, linewidths=.5, fmt='.2f',\n",
    "                annot=True, vmin=0, vmax=1, cbar_kws={\"shrink\": 0.75},\n",
    "                cbar=True)  \n",
    "    # NOTE: center is the center color value\n",
    "    # NOTE: vmin and vmax are the color map interval\n",
    "    \n",
    "#     b, t = plt.ylim() # discover the values for bottom and top\n",
    "#     b += 0.5 # Add 0.5 to the bottom\n",
    "#     t -= 0.5 # Subtract 0.5 from the top\n",
    "#     plt.ylim(b, t) # update the ylim(bottom, top) values\n",
    "\n",
    "    # create xtick locations\n",
    "    xtick_locations = []\n",
    "    for i in range(len(xlabels)):\n",
    "        xtick_locations.append(i+0.5)\n",
    "    #print(xtick_locations)\n",
    "    \n",
    "\n",
    "    ax.set_title(title).set_fontsize(15) # change the title to reflect the type of score\n",
    "    ax.set_xlabel(\"\")\n",
    "    ax.set_ylabel(\"\")\n",
    "    #ax.set_xticks(xtick_locations)\n",
    "    #ax.set_xticklabels(xlabels)\n",
    "    plt.xticks(rotation=45)\n",
    "    plt.yticks(rotation=0)\n",
    "    \n",
    "    plt.show()\n",
    "    \n",
    "\n"
   ]
  },
  {
   "cell_type": "code",
   "execution_count": 55,
   "metadata": {},
   "outputs": [],
   "source": [
    "# Heat Map of Similarity between Annotators\n",
    "# code from: https://shravan-kuchkula.github.io/nlp/document_similarity/#\n",
    "\n",
    "def create_heatmap_between_annotators_for_one_story(story_combinations, \n",
    "                                                    similarity_scores, \n",
    "                                                    annotators_list,\n",
    "                                                    title):\n",
    "    \n",
    "\n",
    "    # create dict with annotator name as the key and annotator index number from list as the value \n",
    "    annotator_to_idx = {annotator_name: i for i, annotator_name in enumerate(annotators_list)}\n",
    "    #print(annotator_to_idx)\n",
    "    \n",
    "    # create a dataframe\n",
    "    df = pd.DataFrame({'pairs': story_combinations, 'similarity': similarity_scores})\n",
    "    #display(df.head())\n",
    "    #display(df.tail())\n",
    "\n",
    "    # initialize an empty dataframe grid\n",
    "    df_hm = pd.DataFrame({'ind': range(len(annotators_list)), 'cols': range(len(annotators_list)), 'vals': pd.Series(np.zeros(len(annotators_list)))})\n",
    "\n",
    "    # convert to a matrix\n",
    "    df_hm = df_hm.pivot(index='ind', columns='cols')#.fillna(0)\n",
    "\n",
    "    #print(df_hm)\n",
    "\n",
    "    # make a copy\n",
    "    df_temp = df.copy()\n",
    "\n",
    "    # convert list of tuples into 2 lists\n",
    "    list1 = []\n",
    "    list2 = []\n",
    "    for item1, item2 in df_temp.pairs:\n",
    "        list1.append(item1)\n",
    "        list2.append(item2)\n",
    "\n",
    "    #print(list1)\n",
    "    #print(list2)\n",
    "\n",
    "    # add two columns to df_temp\n",
    "    df_temp['col1'] = list1\n",
    "    df_temp['col2'] = list2\n",
    "\n",
    "    # drop the pair as it not needed\n",
    "    df_temp.drop('pairs', axis=1, inplace=True)\n",
    "\n",
    "    # extract annotator index so that you can construct annotator pairs \n",
    "    df_temp['col1'] = df_temp['col1'].apply(lambda x: annotator_to_idx[x])\n",
    "    df_temp['col2'] = df_temp['col2'].apply(lambda x: annotator_to_idx[x])\n",
    "\n",
    "    # create tuples (0, 1, similarity)\n",
    "    df_temp['pairs'] = list(zip(df_temp.col1, df_temp.col2, round(df_temp.similarity, 2)))\n",
    "\n",
    "    #display(df_temp)\n",
    "\n",
    "    # to get lower diagonal, swap the rows and cols.\n",
    "    for row, col, similarity in df_temp.pairs:\n",
    "        df_hm.iloc[col, row] = similarity\n",
    "    \n",
    "    plot_heatmap(df_hm, annotators_list, annotators_list, title)\n",
    "\n",
    "\n",
    "    "
   ]
  },
  {
   "cell_type": "code",
   "execution_count": 58,
   "metadata": {},
   "outputs": [
    {
     "data": {
      "image/png": "[encoded data removed]",
      "text/plain": [
       "<Figure size 720x720 with 2 Axes>"
      ]
     },
     "metadata": {},
     "output_type": "display_data"
    }
   ],
   "source": [
    "annotators = [\"participant1\",\n",
    "              \"participant2\",\n",
    "              \"participant3\",\n",
    "              \"participant4\",\n",
    "              \"participant5\",\n",
    "              \"participant6\",\n",
    "              \"participant7\",\n",
    "              \"participant8\",\n",
    "              \"participant9\",\n",
    "              \"participant10\"]\n",
    "\n",
    "heatmap = create_heatmap_between_annotators_for_one_story(combinations_all_participants, \n",
    "                                                          pearsons_values,\n",
    "                                                          annotators,\n",
    "                                                          \"Heatmap of Pearson's r scores between \\n annotator pairs using a binary scale, Story 2\")\n",
    "\n"
   ]
  },
  {
   "cell_type": "code",
   "execution_count": 59,
   "metadata": {},
   "outputs": [
    {
     "data": {
      "image/png": "[encoded data removed]",
      "text/plain": [
       "<Figure size 720x720 with 2 Axes>"
      ]
     },
     "metadata": {},
     "output_type": "display_data"
    }
   ],
   "source": [
    "annotators = [\"participant1\",\n",
    "              \"participant2\",\n",
    "              \"participant3\",\n",
    "              \"participant4\",\n",
    "              \"participant5\",\n",
    "              \"participant6\",\n",
    "              \"participant7\",\n",
    "              \"participant8\",\n",
    "              \"participant9\",\n",
    "              \"participant10\"]\n",
    "\n",
    "heatmap = create_heatmap_between_annotators_for_one_story(combinations_all_participants, \n",
    "                                                          CKappa_values,\n",
    "                                                          annotators,\n",
    "                                                          \"Heatmap of Cohen's Kappa scores between \\n annotator pairs using a binary scale, Story 2\")\n",
    "\n"
   ]
  },
  {
   "cell_type": "code",
   "execution_count": 60,
   "metadata": {},
   "outputs": [
    {
     "data": {
      "image/png": "[encoded data removed]",
      "text/plain": [
       "<Figure size 720x720 with 2 Axes>"
      ]
     },
     "metadata": {},
     "output_type": "display_data"
    }
   ],
   "source": [
    "annotators = [\"participant1\",\n",
    "              \"participant2\",\n",
    "              \"participant3\",\n",
    "              \"participant4\",\n",
    "              \"participant5\",\n",
    "              \"participant6\",\n",
    "              \"participant7\",\n",
    "              \"participant8\",\n",
    "              \"participant9\",\n",
    "              \"participant10\"]\n",
    "\n",
    "heatmap = create_heatmap_between_annotators_for_one_story(combinations_all_participants, \n",
    "                                                          KA_values,\n",
    "                                                          annotators,\n",
    "                                                          \"Heatmap of Krippendorff's alpha scores between \\n annotator pairs using a binary scale, Story 2\")\n"
   ]
  },
  {
   "cell_type": "code",
   "execution_count": null,
   "metadata": {},
   "outputs": [],
   "source": []
  }
 ],
 "metadata": {
  "kernelspec": {
   "display_name": "Python 3 (ipykernel)",
   "language": "python",
   "name": "python3"
  },
  "language_info": {
   "codemirror_mode": {
    "name": "ipython",
    "version": 3
   },
   "file_extension": ".py",
   "mimetype": "text/x-python",
   "name": "python",
   "nbconvert_exporter": "python",
   "pygments_lexer": "ipython3",
   "version": "3.9.10"
  }
 },
 "nbformat": 4,
 "nbformat_minor": 2
}
